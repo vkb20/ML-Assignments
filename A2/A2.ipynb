{
  "nbformat": 4,
  "nbformat_minor": 0,
  "metadata": {
    "colab": {
      "provenance": [],
      "toc_visible": true
    },
    "kernelspec": {
      "name": "python3",
      "display_name": "Python 3"
    },
    "language_info": {
      "name": "python"
    }
  },
  "cells": [
    {
      "cell_type": "code",
      "execution_count": 1,
      "metadata": {
        "colab": {
          "base_uri": "https://localhost:8080/"
        },
        "id": "UBphM3dfhORs",
        "outputId": "341e10b3-3fe6-42e0-df94-ece3e511f8b8"
      },
      "outputs": [
        {
          "output_type": "stream",
          "name": "stdout",
          "text": [
            "Drive already mounted at /content/drive; to attempt to forcibly remount, call drive.mount(\"/content/drive\", force_remount=True).\n"
          ]
        }
      ],
      "source": [
        "from google.colab import drive\n",
        "drive.mount('/content/drive')"
      ]
    },
    {
      "cell_type": "code",
      "source": [
        "pip install idx2numpy"
      ],
      "metadata": {
        "colab": {
          "base_uri": "https://localhost:8080/"
        },
        "id": "f4BoA898iC6J",
        "outputId": "73655ad1-75b1-4dbb-9b85-14f3d5f82bc2"
      },
      "execution_count": 71,
      "outputs": [
        {
          "output_type": "stream",
          "name": "stdout",
          "text": [
            "Looking in indexes: https://pypi.org/simple, https://us-python.pkg.dev/colab-wheels/public/simple/\n",
            "Requirement already satisfied: idx2numpy in /usr/local/lib/python3.8/dist-packages (1.2.3)\n",
            "Requirement already satisfied: numpy in /usr/local/lib/python3.8/dist-packages (from idx2numpy) (1.21.6)\n",
            "Requirement already satisfied: six in /usr/local/lib/python3.8/dist-packages (from idx2numpy) (1.15.0)\n"
          ]
        }
      ]
    },
    {
      "cell_type": "code",
      "source": [
        "import idx2numpy\n",
        "import numpy as np\n",
        "from google.colab.patches import cv2_imshow\n",
        "import cv2\n",
        "import matplotlib.pyplot as plt\n",
        "\n",
        "#Loading and reading data\n",
        "f1 = '/content/drive/MyDrive/train-images-idx3-ubyte'\n",
        "f2 = '/content/drive/MyDrive/t10k-images-idx3-ubyte'\n",
        "f3 = '/content/drive/MyDrive/train-labels-idx1-ubyte'\n",
        "f4 = '/content/drive/MyDrive/t10k-labels-idx1-ubyte'\n",
        "trainImages = idx2numpy.convert_from_file(f1)\n",
        "testImages = idx2numpy.convert_from_file(f2)\n",
        "trainLabels = idx2numpy.convert_from_file(f3)\n",
        "testLabels = idx2numpy.convert_from_file(f4)"
      ],
      "metadata": {
        "id": "99TYv9tniGDR"
      },
      "execution_count": 72,
      "outputs": []
    },
    {
      "cell_type": "code",
      "source": [
        "#EDA\n",
        "#Image size\n",
        "imgSize = []\n",
        "for i in range(len(trainImages)):\n",
        "\timgStr = str(trainImages[i].shape)\n",
        "\tif(imgStr not in imgSize):\n",
        "\t\timgSize.append(imgStr)\n",
        "\n",
        "print(imgSize)\n",
        "#Here the imgsize list length came out to be 1 which means all images are of same size\n",
        "print(\"Yes, all images are of same size\")\n",
        "print(\"images dimensions :\", trainImages[0].shape)"
      ],
      "metadata": {
        "colab": {
          "base_uri": "https://localhost:8080/"
        },
        "id": "0z1CsPp6iRkD",
        "outputId": "f645265d-6193-4590-dea7-d7903fcce021"
      },
      "execution_count": 73,
      "outputs": [
        {
          "output_type": "stream",
          "name": "stdout",
          "text": [
            "['(28, 28)']\n",
            "Yes, all images are of same size\n",
            "images dimensions : (28, 28)\n"
          ]
        }
      ]
    },
    {
      "cell_type": "code",
      "source": [
        "#EDA\n",
        "#Class Imbalance\n",
        "countLabelsDict = {}\n",
        "for i in range(len(trainLabels)):\n",
        "    if(trainLabels[i] in countLabelsDict.keys()):\n",
        "        getCount = countLabelsDict[trainLabels[i]]\n",
        "        countLabelsDict[trainLabels[i]] = getCount+1\n",
        "    else:\n",
        "        countLabelsDict[trainLabels[i]] = 1\n",
        "\n",
        "print(countLabelsDict)\n",
        "\n",
        "barXAxis = []\n",
        "barYAxis = []\n",
        "\n",
        "for k in countLabelsDict.keys():\n",
        "    barXAxis.append(\"class \" + str(k))\n",
        "    barYAxis.append(countLabelsDict[k])\n",
        "\n",
        "plt.bar(barXAxis, barYAxis, color ='maroon', width = 0.4)\n",
        "plt.show() "
      ],
      "metadata": {
        "colab": {
          "base_uri": "https://localhost:8080/",
          "height": 283
        },
        "id": "ProeAP7WiVcu",
        "outputId": "f61d2b84-d253-4052-d69a-e38e387616bb"
      },
      "execution_count": 74,
      "outputs": [
        {
          "output_type": "stream",
          "name": "stdout",
          "text": [
            "{9: 6000, 0: 6000, 3: 6000, 2: 6000, 7: 6000, 5: 6000, 1: 6000, 6: 6000, 4: 6000, 8: 6000}\n"
          ]
        },
        {
          "output_type": "display_data",
          "data": {
            "text/plain": [
              "<Figure size 432x288 with 1 Axes>"
            ],
            "image/png": "[encoded data removed]"
          },
          "metadata": {
            "needs_background": "light"
          }
        }
      ]
    },
    {
      "cell_type": "code",
      "source": [
        "#EDA\n",
        "#normalization\n",
        "normalizedImages = []\n",
        "for i in range(len(trainImages)):\n",
        "  rows = trainImages[i].shape[0]\n",
        "  cols = trainImages[i].shape[1]\n",
        "  newImg = []\n",
        "  for j in range(rows):\n",
        "    newL = []\n",
        "    for k in range(cols):\n",
        "      newL.append(trainImages[i][j][k]/255)\n",
        "    newImg.append(newL)\n",
        "  normalizedImages.append(newImg)\n",
        "\n",
        "normalizedImages = np.array(normalizedImages)\n",
        "testImages = np.array(testImages)"
      ],
      "metadata": {
        "id": "107pBOEUiX5q"
      },
      "execution_count": 75,
      "outputs": []
    },
    {
      "cell_type": "code",
      "source": [
        "#EDA\n",
        "#pixel intensity\n",
        "xPixelAxis = []\n",
        "yAxisCount = []\n",
        "for i in range(0,256):\n",
        "  xPixelAxis.append(i)\n",
        "  yAxisCount.append(0)\n",
        "\n",
        "for i in range(len(trainImages)):\n",
        "  rows = trainImages[i].shape[0]\n",
        "  cols = trainImages[i].shape[1]\n",
        "  for j in range(rows):\n",
        "    for k in range(cols):\n",
        "      yAxisCount[trainImages[i][j][k]] = yAxisCount[trainImages[i][j][k]] + 1\n",
        "\n",
        "print(yAxisCount)\n",
        "plt.bar(xPixelAxis, yAxisCount, color ='maroon', width = 0.4)\n",
        "plt.show() "
      ],
      "metadata": {
        "colab": {
          "base_uri": "https://localhost:8080/",
          "height": 314
        },
        "id": "i4QhGz_5ieCM",
        "outputId": "86679d5c-aee0-4d74-a3e3-c47818fc772d"
      },
      "execution_count": 76,
      "outputs": [
        {
          "output_type": "stream",
          "name": "stdout",
          "text": [
            "[23616498, 477616, 286907, 191709, 131597, 96949, 75610, 61138, 52858, 48514, 46274, 44886, 44885, 46283, 45735, 46711, 45039, 47566, 46710, 46971, 47733, 47792, 48326, 48138, 48987, 49532, 49848, 50022, 49935, 50072, 51863, 51011, 52778, 51508, 53662, 53381, 54386, 53205, 54569, 54075, 55591, 55461, 54597, 55734, 54812, 57583, 56250, 56629, 58381, 56393, 52756, 62900, 58471, 58171, 57973, 60289, 58523, 60188, 59338, 59099, 61320, 60600, 59640, 58578, 61588, 61618, 61618, 58991, 63870, 60733, 63088, 61540, 62224, 63560, 60593, 65295, 62925, 63640, 64095, 63593, 64652, 64854, 64301, 64933, 51808, 76308, 65725, 66889, 65157, 64161, 68260, 65593, 66104, 67969, 66702, 67876, 68340, 68175, 67043, 67354, 69163, 60867, 75601, 69324, 67847, 70404, 69597, 69781, 71638, 69242, 70791, 71627, 71631, 71240, 71425, 72338, 73628, 73821, 71789, 74507, 75676, 73781, 74115, 74994, 74722, 75429, 80315, 61473, 80001, 76392, 77709, 77083, 77990, 77066, 76473, 78503, 81498, 79878, 82063, 78696, 81300, 82063, 82305, 83221, 83267, 84042, 85394, 85162, 85134, 83316, 89381, 88129, 78724, 96839, 89220, 90987, 91415, 93276, 92594, 92550, 96470, 95292, 96691, 95327, 97465, 100538, 99551, 100747, 103201, 85959, 113588, 106531, 107487, 106649, 108349, 110325, 111296, 112493, 112092, 113981, 116723, 121505, 114904, 120685, 121589, 123210, 123117, 126936, 128020, 129956, 135587, 122942, 134669, 136697, 136784, 140534, 140025, 141389, 142363, 144892, 145901, 147861, 149801, 143681, 156032, 154984, 157923, 158524, 159124, 160360, 163323, 164281, 161346, 167351, 167303, 169201, 170274, 170297, 169746, 172123, 170746, 172663, 173532, 170930, 170106, 170589, 166334, 166172, 163917, 159211, 155827, 150418, 144550, 136571, 129051, 123696, 116052, 109297, 104630, 95955, 89470, 82919, 76352, 71212, 65963, 61809, 58391, 53819, 49632, 47634, 44096, 42304, 45044, 50596, 65261, 379088]\n"
          ]
        },
        {
          "output_type": "display_data",
          "data": {
            "text/plain": [
              "<Figure size 432x288 with 1 Axes>"
            ],
            "image/png": "[encoded data removed]"
          },
          "metadata": {
            "needs_background": "light"
          }
        }
      ]
    },
    {
      "cell_type": "code",
      "source": [
        "normalizedImgReshape = np.reshape(normalizedImages, (len(normalizedImages), normalizedImages[0].shape[0]*normalizedImages[0].shape[1]))"
      ],
      "metadata": {
        "id": "avO02M2Vjk__"
      },
      "execution_count": null,
      "outputs": []
    },
    {
      "cell_type": "code",
      "source": [
        "reshapeTrainImages = np.reshape(trainImages, (len(trainImages), trainImages[0].shape[0]*trainImages[0].shape[1]))\n",
        "print(reshapeTrainImages.shape)"
      ],
      "metadata": {
        "colab": {
          "base_uri": "https://localhost:8080/"
        },
        "id": "M9RXv5vUjpcW",
        "outputId": "557cc6b1-4be6-48ec-c037-e2d325eaa9c0"
      },
      "execution_count": null,
      "outputs": [
        {
          "output_type": "stream",
          "name": "stdout",
          "text": [
            "(60000, 784)\n"
          ]
        }
      ]
    },
    {
      "cell_type": "code",
      "source": [
        "testImages = np.reshape(testImages, (len(testImages), testImages[0].shape[0]*testImages[0].shape[1]))\n",
        "print(testImages.shape)"
      ],
      "metadata": {
        "colab": {
          "base_uri": "https://localhost:8080/"
        },
        "id": "GgmM_agVjr8Z",
        "outputId": "d9bee715-1e50-4536-9e80-2c143d78defe"
      },
      "execution_count": null,
      "outputs": [
        {
          "output_type": "stream",
          "name": "stdout",
          "text": [
            "(10000, 784)\n"
          ]
        }
      ]
    },
    {
      "cell_type": "code",
      "source": [
        "#OVR classification\n",
        "import pickle\n",
        "from sklearn.linear_model import LogisticRegression\n",
        "from sklearn.metrics import accuracy_score\n",
        "\n",
        "import warnings\n",
        "from sklearn.exceptions import ConvergenceWarning\n",
        "warnings.filterwarnings(\"ignore\", category=ConvergenceWarning)\n",
        "\n",
        "labelsModified = []\n",
        "for i in range(len(countLabelsDict)):\n",
        "  tempLabels = []\n",
        "  for j in range(len(trainLabels)):\n",
        "    if(trainLabels[j]==i):\n",
        "      tempLabels.append(1)\n",
        "    else:\n",
        "      tempLabels.append(0)\n",
        "  labelsModified.append(tempLabels)\n",
        "\n",
        "OVRClassifier = LogisticRegression(random_state = 0)\n",
        "\n",
        "OVRClassifier.fit(reshapeTrainImages, labelsModified[0])\n",
        "with open('/content/drive/My Drive/classifier0OVR', 'wb') as f:\n",
        "  pickle.dump(OVRClassifier, f)\n",
        "pred0 = OVRClassifier.predict(testImages)\n",
        "\n",
        "OVRClassifier.fit(reshapeTrainImages, labelsModified[1])\n",
        "with open('/content/drive/My Drive/classifier1OVR', 'wb') as f:\n",
        "  pickle.dump(OVRClassifier, f)\n",
        "pred1 = OVRClassifier.predict(testImages)\n",
        "\n",
        "OVRClassifier.fit(reshapeTrainImages, labelsModified[2])\n",
        "with open('/content/drive/My Drive/classifier2OVR', 'wb') as f:\n",
        "  pickle.dump(OVRClassifier, f)\n",
        "pred2 = OVRClassifier.predict(testImages)\n",
        "\n",
        "OVRClassifier.fit(reshapeTrainImages, labelsModified[3])\n",
        "with open('/content/drive/My Drive/classifier3OVR', 'wb') as f:\n",
        "  pickle.dump(OVRClassifier, f)\n",
        "pred3 = OVRClassifier.predict(testImages)\n",
        "\n",
        "OVRClassifier.fit(reshapeTrainImages, labelsModified[4])\n",
        "with open('/content/drive/My Drive/classifier4OVR', 'wb') as f:\n",
        "  pickle.dump(OVRClassifier, f)\n",
        "pred4 = OVRClassifier.predict(testImages)\n",
        "\n",
        "OVRClassifier.fit(reshapeTrainImages, labelsModified[5])\n",
        "with open('/content/drive/My Drive/classifier5OVR', 'wb') as f:\n",
        "  pickle.dump(OVRClassifier, f)\n",
        "pred5 = OVRClassifier.predict(testImages)\n",
        "\n",
        "OVRClassifier.fit(reshapeTrainImages, labelsModified[6])\n",
        "with open('/content/drive/My Drive/classifier6OVR', 'wb') as f:\n",
        "  pickle.dump(OVRClassifier, f)\n",
        "pred6 = OVRClassifier.predict(testImages)\n",
        "\n",
        "OVRClassifier.fit(reshapeTrainImages, labelsModified[7])\n",
        "with open('/content/drive/My Drive/classifier7OVR', 'wb') as f:\n",
        "  pickle.dump(OVRClassifier, f)\n",
        "pred7 = OVRClassifier.predict(testImages)\n",
        "\n",
        "OVRClassifier.fit(reshapeTrainImages, labelsModified[8])\n",
        "with open('/content/drive/My Drive/classifier8OVR', 'wb') as f:\n",
        "  pickle.dump(OVRClassifier, f)\n",
        "pred8 = OVRClassifier.predict(testImages)\n",
        "\n",
        "OVRClassifier.fit(reshapeTrainImages, labelsModified[9])\n",
        "with open('/content/drive/My Drive/classifier9OVR', 'wb') as f:\n",
        "  pickle.dump(OVRClassifier, f)\n",
        "pred9 = OVRClassifier.predict(testImages)\n",
        "\n",
        "preds = [pred0, pred1, pred2, pred3, pred4, pred5, pred6, pred7, pred8, pred9]\n",
        "\n",
        "\n",
        "finalPred = []\n",
        "for j in range(len(pred0)):\n",
        "  maxProb = -1\n",
        "  maxProbLabel = -1\n",
        "  for i in range(len(preds)):\n",
        "    if(preds[i][j]>maxProb):\n",
        "      maxProb = preds[i][j]\n",
        "      maxProbLabel = i\n",
        "  finalPred.append(maxProbLabel)\n",
        "\n",
        "accCount = 0\n",
        "for i in range(len(testLabels)):\n",
        "  if(testLabels[i]==finalPred[i]):\n",
        "    accCount = accCount + 1\n",
        "\n",
        "print(\"OVR accuracy (in percent)\", (100*accCount)/len(testLabels))"
      ],
      "metadata": {
        "colab": {
          "base_uri": "https://localhost:8080/"
        },
        "id": "rJjoPjbHjzhv",
        "outputId": "ac7d8fce-69b2-42ab-9165-f81d07a9ed78"
      },
      "execution_count": null,
      "outputs": [
        {
          "output_type": "stream",
          "name": "stdout",
          "text": [
            "OVR accuracy (in percent) 78.33\n"
          ]
        }
      ]
    },
    {
      "cell_type": "code",
      "source": [
        "import pickle\n",
        "with open('/content/drive/My Drive/classifier0OVR', 'rb') as f:\n",
        "  classifier0OVR = pickle.load(f)\n",
        "with open('/content/drive/My Drive/classifier1OVR', 'rb') as f:\n",
        "  classifier1OVR = pickle.load(f)\n",
        "with open('/content/drive/My Drive/classifier2OVR', 'rb') as f:\n",
        "  classifier2OVR = pickle.load(f)\n",
        "with open('/content/drive/My Drive/classifier3OVR', 'rb') as f:\n",
        "  classifier3OVR = pickle.load(f)\n",
        "with open('/content/drive/My Drive/classifier4OVR', 'rb') as f:\n",
        "  classifier4OVR = pickle.load(f)\n",
        "with open('/content/drive/My Drive/classifier5OVR', 'rb') as f:\n",
        "  classifier5OVR = pickle.load(f)\n",
        "with open('/content/drive/My Drive/classifier6OVR', 'rb') as f:\n",
        "  classifier6OVR = pickle.load(f)\n",
        "with open('/content/drive/My Drive/classifier7OVR', 'rb') as f:\n",
        "  classifier7OVR = pickle.load(f)\n",
        "with open('/content/drive/My Drive/classifier8OVR', 'rb') as f:\n",
        "  classifier8OVR = pickle.load(f)\n",
        "with open('/content/drive/My Drive/classifier9OVR', 'rb') as f:\n",
        "  classifier9OVR = pickle.load(f)\n",
        "\n",
        "pred0 = classifier0OVR.predict(testImages)\n",
        "pred1 = classifier1OVR.predict(testImages)\n",
        "pred2 = classifier2OVR.predict(testImages)\n",
        "pred3 = classifier3OVR.predict(testImages)\n",
        "pred4 = classifier4OVR.predict(testImages)\n",
        "pred5 = classifier5OVR.predict(testImages)\n",
        "pred6 = classifier6OVR.predict(testImages)\n",
        "pred7 = classifier7OVR.predict(testImages)\n",
        "pred8 = classifier8OVR.predict(testImages)\n",
        "pred9 = classifier9OVR.predict(testImages)\n",
        "\n",
        "preds = [pred0, pred1, pred2, pred3, pred4, pred5, pred6, pred7, pred8, pred9]\n",
        "finalPred = []\n",
        "for j in range(len(pred0)):\n",
        "  maxProb = -1\n",
        "  maxProbLabel = -1\n",
        "  for i in range(len(preds)):\n",
        "    if(preds[i][j]>maxProb):\n",
        "      maxProb = preds[i][j]\n",
        "      maxProbLabel = i\n",
        "  finalPred.append(maxProbLabel)\n",
        "\n",
        "accCount = 0\n",
        "for i in range(len(testLabels)):\n",
        "  if(testLabels[i]==finalPred[i]):\n",
        "    accCount = accCount + 1\n",
        "\n",
        "print(\"OVR accuracy (in percent)\", (100*accCount)/len(testLabels))"
      ],
      "metadata": {
        "colab": {
          "base_uri": "https://localhost:8080/"
        },
        "id": "qFS1cAc5j9e4",
        "outputId": "55b68ab3-5334-4c81-bf3c-7404bcdfd1a7"
      },
      "execution_count": null,
      "outputs": [
        {
          "output_type": "stream",
          "name": "stdout",
          "text": [
            "OVR accuracy (in percent) 78.33\n"
          ]
        }
      ]
    },
    {
      "cell_type": "code",
      "source": [
        "from sklearn.multiclass import OneVsRestClassifier\n",
        "from sklearn.linear_model import LogisticRegression\n",
        "import warnings\n",
        "from sklearn.exceptions import ConvergenceWarning\n",
        "warnings.filterwarnings(\"ignore\", category=ConvergenceWarning)\n",
        "\n",
        "OVRClassifier = OneVsRestClassifier(LogisticRegression(random_state = 0))\n",
        "OVRClassifier.fit(reshapeTrainImages, trainLabels)\n",
        "\n",
        "predOVR = OVRClassifier.predict(testImages)\n",
        "\n",
        "correctCount = 0\n",
        "for i in range(len(predOVR)):\n",
        "  if(predOVR[i]==testLabels[i]):\n",
        "    correctCount = correctCount + 1\n",
        "\n",
        "with open('/content/drive/My Drive/inbuiltOVR', 'wb') as f:\n",
        "  pickle.dump(OVRClassifier, f)\n",
        "\n",
        "print(\"OVR inbuilt accuracy (in percent)\", (100*correctCount)/len(testLabels))"
      ],
      "metadata": {
        "colab": {
          "base_uri": "https://localhost:8080/"
        },
        "id": "l-UE69BclEvQ",
        "outputId": "acd5469e-99e9-47aa-8e8b-95408c94a0f8"
      },
      "execution_count": null,
      "outputs": [
        {
          "output_type": "stream",
          "name": "stdout",
          "text": [
            "OVR inbuilt accuracy (in percent) 83.83\n"
          ]
        }
      ]
    },
    {
      "cell_type": "code",
      "source": [
        "with open('/content/drive/My Drive/inbuiltOVR', 'rb') as f:\n",
        "  inbuiltOVR = pickle.load(f)\n",
        "\n",
        "predOVR = inbuiltOVR.predict(testImages)\n",
        "\n",
        "correctCount = 0\n",
        "for i in range(len(predOVR)):\n",
        "  if(predOVR[i]==testLabels[i]):\n",
        "    correctCount = correctCount + 1\n",
        "print(\"OVR inbuilt accuracy (in percent)\", (100*correctCount)/len(testLabels))"
      ],
      "metadata": {
        "colab": {
          "base_uri": "https://localhost:8080/"
        },
        "id": "WZ-V8EcglgJi",
        "outputId": "a39c0060-ea1e-480e-cec7-0ae8aa253e0b"
      },
      "execution_count": null,
      "outputs": [
        {
          "output_type": "stream",
          "name": "stdout",
          "text": [
            "OVR inbuilt accuracy (in percent) 83.83\n"
          ]
        }
      ]
    },
    {
      "cell_type": "code",
      "source": [
        "import warnings\n",
        "from sklearn.exceptions import ConvergenceWarning\n",
        "warnings.filterwarnings(\"ignore\", category=ConvergenceWarning)\n",
        "import pickle\n",
        "\n",
        "finalPredOVO = []\n",
        "predList = []\n",
        "c = 0\n",
        "classifierTemp = LogisticRegression(random_state = 0)\n",
        "for i in range(len(countLabelsDict)):\n",
        "  for j in range(i+1, len(countLabelsDict)):\n",
        "    tempTrainImg = []\n",
        "    tempTrainLabels = []\n",
        "    for k in range(len(trainLabels)):\n",
        "      if(trainLabels[k]==i or trainLabels[k]==j):\n",
        "        tempTrainImg.append(reshapeTrainImages[k])\n",
        "        tempTrainLabels.append(trainLabels[k])\n",
        "    tempTrainImg = np.array(tempTrainImg)\n",
        "    tempTrainLabels = np.array(tempTrainLabels)\n",
        "    classifierTemp.fit(tempTrainImg, tempTrainLabels)\n",
        "    predTemp = classifierTemp.predict(testImages)\n",
        "    predList.append(predTemp)\n",
        "    fileNm = \"OVOModel\" + str(c)\n",
        "    with open('/content/drive/My Drive/' + fileNm, 'wb') as f:\n",
        "      pickle.dump(classifierTemp, f)\n",
        "    c = c+1\n",
        "\n",
        "finalPred = []\n",
        "for j in range(len(predList[0])):\n",
        "  countList = []\n",
        "  for k in range(len(countLabelsDict)):\n",
        "    countList.append(0)\n",
        "  for i in range(len(predList)):\n",
        "    countList[predList[i][j]] = countList[predList[i][j]] + 1\n",
        "  maxCount = -1\n",
        "  maxCountLabel = -1\n",
        "  for i in range(len(countList)):\n",
        "    if(countList[i]>maxCount):\n",
        "      maxCount = countList[i]\n",
        "      maxCountLabel = i\n",
        "  finalPred.append(maxCountLabel)\n",
        "    \n",
        "accCount = 0\n",
        "for i in range(len(testLabels)):\n",
        "  if(testLabels[i]==finalPred[i]):\n",
        "    accCount = accCount + 1\n",
        "\n",
        "print(\"Accuracy (in percent)\", (100*accCount)/len(testLabels))\n"
      ],
      "metadata": {
        "colab": {
          "base_uri": "https://localhost:8080/"
        },
        "id": "TjwdgCXwmQPZ",
        "outputId": "e5e6bb2f-5cad-47fa-942d-916c34c863d8"
      },
      "execution_count": null,
      "outputs": [
        {
          "output_type": "stream",
          "name": "stdout",
          "text": [
            "Accuracy (in percent) 83.71\n"
          ]
        }
      ]
    },
    {
      "cell_type": "code",
      "source": [
        "import pickle\n",
        "\n",
        "predList = []\n",
        "for i in range(45):\n",
        "  fileNm = \"OVOModel\" + str(i)\n",
        "  with open('/content/drive/My Drive/' + fileNm, 'rb') as f:\n",
        "    OVOclassifier = pickle.load(f)\n",
        "    predTemp = OVOclassifier.predict(testImages)\n",
        "    predList.append(predTemp)\n",
        "\n",
        "finalPred = []\n",
        "for j in range(len(predList[0])):\n",
        "  countList = []\n",
        "  for k in range(len(countLabelsDict)):\n",
        "    countList.append(0)\n",
        "  for i in range(len(predList)):\n",
        "    countList[predList[i][j]] = countList[predList[i][j]] + 1\n",
        "  maxCount = -1\n",
        "  maxCountLabel = -1\n",
        "  for i in range(len(countList)):\n",
        "    if(countList[i]>maxCount):\n",
        "      maxCount = countList[i]\n",
        "      maxCountLabel = i\n",
        "  finalPred.append(maxCountLabel)\n",
        "    \n",
        "accCount = 0\n",
        "for i in range(len(testLabels)):\n",
        "  if(testLabels[i]==finalPred[i]):\n",
        "    accCount = accCount + 1\n",
        "\n",
        "print(\"Accuracy (in percent)\", (100*accCount)/len(testLabels))"
      ],
      "metadata": {
        "colab": {
          "base_uri": "https://localhost:8080/"
        },
        "id": "SZK8_GwunSRQ",
        "outputId": "423bc661-2b16-4851-ab69-ba970e30de3f"
      },
      "execution_count": null,
      "outputs": [
        {
          "output_type": "stream",
          "name": "stdout",
          "text": [
            "Accuracy (in percent) 83.71\n"
          ]
        }
      ]
    },
    {
      "cell_type": "code",
      "source": [
        "from sklearn.multiclass import OneVsOneClassifier\n",
        "import warnings\n",
        "from sklearn.exceptions import ConvergenceWarning\n",
        "warnings.filterwarnings(\"ignore\", category=ConvergenceWarning)\n",
        "\n",
        "OVOClassifier = OneVsOneClassifier(LogisticRegression())\n",
        "OVOClassifier.fit(reshapeTrainImages, trainLabels)\n",
        "\n",
        "predOVO = OVOClassifier.predict(testImages)\n",
        "\n",
        "correctCount = 0\n",
        "for i in range(len(predOVO)):\n",
        "  if(predOVO[i]==testLabels[i]):\n",
        "    correctCount = correctCount + 1\n",
        "\n",
        "with open('/content/drive/My Drive/inbuiltOVO', 'wb') as f:\n",
        "  pickle.dump(OVOClassifier, f)\n",
        "\n",
        "print(\"inbuilt accuracy\", (100*correctCount)/len(testLabels))"
      ],
      "metadata": {
        "colab": {
          "base_uri": "https://localhost:8080/"
        },
        "id": "5l-hZUmunXd3",
        "outputId": "86babbe9-8ea1-4a82-e105-cb2bb35e9e56"
      },
      "execution_count": null,
      "outputs": [
        {
          "output_type": "stream",
          "name": "stdout",
          "text": [
            "inbuilt accuracy 84.09\n"
          ]
        }
      ]
    },
    {
      "cell_type": "code",
      "source": [
        "with open('/content/drive/My Drive/inbuiltOVO', 'rb') as f:\n",
        "  inbuiltOVO = pickle.load(f)\n",
        "\n",
        "predOVO = inbuiltOVO.predict(testImages)\n",
        "correctCount = 0\n",
        "for i in range(len(predOVO)):\n",
        "  if(predOVO[i]==testLabels[i]):\n",
        "    correctCount = correctCount + 1\n",
        "\n",
        "print(\"inbuilt accuracy\", (100*correctCount)/len(testLabels))"
      ],
      "metadata": {
        "colab": {
          "base_uri": "https://localhost:8080/"
        },
        "id": "VY7Ln1hlntU4",
        "outputId": "01d7210b-80a8-4502-fa8e-4a63aa4a5f7f"
      },
      "execution_count": null,
      "outputs": [
        {
          "output_type": "stream",
          "name": "stdout",
          "text": [
            "inbuilt accuracy 84.09\n"
          ]
        }
      ]
    },
    {
      "cell_type": "code",
      "source": [
        "import numpy as np\n",
        "import os\n",
        "import cv2\n",
        "from google.colab.patches import cv2_imshow\n",
        "\n",
        "parasitizedFolder = '/content/drive/MyDrive/dataset/Parasitized/Parasitized'\n",
        "\n",
        "parasitizedImages = []\n",
        "for filename in os.listdir(parasitizedFolder):\n",
        "    img = cv2.imread(os.path.join(parasitizedFolder,filename))\n",
        "    if(img is not None):\n",
        "      resizeImg = cv2.resize(img, (64, 64), interpolation = cv2.INTER_NEAREST)\n",
        "      parasitizedImages.append(resizeImg)\n",
        "\n",
        "parasitizedImages = np.array(parasitizedImages)\n",
        "\n",
        "uninfectedFolder = '/content/drive/MyDrive/dataset/Uninfected/Uninfected'\n",
        "uninfectedImages = []\n",
        "for filename in os.listdir(uninfectedFolder):\n",
        "  img = cv2.imread(os.path.join(uninfectedFolder,filename))\n",
        "  if(img is not None):\n",
        "    resizeImg = cv2.resize(img, (64, 64), interpolation = cv2.INTER_NEAREST)\n",
        "    uninfectedImages.append(resizeImg)\n",
        "\n",
        "parasitizedImages = np.array(parasitizedImages)\n",
        "uninfectedImages = np.array(uninfectedImages)     \n",
        "print(parasitizedImages.shape)\n",
        "print(uninfectedImages.shape)"
      ],
      "metadata": {
        "colab": {
          "base_uri": "https://localhost:8080/"
        },
        "id": "D3wErba6oT_m",
        "outputId": "141f452c-14c8-4448-904a-dc2a75a64b00"
      },
      "execution_count": 2,
      "outputs": [
        {
          "output_type": "stream",
          "name": "stdout",
          "text": [
            "(13779, 64, 64, 3)\n",
            "(13801, 64, 64, 3)\n"
          ]
        }
      ]
    },
    {
      "cell_type": "code",
      "source": [
        "import random\n",
        "cv2_imshow(random.choice(parasitizedImages))\n",
        "cv2_imshow(random.choice(parasitizedImages))\n",
        "cv2_imshow(random.choice(uninfectedImages))\n",
        "cv2_imshow(random.choice(uninfectedImages))"
      ],
      "metadata": {
        "colab": {
          "base_uri": "https://localhost:8080/",
          "height": 273
        },
        "id": "x4wJW4Ocs33p",
        "outputId": "c60eb742-e2b8-4712-d168-4593b632b36c"
      },
      "execution_count": 3,
      "outputs": [
        {
          "output_type": "display_data",
          "data": {
            "text/plain": [
              "<PIL.Image.Image image mode=RGB size=64x64 at 0x7F8E685FC640>"
            ],
            "image/png": "[encoded data removed]"
          },
          "metadata": {}
        },
        {
          "output_type": "display_data",
          "data": {
            "text/plain": [
              "<PIL.Image.Image image mode=RGB size=64x64 at 0x7F8E3AD1B310>"
            ],
            "image/png": "[encoded data removed]"
          },
          "metadata": {}
        },
        {
          "output_type": "display_data",
          "data": {
            "text/plain": [
              "<PIL.Image.Image image mode=RGB size=64x64 at 0x7F8E685F0100>"
            ],
            "image/png": "[encoded data removed]"
          },
          "metadata": {}
        },
        {
          "output_type": "display_data",
          "data": {
            "text/plain": [
              "<PIL.Image.Image image mode=RGB size=64x64 at 0x7F8E89BAFDF0>"
            ],
            "image/png": "[encoded data removed]"
          },
          "metadata": {}
        }
      ]
    },
    {
      "cell_type": "code",
      "source": [
        "import matplotlib.pyplot as plt\n",
        "#EDA\n",
        "#Class Imbalance\n",
        "barXAxis = ['parasitized images', 'uninfected images']\n",
        "barYAxis = [parasitizedImages.shape[0], uninfectedImages.shape[0]]\n",
        "plt.bar(barXAxis, barYAxis, color ='maroon', width = 0.4)\n",
        "plt.show() "
      ],
      "metadata": {
        "colab": {
          "base_uri": "https://localhost:8080/",
          "height": 265
        },
        "id": "8h62QoRks_H1",
        "outputId": "f38dad3a-3e26-42a8-a688-36e40d151549"
      },
      "execution_count": 4,
      "outputs": [
        {
          "output_type": "display_data",
          "data": {
            "text/plain": [
              "<Figure size 432x288 with 1 Axes>"
            ],
            "image/png": "[encoded data removed]"
          },
          "metadata": {
            "needs_background": "light"
          }
        }
      ]
    },
    {
      "cell_type": "code",
      "source": [
        "#1 for parasitized and 0 for uninfected\n",
        "diseaseLabels = []\n",
        "for i in range(len(parasitizedImages)):\n",
        "  diseaseLabels.append(1)\n",
        "for i in range(len(uninfectedImages)):\n",
        "  diseaseLabels.append(0)\n",
        "\n",
        "print(len(diseaseLabels))\n",
        "diseaseImages = np.concatenate((parasitizedImages, uninfectedImages), axis = 0)\n",
        "print(diseaseImages.shape)"
      ],
      "metadata": {
        "colab": {
          "base_uri": "https://localhost:8080/"
        },
        "id": "09WWPAZEtCl2",
        "outputId": "03846e70-eddd-4f09-c850-cc14113996c5"
      },
      "execution_count": 6,
      "outputs": [
        {
          "output_type": "stream",
          "name": "stdout",
          "text": [
            "27580\n",
            "(27580, 64, 64, 3)\n"
          ]
        }
      ]
    },
    {
      "cell_type": "code",
      "source": [
        "from sklearn.model_selection import train_test_split\n",
        "\n",
        "x, testImages, y, testLabels = train_test_split(diseaseImages,diseaseLabels,test_size=0.1,train_size=0.9, random_state = 0)\n",
        "trainImages, cvImages, trainLabels, cvLabels = train_test_split(x,y,test_size = 0.1667,train_size =0.8333, random_state = 0)\n",
        "\n",
        "trainImages = np.reshape(trainImages, (len(trainImages), trainImages[0].shape[0]*trainImages[0].shape[1]*trainImages[0].shape[2]))\n",
        "testImages = np.reshape(testImages, (len(testImages), testImages[0].shape[0]*testImages[0].shape[1]*testImages[0].shape[2]))\n",
        "cvImages = np.reshape(cvImages, (len(cvImages), cvImages[0].shape[0]*cvImages[0].shape[1]*cvImages[0].shape[2]))"
      ],
      "metadata": {
        "id": "BU0FqeqyuuJQ"
      },
      "execution_count": 20,
      "outputs": []
    },
    {
      "cell_type": "code",
      "source": [
        "from sklearn.neural_network import MLPClassifier\n",
        "import pickle\n",
        "MLPClassifier = MLPClassifier(activation='relu',batch_size=128,hidden_layer_sizes=(128,128),learning_rate_init=0.0003, max_iter=75, solver='adam',verbose=True,validation_fraction=0.1667)\n",
        "MLPClassifier.fit(trainImages, trainLabels)\n",
        "with open('/content/drive/My Drive/MLPClassifier', 'wb') as f:\n",
        "  pickle.dump(MLPClassifier, f)\n",
        "MLPpred = MLPClassifier.predict(testImages)\n",
        "count = 0\n",
        "for i in range(len(MLPpred)):\n",
        "  if(MLPpred[i]==testLabels[i]):\n",
        "    count = count+1\n",
        "\n",
        "print(\"Accuracy (in percent)\", (100*count)/len(testLabels))\n",
        "    "
      ],
      "metadata": {
        "colab": {
          "base_uri": "https://localhost:8080/"
        },
        "id": "yXLURdqEvLNy",
        "outputId": "28f22271-4093-4de9-fd94-2868686c525d"
      },
      "execution_count": 66,
      "outputs": [
        {
          "output_type": "stream",
          "name": "stdout",
          "text": [
            "Iteration 1, loss = 3.82919999\n",
            "Iteration 2, loss = 1.75968810\n",
            "Iteration 3, loss = 0.88396934\n",
            "Iteration 4, loss = 0.97260833\n",
            "Iteration 5, loss = 0.73100708\n",
            "Iteration 6, loss = 0.76318122\n",
            "Iteration 7, loss = 0.68002795\n",
            "Iteration 8, loss = 0.62750587\n",
            "Iteration 9, loss = 0.61879663\n",
            "Iteration 10, loss = 0.65689046\n",
            "Iteration 11, loss = 0.62217468\n",
            "Iteration 12, loss = 0.61277824\n",
            "Iteration 13, loss = 0.60732563\n",
            "Iteration 14, loss = 0.64098506\n",
            "Iteration 15, loss = 0.61480239\n",
            "Iteration 16, loss = 0.67875583\n",
            "Iteration 17, loss = 5.55564183\n",
            "Iteration 18, loss = 0.71953502\n",
            "Iteration 19, loss = 0.68668651\n",
            "Iteration 20, loss = 0.64157770\n",
            "Iteration 21, loss = 0.63371298\n",
            "Iteration 22, loss = 0.63797016\n",
            "Iteration 23, loss = 0.61489955\n",
            "Iteration 24, loss = 0.61834347\n",
            "Training loss did not improve more than tol=0.000100 for 10 consecutive epochs. Stopping.\n",
            "Accuracy (in percent) 65.15591007976795\n"
          ]
        }
      ]
    },
    {
      "cell_type": "code",
      "source": [
        "import matplotlib.pyplot as plt\n",
        "plt.plot(MLPClassifier.loss_curve_)\n",
        "plt.show()"
      ],
      "metadata": {
        "colab": {
          "base_uri": "https://localhost:8080/",
          "height": 265
        },
        "id": "E0bp1mec4iCa",
        "outputId": "4ca8e142-9d5d-4f32-f372-1bafeddaece5"
      },
      "execution_count": 67,
      "outputs": [
        {
          "output_type": "display_data",
          "data": {
            "text/plain": [
              "<Figure size 432x288 with 1 Axes>"
            ],
            "image/png": "[encoded data removed]"
          },
          "metadata": {
            "needs_background": "light"
          }
        }
      ]
    },
    {
      "cell_type": "code",
      "source": [
        "from sklearn.metrics import f1_score\n",
        "\n",
        "MLPTrainPred = MLPClassifier.predict(trainImages)\n",
        "MLPTestPred = MLPClassifier.predict(testImages)\n",
        "MLPValPred = MLPClassifier.predict(cvImages)\n",
        "\n",
        "print(\"train F1 score\", f1_score(MLPTrainPred, trainLabels))\n",
        "print(\"test F1 score\", f1_score(MLPTestPred, testLabels))\n",
        "print(\"val F1 score\", f1_score(MLPValPred, cvLabels))"
      ],
      "metadata": {
        "colab": {
          "base_uri": "https://localhost:8080/"
        },
        "id": "I5oyxGOy_FEM",
        "outputId": "a92634a4-21dd-4ff0-b36e-f1a0b1a9a2e6"
      },
      "execution_count": 68,
      "outputs": [
        {
          "output_type": "stream",
          "name": "stdout",
          "text": [
            "train F1 score 0.720344387755102\n",
            "test F1 score 0.716936671575847\n",
            "val F1 score 0.7077289886747467\n"
          ]
        }
      ]
    },
    {
      "cell_type": "code",
      "source": [
        "import pickle\n",
        "with open('/content/drive/My Drive/MLPClassifier', 'rb') as f:\n",
        "    MLPClassifier = pickle.load(f)\n",
        "  \n",
        "MLPpredLoad = MLPClassifier.predict(testImages)\n",
        "count = 0\n",
        "for i in range(len(MLPpredLoad)):\n",
        "  if(MLPpredLoad[i]==testLabels[i]):\n",
        "    count = count+1\n",
        "\n",
        "print(\"Accuracy (in percent)\", (100*count)/len(testLabels))"
      ],
      "metadata": {
        "colab": {
          "base_uri": "https://localhost:8080/"
        },
        "id": "e7qh_w2wMWaa",
        "outputId": "22949fa5-f1d2-49d4-b465-14186f197e42"
      },
      "execution_count": 70,
      "outputs": [
        {
          "output_type": "stream",
          "name": "stdout",
          "text": [
            "Accuracy (in percent) 65.15591007976795\n"
          ]
        }
      ]
    },
    {
      "cell_type": "code",
      "source": [
        "import pandas as pd\n",
        "from sklearn.datasets import load_wine\n",
        "\n",
        "data = load_wine()\n",
        "df = pd.DataFrame(data=data['data'],columns=data['feature_names'])\n",
        "#df['target'] = data['target']\n",
        "print(df)"
      ],
      "metadata": {
        "colab": {
          "base_uri": "https://localhost:8080/"
        },
        "id": "l9xlBvfGANK8",
        "outputId": "a2560459-f154-4dc9-95db-293b85ac7598"
      },
      "execution_count": 27,
      "outputs": [
        {
          "output_type": "stream",
          "name": "stdout",
          "text": [
            "     alcohol  malic_acid   ash  alcalinity_of_ash  magnesium  total_phenols  \\\n",
            "0      14.23        1.71  2.43               15.6      127.0           2.80   \n",
            "1      13.20        1.78  2.14               11.2      100.0           2.65   \n",
            "2      13.16        2.36  2.67               18.6      101.0           2.80   \n",
            "3      14.37        1.95  2.50               16.8      113.0           3.85   \n",
            "4      13.24        2.59  2.87               21.0      118.0           2.80   \n",
            "..       ...         ...   ...                ...        ...            ...   \n",
            "173    13.71        5.65  2.45               20.5       95.0           1.68   \n",
            "174    13.40        3.91  2.48               23.0      102.0           1.80   \n",
            "175    13.27        4.28  2.26               20.0      120.0           1.59   \n",
            "176    13.17        2.59  2.37               20.0      120.0           1.65   \n",
            "177    14.13        4.10  2.74               24.5       96.0           2.05   \n",
            "\n",
            "     flavanoids  nonflavanoid_phenols  proanthocyanins  color_intensity   hue  \\\n",
            "0          3.06                  0.28             2.29             5.64  1.04   \n",
            "1          2.76                  0.26             1.28             4.38  1.05   \n",
            "2          3.24                  0.30             2.81             5.68  1.03   \n",
            "3          3.49                  0.24             2.18             7.80  0.86   \n",
            "4          2.69                  0.39             1.82             4.32  1.04   \n",
            "..          ...                   ...              ...              ...   ...   \n",
            "173        0.61                  0.52             1.06             7.70  0.64   \n",
            "174        0.75                  0.43             1.41             7.30  0.70   \n",
            "175        0.69                  0.43             1.35            10.20  0.59   \n",
            "176        0.68                  0.53             1.46             9.30  0.60   \n",
            "177        0.76                  0.56             1.35             9.20  0.61   \n",
            "\n",
            "     od280/od315_of_diluted_wines  proline  \n",
            "0                            3.92   1065.0  \n",
            "1                            3.40   1050.0  \n",
            "2                            3.17   1185.0  \n",
            "3                            3.45   1480.0  \n",
            "4                            2.93    735.0  \n",
            "..                            ...      ...  \n",
            "173                          1.74    740.0  \n",
            "174                          1.56    750.0  \n",
            "175                          1.56    835.0  \n",
            "176                          1.62    840.0  \n",
            "177                          1.60    560.0  \n",
            "\n",
            "[178 rows x 13 columns]\n"
          ]
        }
      ]
    },
    {
      "cell_type": "code",
      "source": [
        "#EDA\n",
        "#Normalization\n",
        "maxValues = df.max()\n",
        "m = df.shape[0]\n",
        "n = df.shape[1]\n",
        "\n",
        "for i in range(m):\n",
        "  for j in range(n):\n",
        "    df.iloc[i, j] = df.iloc[i, j]/maxValues[j]\n",
        "\n",
        "print(df)"
      ],
      "metadata": {
        "colab": {
          "base_uri": "https://localhost:8080/"
        },
        "id": "2-_ZGXi0AUwO",
        "outputId": "7729b6dd-2bef-4263-bbe5-a7f805209ffa"
      },
      "execution_count": 28,
      "outputs": [
        {
          "output_type": "stream",
          "name": "stdout",
          "text": [
            "      alcohol  malic_acid       ash  alcalinity_of_ash  magnesium  \\\n",
            "0    0.959541    0.294828  0.752322           0.520000   0.783951   \n",
            "1    0.890088    0.306897  0.662539           0.373333   0.617284   \n",
            "2    0.887390    0.406897  0.826625           0.620000   0.623457   \n",
            "3    0.968982    0.336207  0.773994           0.560000   0.697531   \n",
            "4    0.892785    0.446552  0.888545           0.700000   0.728395   \n",
            "..        ...         ...       ...                ...        ...   \n",
            "173  0.924477    0.974138  0.758514           0.683333   0.586420   \n",
            "174  0.903574    0.674138  0.767802           0.766667   0.629630   \n",
            "175  0.894808    0.737931  0.699690           0.666667   0.740741   \n",
            "176  0.888065    0.446552  0.733746           0.666667   0.740741   \n",
            "177  0.952798    0.706897  0.848297           0.816667   0.592593   \n",
            "\n",
            "     total_phenols  flavanoids  nonflavanoid_phenols  proanthocyanins  \\\n",
            "0         0.721649    0.602362              0.424242         0.639665   \n",
            "1         0.682990    0.543307              0.393939         0.357542   \n",
            "2         0.721649    0.637795              0.454545         0.784916   \n",
            "3         0.992268    0.687008              0.363636         0.608939   \n",
            "4         0.721649    0.529528              0.590909         0.508380   \n",
            "..             ...         ...                   ...              ...   \n",
            "173       0.432990    0.120079              0.787879         0.296089   \n",
            "174       0.463918    0.147638              0.651515         0.393855   \n",
            "175       0.409794    0.135827              0.651515         0.377095   \n",
            "176       0.425258    0.133858              0.803030         0.407821   \n",
            "177       0.528351    0.149606              0.848485         0.377095   \n",
            "\n",
            "     color_intensity       hue  od280/od315_of_diluted_wines   proline  \n",
            "0           0.433846  0.608187                        0.9800  0.633929  \n",
            "1           0.336923  0.614035                        0.8500  0.625000  \n",
            "2           0.436923  0.602339                        0.7925  0.705357  \n",
            "3           0.600000  0.502924                        0.8625  0.880952  \n",
            "4           0.332308  0.608187                        0.7325  0.437500  \n",
            "..               ...       ...                           ...       ...  \n",
            "173         0.592308  0.374269                        0.4350  0.440476  \n",
            "174         0.561538  0.409357                        0.3900  0.446429  \n",
            "175         0.784615  0.345029                        0.3900  0.497024  \n",
            "176         0.715385  0.350877                        0.4050  0.500000  \n",
            "177         0.707692  0.356725                        0.4000  0.333333  \n",
            "\n",
            "[178 rows x 13 columns]\n"
          ]
        }
      ]
    },
    {
      "cell_type": "code",
      "source": [
        "#EDA class imbalance\n",
        "import matplotlib.pyplot as plt\n",
        "df['target'] = data['target']\n",
        "wineUniqueDict = {}\n",
        "for i in range(m):\n",
        "  if(df.iloc[i]['target'] in wineUniqueDict):\n",
        "    getCount = wineUniqueDict.get(df.iloc[i]['target'])\n",
        "    wineUniqueDict[df.iloc[i]['target']] = getCount + 1\n",
        "  else:\n",
        "    wineUniqueDict[df.iloc[i]['target']] = 1\n",
        "\n",
        "print(wineUniqueDict)\n",
        "\n",
        "wineYBar = []\n",
        "for i in range(len(wineUniqueDict)):\n",
        "  wineYBar.append(0)\n",
        "for i in wineUniqueDict.keys():\n",
        "  wineYBar[int(i)] = wineUniqueDict[i]\n",
        "\n",
        "plt.bar(['class 1', 'class 2', 'class 3'], wineYBar, color ='maroon', width = 0.4)\n",
        "plt.xlabel(\"target\")\n",
        "plt.ylabel(\"frequency\")\n",
        "plt.show()"
      ],
      "metadata": {
        "colab": {
          "base_uri": "https://localhost:8080/",
          "height": 297
        },
        "id": "31auYzq3AYR_",
        "outputId": "b27384de-7b82-4c61-cb68-dca1c9de005c"
      },
      "execution_count": 29,
      "outputs": [
        {
          "output_type": "stream",
          "name": "stdout",
          "text": [
            "{0.0: 59, 1.0: 71, 2.0: 48}\n"
          ]
        },
        {
          "output_type": "display_data",
          "data": {
            "text/plain": [
              "<Figure size 432x288 with 1 Axes>"
            ],
            "image/png": "[encoded data removed]"
          },
          "metadata": {
            "needs_background": "light"
          }
        }
      ]
    },
    {
      "cell_type": "code",
      "source": [
        "plt.hist(df['alcohol'])"
      ],
      "metadata": {
        "colab": {
          "base_uri": "https://localhost:8080/",
          "height": 356
        },
        "id": "9awBj9CWAbEu",
        "outputId": "15346cd6-d1cf-4464-809c-7ee0ba4b264f"
      },
      "execution_count": 30,
      "outputs": [
        {
          "output_type": "execute_result",
          "data": {
            "text/plain": [
              "(array([ 1., 10., 19., 31., 21., 27., 25., 25., 17.,  2.]),\n",
              " array([0.74376264, 0.76938638, 0.79501011, 0.82063385, 0.84625759,\n",
              "        0.87188132, 0.89750506, 0.92312879, 0.94875253, 0.97437626,\n",
              "        1.        ]),\n",
              " <a list of 10 Patch objects>)"
            ]
          },
          "metadata": {},
          "execution_count": 30
        },
        {
          "output_type": "display_data",
          "data": {
            "text/plain": [
              "<Figure size 432x288 with 1 Axes>"
            ],
            "image/png": "[encoded data removed]"
          },
          "metadata": {
            "needs_background": "light"
          }
        }
      ]
    },
    {
      "cell_type": "code",
      "source": [
        "import seaborn as sns\n",
        "sns.scatterplot(x=df.index, y=df['color_intensity'], hue = df['target'])"
      ],
      "metadata": {
        "colab": {
          "base_uri": "https://localhost:8080/",
          "height": 283
        },
        "id": "ta2G30QuAeMs",
        "outputId": "6a6bca41-8f45-4a0a-810c-87693ea8d870"
      },
      "execution_count": 31,
      "outputs": [
        {
          "output_type": "execute_result",
          "data": {
            "text/plain": [
              "<matplotlib.axes._subplots.AxesSubplot at 0x7f8e325ef550>"
            ]
          },
          "metadata": {},
          "execution_count": 31
        },
        {
          "output_type": "display_data",
          "data": {
            "text/plain": [
              "<Figure size 432x288 with 1 Axes>"
            ],
            "image/png": "[encoded data removed]"
          },
          "metadata": {
            "needs_background": "light"
          }
        }
      ]
    },
    {
      "cell_type": "code",
      "source": [
        "df['target'] = data['target']"
      ],
      "metadata": {
        "id": "DTPgmg7CAgKJ"
      },
      "execution_count": 32,
      "outputs": []
    },
    {
      "cell_type": "code",
      "source": [
        "dfTarget = df['target']"
      ],
      "metadata": {
        "id": "IyxpQ9ODAimt"
      },
      "execution_count": 33,
      "outputs": []
    },
    {
      "cell_type": "code",
      "source": [
        "del df['target']"
      ],
      "metadata": {
        "id": "EkN8hde2AmDy"
      },
      "execution_count": 34,
      "outputs": []
    },
    {
      "cell_type": "code",
      "source": [
        "wineData = load_wine()\n",
        "wineDF = pd.DataFrame(data=wineData['data'],columns=wineData['feature_names'])"
      ],
      "metadata": {
        "id": "Wc5mF1uDApy1"
      },
      "execution_count": 35,
      "outputs": []
    },
    {
      "cell_type": "code",
      "source": [
        "wineDF['target'] = wineData['target']"
      ],
      "metadata": {
        "id": "JfmyFEA4AsC8"
      },
      "execution_count": 36,
      "outputs": []
    },
    {
      "cell_type": "code",
      "source": [
        "wineDFTarget = wineDF['target']"
      ],
      "metadata": {
        "id": "d6DBtipbAuGM"
      },
      "execution_count": 37,
      "outputs": []
    },
    {
      "cell_type": "code",
      "source": [
        "del wineDF['target']"
      ],
      "metadata": {
        "id": "WeD3piMhAwId"
      },
      "execution_count": 38,
      "outputs": []
    },
    {
      "cell_type": "code",
      "source": [
        "#Hold out cross-validation\n",
        "from sklearn.model_selection import train_test_split\n",
        "from sklearn.linear_model import LogisticRegression\n",
        "\n",
        "import warnings\n",
        "from sklearn.exceptions import ConvergenceWarning\n",
        "warnings.filterwarnings(\"ignore\", category=ConvergenceWarning)\n",
        "\n",
        "wineTrain1X, wineTest1X, wineTrain1Y, wineTest1Y = train_test_split(wineDF, wineDFTarget, test_size=0.30, random_state=0)\n",
        "LRmodel = LogisticRegression(multi_class='ovr')\n",
        "LRmodel.fit(wineTrain1X, wineTrain1Y)\n",
        "result = LRmodel.score(wineTest1X, wineTest1Y)\n",
        "print(\"accuracy (in percent)\", 100*result)"
      ],
      "metadata": {
        "colab": {
          "base_uri": "https://localhost:8080/"
        },
        "id": "DXZ2z_c_Ayih",
        "outputId": "4eefb650-1e66-4764-cfc8-2b2ddfced0cc"
      },
      "execution_count": 45,
      "outputs": [
        {
          "output_type": "stream",
          "name": "stdout",
          "text": [
            "accuracy (in percent) 94.44444444444444\n"
          ]
        }
      ]
    },
    {
      "cell_type": "code",
      "source": [
        "from sklearn.model_selection import cross_val_score\n",
        "from sklearn.model_selection import KFold\n",
        "import numpy as np\n",
        "\n",
        "import warnings\n",
        "from sklearn.exceptions import ConvergenceWarning\n",
        "warnings.filterwarnings(\"ignore\", category=ConvergenceWarning)\n",
        "\n",
        "KFoldVal=KFold(4)\n",
        "results=cross_val_score(LRmodel,wineDF,wineDFTarget,cv=KFoldVal)\n",
        "print(\"accuracy (in percent)\", 100*np.mean(results))"
      ],
      "metadata": {
        "colab": {
          "base_uri": "https://localhost:8080/"
        },
        "id": "mo3DjrZzBW7B",
        "outputId": "42d8e603-443c-4f6f-8e38-ff42424a8d02"
      },
      "execution_count": 46,
      "outputs": [
        {
          "output_type": "stream",
          "name": "stdout",
          "text": [
            "accuracy (in percent) 81.50252525252525\n"
          ]
        }
      ]
    },
    {
      "cell_type": "code",
      "source": [
        "#stratified 3 fold cross validation\n",
        "from sklearn.model_selection import StratifiedKFold\n",
        "\n",
        "from sklearn.exceptions import ConvergenceWarning\n",
        "warnings.filterwarnings(\"ignore\", category=ConvergenceWarning)\n",
        "\n",
        "SKFoldVal=StratifiedKFold(n_splits=3)\n",
        "\n",
        "scores=cross_val_score(LRmodel,wineDF,wineDFTarget,cv=SKFoldVal)\n",
        "\n",
        "print(\"accuracy (in percent)\", 100*np.mean(scores))"
      ],
      "metadata": {
        "colab": {
          "base_uri": "https://localhost:8080/"
        },
        "id": "nQlcuM3rBsfn",
        "outputId": "494b880b-789c-453d-ea66-10ccf450c468"
      },
      "execution_count": 47,
      "outputs": [
        {
          "output_type": "stream",
          "name": "stdout",
          "text": [
            "accuracy (in percent) 94.41619585687383\n"
          ]
        }
      ]
    },
    {
      "cell_type": "code",
      "source": [
        "#monte carlo cross validation\n",
        "from sklearn.model_selection import ShuffleSplit\n",
        "from sklearn.exceptions import ConvergenceWarning\n",
        "warnings.filterwarnings(\"ignore\", category=ConvergenceWarning)\n",
        "\n",
        "ssplit=ShuffleSplit(n_splits=3, test_size=0.30)\n",
        "results=cross_val_score(LRmodel,wineDF,wineDFTarget,cv=ssplit)\n",
        "\n",
        "print(\"accuracy (in percent)\", np.mean(results)*100)\n"
      ],
      "metadata": {
        "colab": {
          "base_uri": "https://localhost:8080/"
        },
        "id": "58urXL_bByu6",
        "outputId": "1e1ca1f8-37a7-4eb1-d9fc-9c50080d052f"
      },
      "execution_count": 48,
      "outputs": [
        {
          "output_type": "stream",
          "name": "stdout",
          "text": [
            "accuracy (in percent) 95.06172839506172\n"
          ]
        }
      ]
    },
    {
      "cell_type": "code",
      "source": [
        "from sklearn.model_selection import LeavePOut\n",
        "from sklearn.exceptions import ConvergenceWarning\n",
        "warnings.filterwarnings(\"ignore\", category=ConvergenceWarning)\n",
        "\n",
        "model=LogisticRegression()\n",
        "\n",
        "leavePOutVal=LeavePOut(1)\n",
        "\n",
        "results=cross_val_score(model,wineDF,wineDFTarget,cv=leavePOutVal)\n",
        "\n",
        "print(\"accuracy (in percent)\", np.mean(results)*100)"
      ],
      "metadata": {
        "colab": {
          "base_uri": "https://localhost:8080/"
        },
        "id": "PdNUD6PDB2ea",
        "outputId": "1fa1833a-8489-45f1-f65a-0454af35bd76"
      },
      "execution_count": 51,
      "outputs": [
        {
          "output_type": "stream",
          "name": "stdout",
          "text": [
            "accuracy (in percent) 96.06741573033707\n"
          ]
        }
      ]
    }
  ]
}