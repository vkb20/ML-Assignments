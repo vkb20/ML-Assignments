{
  "nbformat": 4,
  "nbformat_minor": 0,
  "metadata": {
    "colab": {
      "provenance": []
    },
    "kernelspec": {
      "name": "python3",
      "display_name": "Python 3"
    },
    "language_info": {
      "name": "python"
    },
    "gpuClass": "standard"
  },
  "cells": [
    {
      "cell_type": "code",
      "execution_count": 1,
      "metadata": {
        "colab": {
          "base_uri": "https://localhost:8080/"
        },
        "id": "AXXP3ZZwZzmu",
        "outputId": "f9642823-9786-48a6-990b-07df01b1bfea"
      },
      "outputs": [
        {
          "output_type": "stream",
          "name": "stdout",
          "text": [
            "Mounted at /content/drive\n"
          ]
        }
      ],
      "source": [
        "from google.colab import drive\n",
        "drive.mount('/content/drive')"
      ]
    },
    {
      "cell_type": "code",
      "source": [
        "def unpickle(file):\n",
        "    import pickle\n",
        "    with open(file, 'rb') as fo:\n",
        "        dict = pickle.load(fo, encoding='bytes')\n",
        "    return dict"
      ],
      "metadata": {
        "id": "q4bAM0wXf2iQ"
      },
      "execution_count": 2,
      "outputs": []
    },
    {
      "cell_type": "code",
      "source": [
        "import random\n",
        "trainFile = '/content/drive/MyDrive/cifar-100-python/train'\n",
        "testFile = '/content/drive/MyDrive/cifar-100-python/test'\n",
        "\n",
        "trainDict = unpickle(trainFile)\n",
        "testDict = unpickle(testFile)\n",
        "\n",
        "trainLabels = trainDict[b'coarse_labels']\n",
        "trainImgs = trainDict[b'data']\n",
        "\n",
        "testLabels = testDict[b'coarse_labels']\n",
        "testImgs = testDict[b'data']\n",
        "\n",
        "randomSuperClassList = random.sample(range(20), 5)\n",
        "print(randomSuperClassList)\n",
        "\n",
        "trainIndices = []\n",
        "testIndices = []\n",
        "\n",
        "c1count = 0\n",
        "c2count = 0\n",
        "c3count = 0\n",
        "c4count = 0\n",
        "c5count = 0\n",
        "\n",
        "while(c1count<180):\n",
        "  idx = random.randint(0, len(trainLabels)-1)\n",
        "  if(trainLabels[idx]==randomSuperClassList[0]):\n",
        "    if(idx not in trainIndices):\n",
        "      trainIndices.append(idx)\n",
        "      c1count = c1count + 1\n",
        "\n",
        "while(c2count<180):\n",
        "  idx = random.randint(0, len(trainLabels)-1)\n",
        "  if(trainLabels[idx]==randomSuperClassList[1]):\n",
        "    if(idx not in trainIndices):\n",
        "      trainIndices.append(idx)\n",
        "      c2count = c2count + 1\n",
        "\n",
        "while(c3count<180):\n",
        "  idx = random.randint(0, len(trainLabels)-1)\n",
        "  if(trainLabels[idx]==randomSuperClassList[2]):\n",
        "    if(idx not in trainIndices):\n",
        "      trainIndices.append(idx)\n",
        "      c3count = c3count + 1\n",
        "\n",
        "while(c4count<180):\n",
        "  idx = random.randint(0, len(trainLabels)-1)\n",
        "  if(trainLabels[idx]==randomSuperClassList[3]):\n",
        "    if(idx not in trainIndices):\n",
        "      trainIndices.append(idx)\n",
        "      c4count = c4count + 1\n",
        "\n",
        "while(c5count<180):\n",
        "  idx = random.randint(0, len(trainLabels)-1)\n",
        "  if(trainLabels[idx]==randomSuperClassList[4]):\n",
        "    if(idx not in trainIndices):\n",
        "      trainIndices.append(idx)\n",
        "      c5count = c5count + 1\n",
        "\n",
        "c1count = 0\n",
        "c2count = 0\n",
        "c3count = 0\n",
        "c4count = 0\n",
        "c5count = 0\n",
        "\n",
        "while(c1count<20):\n",
        "  idx = random.randint(0, len(testLabels)-1)\n",
        "  if(testLabels[idx]==randomSuperClassList[0]):\n",
        "    if(idx not in testIndices):\n",
        "      testIndices.append(idx)\n",
        "      c1count = c1count + 1\n",
        "\n",
        "while(c2count<20):\n",
        "  idx = random.randint(0, len(testLabels)-1)\n",
        "  if(testLabels[idx]==randomSuperClassList[1]):\n",
        "    if(idx not in testIndices):\n",
        "      testIndices.append(idx)\n",
        "      c2count = c2count + 1\n",
        "\n",
        "while(c3count<20):\n",
        "  idx = random.randint(0, len(testLabels)-1)\n",
        "  if(testLabels[idx]==randomSuperClassList[2]):\n",
        "    if(idx not in testIndices):\n",
        "      testIndices.append(idx)\n",
        "      c3count = c3count + 1\n",
        "\n",
        "while(c4count<20):\n",
        "  idx = random.randint(0, len(testLabels)-1)\n",
        "  if(testLabels[idx]==randomSuperClassList[3]):\n",
        "    if(idx not in testIndices):\n",
        "      testIndices.append(idx)\n",
        "      c4count = c4count + 1\n",
        "\n",
        "while(c5count<20):\n",
        "  idx = random.randint(0, len(testLabels)-1)\n",
        "  if(testLabels[idx]==randomSuperClassList[4]):\n",
        "    if(idx not in testIndices):\n",
        "      testIndices.append(idx)\n",
        "      c5count = c5count + 1"
      ],
      "metadata": {
        "colab": {
          "base_uri": "https://localhost:8080/"
        },
        "id": "E8xfK0B3f5jx",
        "outputId": "e7c94805-66e9-47a4-fda4-fe79647112c2"
      },
      "execution_count": 26,
      "outputs": [
        {
          "output_type": "stream",
          "name": "stdout",
          "text": [
            "[9, 12, 13, 18, 0]\n"
          ]
        }
      ]
    },
    {
      "cell_type": "code",
      "source": [
        "from google.colab.patches import cv2_imshow\n",
        "import cv2\n",
        "import numpy as np\n",
        "\n",
        "finalTrainImgs = []\n",
        "finalTrainLabels = []\n",
        "finalTestImgs = []\n",
        "finalTestLabels = []\n",
        "\n",
        "for i in range(len(trainIndices)):\n",
        "  tempImg = np.array(trainImgs[trainIndices[i]]).reshape(3,32,32)\n",
        "  tempImg = tempImg.transpose(1,2,0)\n",
        "  finalTrainImgs.append(tempImg)\n",
        "  finalTrainLabels.append(trainLabels[trainIndices[i]])\n",
        "\n",
        "for i in range(len(testIndices)):\n",
        "  tempImg = np.array(testImgs[testIndices[i]]).reshape(3,32,32)\n",
        "  tempImg = tempImg.transpose(1,2,0)\n",
        "  finalTestImgs.append(tempImg)\n",
        "  finalTestLabels.append(testLabels[testIndices[i]])\n",
        "\n",
        "finalTrainImgs = np.array(finalTrainImgs)\n",
        "finalTestImgs = np.array(finalTestImgs)\n",
        "\n",
        "finalTrainLabels = np.array(finalTrainLabels)\n",
        "finalTestLabels = np.array(finalTestLabels)\n",
        "print(finalTrainImgs.shape)\n",
        "print(finalTestImgs.shape)"
      ],
      "metadata": {
        "colab": {
          "base_uri": "https://localhost:8080/"
        },
        "id": "UFQXO519monu",
        "outputId": "245adc02-17b2-4456-87ee-633b1aae3788"
      },
      "execution_count": 27,
      "outputs": [
        {
          "output_type": "stream",
          "name": "stdout",
          "text": [
            "(900, 32, 32, 3)\n",
            "(100, 32, 32, 3)\n"
          ]
        }
      ]
    },
    {
      "cell_type": "code",
      "source": [
        "from tensorflow.keras.models import Model\n",
        "from tensorflow.keras.layers import Input, Conv2D, MaxPooling2D, UpSampling2D, Conv2DTranspose\n",
        "from tensorflow.keras.layers import BatchNormalization\n",
        "\n",
        "inpLayer = Input(shape=(32,32,3))\n",
        "c1 = Conv2D(16, (3,3), activation = 'relu', padding = 'same')(inpLayer)\n",
        "m1 = MaxPooling2D((2,2))(c1)\n",
        "b1 = BatchNormalization()(m1)\n",
        "c2 = Conv2D(64, (3,3), activation = 'relu', padding = 'same')(b1)\n",
        "m2 = MaxPooling2D((2,2))(c2)\n",
        "b2 = BatchNormalization()(m2)\n",
        "c3 = Conv2D(128, (3,3), activation = 'relu', padding = 'same')(b2)\n",
        "m3 = MaxPooling2D((2,2))(c3)\n",
        "b3 = BatchNormalization()(m3)\n",
        "\n",
        "tc0 = Conv2DTranspose(128, (3,3), activation = 'relu', padding = 'same')(b3)\n",
        "u0 = UpSampling2D((2,2))(tc0)\n",
        "bn0 = BatchNormalization()(u0)\n",
        "tc1 = Conv2DTranspose(64, (3,3), activation = 'relu', padding = 'same')(bn0)\n",
        "u1 = UpSampling2D((2,2))(tc1)\n",
        "bn1 = BatchNormalization()(u1)\n",
        "tc2 = Conv2DTranspose(16, (3,3), activation = 'relu', padding = 'same')(bn1)\n",
        "u2 = UpSampling2D((2,2))(tc2)\n",
        "bn2 = BatchNormalization()(u2)\n",
        "outLayer = Conv2D(3, (3,3), activation = 'relu', padding = 'same')(bn2)"
      ],
      "metadata": {
        "id": "mFsCyD9etXtO"
      },
      "execution_count": 28,
      "outputs": []
    },
    {
      "cell_type": "code",
      "source": [
        "AE = Model(inpLayer, outLayer)\n",
        "AE.compile(optimizer = 'adam', loss = 'mse')"
      ],
      "metadata": {
        "id": "xoS1EV23tzcN"
      },
      "execution_count": 29,
      "outputs": []
    },
    {
      "cell_type": "code",
      "source": [
        "AE.summary()"
      ],
      "metadata": {
        "colab": {
          "base_uri": "https://localhost:8080/"
        },
        "id": "BxwEoMHbt0_6",
        "outputId": "45658ba9-ed36-4e83-f673-f080a84c3067"
      },
      "execution_count": 30,
      "outputs": [
        {
          "output_type": "stream",
          "name": "stdout",
          "text": [
            "Model: \"model_10\"\n",
            "_________________________________________________________________\n",
            " Layer (type)                Output Shape              Param #   \n",
            "=================================================================\n",
            " input_3 (InputLayer)        [(None, 32, 32, 3)]       0         \n",
            "                                                                 \n",
            " conv2d_8 (Conv2D)           (None, 32, 32, 16)        448       \n",
            "                                                                 \n",
            " max_pooling2d_6 (MaxPooling  (None, 16, 16, 16)       0         \n",
            " 2D)                                                             \n",
            "                                                                 \n",
            " batch_normalization_12 (Bat  (None, 16, 16, 16)       64        \n",
            " chNormalization)                                                \n",
            "                                                                 \n",
            " conv2d_9 (Conv2D)           (None, 16, 16, 64)        9280      \n",
            "                                                                 \n",
            " max_pooling2d_7 (MaxPooling  (None, 8, 8, 64)         0         \n",
            " 2D)                                                             \n",
            "                                                                 \n",
            " batch_normalization_13 (Bat  (None, 8, 8, 64)         256       \n",
            " chNormalization)                                                \n",
            "                                                                 \n",
            " conv2d_10 (Conv2D)          (None, 8, 8, 128)         73856     \n",
            "                                                                 \n",
            " max_pooling2d_8 (MaxPooling  (None, 4, 4, 128)        0         \n",
            " 2D)                                                             \n",
            "                                                                 \n",
            " batch_normalization_14 (Bat  (None, 4, 4, 128)        512       \n",
            " chNormalization)                                                \n",
            "                                                                 \n",
            " conv2d_transpose_6 (Conv2DT  (None, 4, 4, 128)        147584    \n",
            " ranspose)                                                       \n",
            "                                                                 \n",
            " up_sampling2d_6 (UpSampling  (None, 8, 8, 128)        0         \n",
            " 2D)                                                             \n",
            "                                                                 \n",
            " batch_normalization_15 (Bat  (None, 8, 8, 128)        512       \n",
            " chNormalization)                                                \n",
            "                                                                 \n",
            " conv2d_transpose_7 (Conv2DT  (None, 8, 8, 64)         73792     \n",
            " ranspose)                                                       \n",
            "                                                                 \n",
            " up_sampling2d_7 (UpSampling  (None, 16, 16, 64)       0         \n",
            " 2D)                                                             \n",
            "                                                                 \n",
            " batch_normalization_16 (Bat  (None, 16, 16, 64)       256       \n",
            " chNormalization)                                                \n",
            "                                                                 \n",
            " conv2d_transpose_8 (Conv2DT  (None, 16, 16, 16)       9232      \n",
            " ranspose)                                                       \n",
            "                                                                 \n",
            " up_sampling2d_8 (UpSampling  (None, 32, 32, 16)       0         \n",
            " 2D)                                                             \n",
            "                                                                 \n",
            " batch_normalization_17 (Bat  (None, 32, 32, 16)       64        \n",
            " chNormalization)                                                \n",
            "                                                                 \n",
            " conv2d_11 (Conv2D)          (None, 32, 32, 3)         435       \n",
            "                                                                 \n",
            "=================================================================\n",
            "Total params: 316,291\n",
            "Trainable params: 315,459\n",
            "Non-trainable params: 832\n",
            "_________________________________________________________________\n"
          ]
        }
      ]
    },
    {
      "cell_type": "code",
      "source": [
        "history = AE.fit(finalTrainImgs, finalTrainImgs, epochs = 50, batch_size = 8, shuffle = True)"
      ],
      "metadata": {
        "colab": {
          "base_uri": "https://localhost:8080/"
        },
        "id": "MFfo-JZmt1iK",
        "outputId": "720e38f8-48f0-4344-9ba9-90a98d079e2e"
      },
      "execution_count": 31,
      "outputs": [
        {
          "output_type": "stream",
          "name": "stdout",
          "text": [
            "Epoch 1/50\n",
            "113/113 [==============================] - 8s 50ms/step - loss: 17100.3262\n",
            "Epoch 2/50\n",
            "113/113 [==============================] - 6s 51ms/step - loss: 13175.6914\n",
            "Epoch 3/50\n",
            "113/113 [==============================] - 5s 42ms/step - loss: 9069.6377\n",
            "Epoch 4/50\n",
            "113/113 [==============================] - 7s 61ms/step - loss: 5756.0322\n",
            "Epoch 5/50\n",
            "113/113 [==============================] - 5s 42ms/step - loss: 3710.3066\n",
            "Epoch 6/50\n",
            "113/113 [==============================] - 5s 41ms/step - loss: 2578.2639\n",
            "Epoch 7/50\n",
            "113/113 [==============================] - 7s 60ms/step - loss: 2023.7441\n",
            "Epoch 8/50\n",
            "113/113 [==============================] - 5s 45ms/step - loss: 1716.5325\n",
            "Epoch 9/50\n",
            "113/113 [==============================] - 7s 58ms/step - loss: 1564.6005\n",
            "Epoch 10/50\n",
            "113/113 [==============================] - 5s 47ms/step - loss: 1451.0970\n",
            "Epoch 11/50\n",
            "113/113 [==============================] - 5s 43ms/step - loss: 1274.0586\n",
            "Epoch 12/50\n",
            "113/113 [==============================] - 7s 61ms/step - loss: 1229.8262\n",
            "Epoch 13/50\n",
            "113/113 [==============================] - 5s 42ms/step - loss: 1111.6979\n",
            "Epoch 14/50\n",
            "113/113 [==============================] - 6s 53ms/step - loss: 1146.4673\n",
            "Epoch 15/50\n",
            "113/113 [==============================] - 6s 51ms/step - loss: 1052.1786\n",
            "Epoch 16/50\n",
            "113/113 [==============================] - 5s 41ms/step - loss: 978.2096\n",
            "Epoch 17/50\n",
            "113/113 [==============================] - 7s 60ms/step - loss: 1038.1576\n",
            "Epoch 18/50\n",
            "113/113 [==============================] - 5s 43ms/step - loss: 1010.2867\n",
            "Epoch 19/50\n",
            "113/113 [==============================] - 5s 45ms/step - loss: 1004.2278\n",
            "Epoch 20/50\n",
            "113/113 [==============================] - 7s 58ms/step - loss: 920.1437\n",
            "Epoch 21/50\n",
            "113/113 [==============================] - 5s 44ms/step - loss: 922.6443\n",
            "Epoch 22/50\n",
            "113/113 [==============================] - 7s 62ms/step - loss: 901.1776\n",
            "Epoch 23/50\n",
            "113/113 [==============================] - 5s 45ms/step - loss: 852.8547\n",
            "Epoch 24/50\n",
            "113/113 [==============================] - 6s 50ms/step - loss: 871.5320\n",
            "Epoch 25/50\n",
            "113/113 [==============================] - 6s 56ms/step - loss: 887.2146\n",
            "Epoch 26/50\n",
            "113/113 [==============================] - 5s 43ms/step - loss: 813.0968\n",
            "Epoch 27/50\n",
            "113/113 [==============================] - 7s 61ms/step - loss: 791.3792\n",
            "Epoch 28/50\n",
            "113/113 [==============================] - 5s 44ms/step - loss: 858.6851\n",
            "Epoch 29/50\n",
            "113/113 [==============================] - 5s 46ms/step - loss: 771.2529\n",
            "Epoch 30/50\n",
            "113/113 [==============================] - 7s 60ms/step - loss: 730.2662\n",
            "Epoch 31/50\n",
            "113/113 [==============================] - 5s 43ms/step - loss: 748.5040\n",
            "Epoch 32/50\n",
            "113/113 [==============================] - 7s 61ms/step - loss: 763.8365\n",
            "Epoch 33/50\n",
            "113/113 [==============================] - 5s 42ms/step - loss: 717.5283\n",
            "Epoch 34/50\n",
            "113/113 [==============================] - 5s 43ms/step - loss: 700.5578\n",
            "Epoch 35/50\n",
            "113/113 [==============================] - 7s 60ms/step - loss: 697.3840\n",
            "Epoch 36/50\n",
            "113/113 [==============================] - 5s 43ms/step - loss: 674.8618\n",
            "Epoch 37/50\n",
            "113/113 [==============================] - 6s 57ms/step - loss: 711.7240\n",
            "Epoch 38/50\n",
            "113/113 [==============================] - 5s 47ms/step - loss: 725.6925\n",
            "Epoch 39/50\n",
            "113/113 [==============================] - 5s 45ms/step - loss: 736.8053\n",
            "Epoch 40/50\n",
            "113/113 [==============================] - 7s 60ms/step - loss: 715.7381\n",
            "Epoch 41/50\n",
            "113/113 [==============================] - 5s 43ms/step - loss: 717.8964\n",
            "Epoch 42/50\n",
            "113/113 [==============================] - 6s 55ms/step - loss: 689.3838\n",
            "Epoch 43/50\n",
            "113/113 [==============================] - 6s 51ms/step - loss: 648.9387\n",
            "Epoch 44/50\n",
            "113/113 [==============================] - 5s 43ms/step - loss: 706.5261\n",
            "Epoch 45/50\n",
            "113/113 [==============================] - 7s 62ms/step - loss: 679.5354\n",
            "Epoch 46/50\n",
            "113/113 [==============================] - 5s 43ms/step - loss: 644.4066\n",
            "Epoch 47/50\n",
            "113/113 [==============================] - 6s 52ms/step - loss: 638.8488\n",
            "Epoch 48/50\n",
            "113/113 [==============================] - 6s 53ms/step - loss: 649.7401\n",
            "Epoch 49/50\n",
            "113/113 [==============================] - 5s 42ms/step - loss: 627.4446\n",
            "Epoch 50/50\n",
            "113/113 [==============================] - 7s 62ms/step - loss: 648.5848\n"
          ]
        }
      ]
    },
    {
      "cell_type": "code",
      "source": [
        "import matplotlib.pyplot as plt\n",
        "\n",
        "decodedImgs = AE.predict(finalTestImgs)\n",
        "\n",
        "tempList = list(finalTestLabels)\n",
        "\n",
        "idx1 = tempList.index(randomSuperClassList[0])\n",
        "idx2 = tempList.index(randomSuperClassList[1])\n",
        "idx3 = tempList.index(randomSuperClassList[2])\n",
        "idx4 = tempList.index(randomSuperClassList[3])\n",
        "idx5 = tempList.index(randomSuperClassList[4])\n",
        "\n",
        "orgImg1 = finalTestImgs[idx1]\n",
        "orgImg2 = finalTestImgs[idx2]\n",
        "orgImg3 = finalTestImgs[idx3]\n",
        "orgImg4 = finalTestImgs[idx4]\n",
        "orgImg5 = finalTestImgs[idx5]\n",
        "\n",
        "decImg1 = decodedImgs[idx1]\n",
        "decImg1 = decImg1.astype(np.uint8)\n",
        "decImg2 = decodedImgs[idx2]\n",
        "decImg2 = decImg2.astype(np.uint8)\n",
        "decImg3 = decodedImgs[idx3]\n",
        "decImg3 = decImg3.astype(np.uint8)\n",
        "decImg4 = decodedImgs[idx4]\n",
        "decImg4 = decImg4.astype(np.uint8)\n",
        "decImg5 = decodedImgs[idx5]\n",
        "decImg5 = decImg5.astype(np.uint8)\n",
        "\n",
        "fig = plt.figure()\n",
        "ax1 = fig.add_subplot(5,2,1)\n",
        "ax1.imshow(orgImg1)\n",
        "ax2 = fig.add_subplot(5,2,2)\n",
        "ax2.imshow(decImg1)\n",
        "ax3 = fig.add_subplot(5,2,3)\n",
        "ax3.imshow(orgImg2)\n",
        "ax4 = fig.add_subplot(5,2,4)\n",
        "ax4.imshow(decImg2)\n",
        "ax5 = fig.add_subplot(5,2,5)\n",
        "ax5.imshow(orgImg3)\n",
        "ax6 = fig.add_subplot(5,2,6)\n",
        "ax6.imshow(decImg3)\n",
        "ax7 = fig.add_subplot(5,2,7)\n",
        "ax7.imshow(orgImg4)\n",
        "ax8 = fig.add_subplot(5,2,8)\n",
        "ax8.imshow(decImg4)\n",
        "ax9 = fig.add_subplot(5,2,9)\n",
        "ax9.imshow(orgImg5)\n",
        "ax10 = fig.add_subplot(5,2,10)\n",
        "ax10.imshow(decImg5)\n"
      ],
      "metadata": {
        "colab": {
          "base_uri": "https://localhost:8080/",
          "height": 305
        },
        "id": "FGd4kKgrvgDe",
        "outputId": "ba1cf951-7db3-4d91-852e-0fef1f6016fd"
      },
      "execution_count": 32,
      "outputs": [
        {
          "output_type": "stream",
          "name": "stdout",
          "text": [
            "4/4 [==============================] - 2s 111ms/step\n"
          ]
        },
        {
          "output_type": "execute_result",
          "data": {
            "text/plain": [
              "<matplotlib.image.AxesImage at 0x7f406267cb20>"
            ]
          },
          "metadata": {},
          "execution_count": 32
        },
        {
          "output_type": "display_data",
          "data": {
            "text/plain": [
              "<Figure size 432x288 with 10 Axes>"
            ],
            "image/png": "[encoded data removed]"
          },
          "metadata": {
            "needs_background": "light"
          }
        }
      ]
    },
    {
      "cell_type": "code",
      "source": [
        "plt.plot(history.history['loss'], label='train')\n",
        "plt.title('epoch vs training loss')\n",
        "plt.xlabel('Epoch')\n",
        "plt.ylabel('Loss')\n",
        "plt.show()"
      ],
      "metadata": {
        "colab": {
          "base_uri": "https://localhost:8080/",
          "height": 295
        },
        "id": "vbBfADSUQVnM",
        "outputId": "5415f347-c6fa-403b-9d03-a496b56ecbf8"
      },
      "execution_count": 33,
      "outputs": [
        {
          "output_type": "display_data",
          "data": {
            "text/plain": [
              "<Figure size 432x288 with 1 Axes>"
            ],
            "image/png": "[encoded data removed]"
          },
          "metadata": {
            "needs_background": "light"
          }
        }
      ]
    },
    {
      "cell_type": "code",
      "source": [
        "from sklearn.svm import SVC\n",
        "from sklearn.metrics import accuracy_score\n",
        "\n",
        "enc = Model(inpLayer, b3)\n",
        "xTrainEmbed = enc.predict(finalTrainImgs)\n",
        "xTestEmbed = enc.predict(finalTestImgs)\n",
        "\n",
        "xTrainEmbed = np.reshape(xTrainEmbed, (xTrainEmbed.shape[0], xTrainEmbed.shape[1]*xTrainEmbed.shape[2]*xTrainEmbed.shape[3]))\n",
        "xTestEmbed = np.reshape(xTestEmbed, (xTestEmbed.shape[0], xTestEmbed.shape[1]*xTestEmbed.shape[2]*xTestEmbed.shape[3]))\n",
        "\n",
        "kernelSVM = SVC(kernel='rbf', gamma = 0.4).fit(xTrainEmbed, finalTrainLabels)\n",
        "\n",
        "kernelPred1 = kernelSVM.predict(xTrainEmbed)\n",
        "kernelPred2 = kernelSVM.predict(xTestEmbed)\n",
        "kernelAccuracy1 = accuracy_score(finalTrainLabels, kernelPred1)\n",
        "kernelAccuracy2 = accuracy_score(finalTestLabels, kernelPred2)\n",
        "print(\"training accuracy in percent\", kernelAccuracy1*100)\n",
        "print(\"test accuracy in percent\", kernelAccuracy2*100)\n"
      ],
      "metadata": {
        "colab": {
          "base_uri": "https://localhost:8080/"
        },
        "id": "2HD1XxHnYV-4",
        "outputId": "2389eb5e-0612-4333-8f5a-6c3e5e313408"
      },
      "execution_count": 48,
      "outputs": [
        {
          "output_type": "stream",
          "name": "stdout",
          "text": [
            "29/29 [==============================] - 1s 18ms/step\n",
            "4/4 [==============================] - 0s 15ms/step\n",
            "training accuracy in percent 100.0\n",
            "test accuracy in percent 36.0\n"
          ]
        }
      ]
    },
    {
      "cell_type": "code",
      "source": [
        "import pandas as pd\n",
        "import numpy as np\n",
        "from sklearn.model_selection import train_test_split\n",
        "import matplotlib.pyplot as plt\n",
        "\n",
        "file = '/content/drive/MyDrive/Sapodillas_and_Kiwis.xlsx'\n",
        "df = pd.read_excel(file)\n",
        "\n",
        "x = df.iloc[:, 0:2]\n",
        "y = df.iloc[:,2]\n",
        "\n",
        "listY = []\n",
        "for i in range(y.shape[0]):\n",
        "  if(y.iloc[i]=='Kiwi'):\n",
        "    listY.append(1)\n",
        "  else:\n",
        "    listY.append(0)\n",
        "\n",
        "listY = np.array(listY)\n",
        "\n",
        "y = pd.DataFrame(listY, columns =['class'])\n",
        "\n",
        "xTrain, xTest, yTrain, yTest = train_test_split(x, y, test_size=0.15, random_state=0)\n",
        "\n",
        "xMax = xTrain.iloc[:, 0].max() + 0.5\n",
        "xMin = xTrain.iloc[:, 0].min() - 0.5\n",
        "yMax = xTrain.iloc[:, 1].max() + 0.5\n",
        "yMin = xTrain.iloc[:, 1].min() - 0.5\n",
        "\n",
        "step = 0.03\n",
        "\n",
        "meshX, meshY = np.meshgrid(np.arange(xMin, xMax, step), np.arange(yMin, yMax, step))\n",
        "\n",
        "c = []\n",
        "for i in range(0, yTrain.shape[0]):\n",
        "  c.append(yTrain.iloc[i])"
      ],
      "metadata": {
        "id": "NcG9pFmHQl9A"
      },
      "execution_count": null,
      "outputs": []
    },
    {
      "cell_type": "code",
      "source": [
        "def plotDecisionBoundary(meshX, meshY, pred, c, xTrain, titleStr):\n",
        "  plt.contourf(meshX, meshY, pred, cmap='RdBu', alpha=0.5)\n",
        "  plt.scatter(xTrain.iloc[:, 0], xTrain.iloc[:, 1], c=c, cmap='PRGn')\n",
        "  plt.xlim(meshX.min(), meshX.max())\n",
        "  plt.ylim(meshY.min(), meshY.max())\n",
        "  plt.xlabel('weight')\n",
        "  plt.ylabel('size')\n",
        "  plt.title(titleStr)"
      ],
      "metadata": {
        "id": "C4NzkdI5SNFB"
      },
      "execution_count": null,
      "outputs": []
    },
    {
      "cell_type": "code",
      "source": [
        "from sklearn.svm import SVC\n",
        "from sklearn.metrics import accuracy_score\n",
        "\n",
        "linearSVM = SVC(kernel='linear').fit(xTrain, yTrain)\n",
        "\n",
        "linearPred = linearSVM.predict(xTest)\n",
        "accuracy = accuracy_score(yTest, linearPred)\n",
        "print(\"accuracy in percent\", accuracy*100)\n",
        "\n",
        "predL = linearSVM.predict(np.c_[meshX.ravel(), meshY.ravel()])\n",
        "predL = predL.reshape(meshX.shape)\n",
        "\n",
        "plotDecisionBoundary(meshX, meshY, predL, c, xTrain, \"linear SVM decision boundary\")"
      ],
      "metadata": {
        "colab": {
          "base_uri": "https://localhost:8080/",
          "height": 406
        },
        "id": "XEttCVcPSPBc",
        "outputId": "6d620fe0-5eb1-4f2f-c87e-bfbb571b80f8"
      },
      "execution_count": null,
      "outputs": [
        {
          "output_type": "stream",
          "name": "stderr",
          "text": [
            "/usr/local/lib/python3.9/dist-packages/sklearn/utils/validation.py:1143: DataConversionWarning: A column-vector y was passed when a 1d array was expected. Please change the shape of y to (n_samples, ), for example using ravel().\n",
            "  y = column_or_1d(y, warn=True)\n",
            "/usr/local/lib/python3.9/dist-packages/sklearn/base.py:439: UserWarning: X does not have valid feature names, but SVC was fitted with feature names\n",
            "  warnings.warn(\n"
          ]
        },
        {
          "output_type": "stream",
          "name": "stdout",
          "text": [
            "accuracy in percent 100.0\n"
          ]
        },
        {
          "output_type": "display_data",
          "data": {
            "text/plain": [
              "<Figure size 432x288 with 1 Axes>"
            ],
            "image/png": "[encoded data removed]"
          },
          "metadata": {
            "needs_background": "light"
          }
        }
      ]
    },
    {
      "cell_type": "code",
      "source": [
        "polynomialSVM = SVC(kernel='poly', degree=10).fit(xTrain, yTrain)\n",
        "\n",
        "polynomialPred = polynomialSVM.predict(xTest)\n",
        "polyAccuracy = accuracy_score(yTest, polynomialPred)\n",
        "print(\"accuracy in percent\", polyAccuracy*100)\n",
        "\n",
        "predP = polynomialSVM.predict(np.c_[meshX.ravel(), meshY.ravel()])\n",
        "predP = predP.reshape(meshX.shape)\n",
        "\n",
        "plotDecisionBoundary(meshX, meshY, predP, c, xTrain, \"polynomial SVM decision boundary\")"
      ],
      "metadata": {
        "colab": {
          "base_uri": "https://localhost:8080/",
          "height": 406
        },
        "id": "TSNPSJ7uSRRy",
        "outputId": "dc44c119-0a14-423b-a4a6-6489da10ffea"
      },
      "execution_count": null,
      "outputs": [
        {
          "output_type": "stream",
          "name": "stderr",
          "text": [
            "/usr/local/lib/python3.9/dist-packages/sklearn/utils/validation.py:1143: DataConversionWarning: A column-vector y was passed when a 1d array was expected. Please change the shape of y to (n_samples, ), for example using ravel().\n",
            "  y = column_or_1d(y, warn=True)\n",
            "/usr/local/lib/python3.9/dist-packages/sklearn/base.py:439: UserWarning: X does not have valid feature names, but SVC was fitted with feature names\n",
            "  warnings.warn(\n"
          ]
        },
        {
          "output_type": "stream",
          "name": "stdout",
          "text": [
            "accuracy in percent 100.0\n"
          ]
        },
        {
          "output_type": "display_data",
          "data": {
            "text/plain": [
              "<Figure size 432x288 with 1 Axes>"
            ],
            "image/png": "[encoded data removed]"
          },
          "metadata": {
            "needs_background": "light"
          }
        }
      ]
    },
    {
      "cell_type": "code",
      "source": [
        "kernelSVM = SVC(kernel='rbf', gamma=1.3).fit(xTrain, yTrain)\n",
        "\n",
        "kernelPred = kernelSVM.predict(xTest)\n",
        "kernelAccuracy = accuracy_score(yTest, kernelPred)\n",
        "print(\"accuracy in percent\", kernelAccuracy*100)\n",
        "\n",
        "predK = kernelSVM.predict(np.c_[meshX.ravel(), meshY.ravel()])\n",
        "predK = predK.reshape(meshX.shape)\n",
        "\n",
        "plotDecisionBoundary(meshX, meshY, predK, c, xTrain, \"kernel SVM decision boundary\")"
      ],
      "metadata": {
        "colab": {
          "base_uri": "https://localhost:8080/",
          "height": 406
        },
        "id": "WH8_zIzlSTL5",
        "outputId": "817e2947-1d59-46f9-8301-9c66dceccaab"
      },
      "execution_count": null,
      "outputs": [
        {
          "output_type": "stream",
          "name": "stderr",
          "text": [
            "/usr/local/lib/python3.9/dist-packages/sklearn/utils/validation.py:1143: DataConversionWarning: A column-vector y was passed when a 1d array was expected. Please change the shape of y to (n_samples, ), for example using ravel().\n",
            "  y = column_or_1d(y, warn=True)\n",
            "/usr/local/lib/python3.9/dist-packages/sklearn/base.py:439: UserWarning: X does not have valid feature names, but SVC was fitted with feature names\n",
            "  warnings.warn(\n"
          ]
        },
        {
          "output_type": "stream",
          "name": "stdout",
          "text": [
            "accuracy in percent 100.0\n"
          ]
        },
        {
          "output_type": "display_data",
          "data": {
            "text/plain": [
              "<Figure size 432x288 with 1 Axes>"
            ],
            "image/png": "[encoded data removed]"
          },
          "metadata": {
            "needs_background": "light"
          }
        }
      ]
    },
    {
      "cell_type": "code",
      "source": [
        "import numpy as np\n",
        "import tensorflow as tf\n",
        "from tensorflow.keras.datasets import fashion_mnist\n",
        "from tensorflow.keras.utils import to_categorical\n",
        "from sklearn.model_selection import train_test_split\n",
        "from tensorflow.keras.preprocessing.image import img_to_array, array_to_img\n",
        "\n",
        "(xTrain, yTrain), (xTest, yTest) = fashion_mnist.load_data()\n",
        "\n",
        "xTrain = xTrain.reshape(xTrain.shape[0], xTrain.shape[1]*xTrain.shape[2])\n",
        "xTest = xTest.reshape(xTest.shape[0], xTest.shape[1]*xTest.shape[2])\n",
        "\n",
        "xTrain = np.dstack([xTrain]*3)\n",
        "xTest = np.dstack([xTest]*3)\n",
        "\n",
        "xTrain = xTrain.reshape(xTrain.shape[0],28,28,3)\n",
        "xTest = xTest.reshape(xTest.shape[0],28,28,3)\n",
        "\n",
        "xTrain = np.asarray([img_to_array(array_to_img(im, scale=False).resize((56,56))) for im in xTrain])\n",
        "xTest = np.asarray([img_to_array(array_to_img(im, scale=False).resize((56,56))) for im in xTest])\n",
        "\n",
        "yTrain = to_categorical(yTrain)\n",
        "yTest = to_categorical(yTest)"
      ],
      "metadata": {
        "id": "rfE-hSchVgDy"
      },
      "execution_count": 1,
      "outputs": []
    },
    {
      "cell_type": "code",
      "source": [
        "from tensorflow.keras.applications.vgg16 import VGG16\n",
        "from tensorflow.keras.models import Model\n",
        "from tensorflow.keras.layers import Dense, Flatten\n",
        "from tensorflow.keras.applications.vgg16 import preprocess_input\n",
        "\n",
        "VGG16model = VGG16(weights='imagenet', include_top=False, input_shape=xTrain[0].shape)\n",
        "xTrain = preprocess_input(xTrain)\n",
        "xTest = preprocess_input(xTest)\n",
        "\n",
        "for vgg16Layer in VGG16model.layers:\n",
        "    vgg16Layer.trainable = False\n",
        "\n",
        "inpLayer = VGG16model.input\n",
        "outLayer = VGG16model.output\n",
        "\n",
        "flattenOut = Flatten()(outLayer)\n",
        "L1 = Dense(256, activation = 'relu', use_bias=True)(flattenOut)\n",
        "L2 = Dense(64, activation = 'relu', use_bias=True)(L1)\n",
        "L3 = Dense(64, activation = 'relu', use_bias=True)(L2)\n",
        "L4 = Dense(10, activation = 'softmax')(L3)\n",
        "\n",
        "VGG16m = Model(inputs=inpLayer, outputs=L4)\n",
        "\n",
        "VGG16m.compile(optimizer='adam', loss='categorical_crossentropy', metrics=['accuracy'])\n",
        "VGG16m.fit(xTrain, yTrain, validation_data=(xTest, yTest), epochs=10, batch_size=64)\n",
        "\n",
        "VGG16loss, VGG16accuracy = VGG16m.evaluate(xTest, yTest)\n",
        "print('Test loss :', VGG16loss)\n",
        "print('Test accuracy (in percent) :', VGG16accuracy*100)"
      ],
      "metadata": {
        "colab": {
          "base_uri": "https://localhost:8080/"
        },
        "id": "Qo_1leVbVkt0",
        "outputId": "5f31f600-1c14-4465-f9b0-f67bd95a0daa"
      },
      "execution_count": 2,
      "outputs": [
        {
          "output_type": "stream",
          "name": "stdout",
          "text": [
            "Downloading data from https://storage.googleapis.com/tensorflow/keras-applications/vgg16/vgg16_weights_tf_dim_ordering_tf_kernels_notop.h5\n",
            "58889256/58889256 [==============================] - 0s 0us/step\n",
            "Epoch 1/10\n",
            "938/938 [==============================] - 39s 30ms/step - loss: 0.5419 - accuracy: 0.8162 - val_loss: 0.4405 - val_accuracy: 0.8393\n",
            "Epoch 2/10\n",
            "938/938 [==============================] - 25s 27ms/step - loss: 0.3738 - accuracy: 0.8619 - val_loss: 0.4397 - val_accuracy: 0.8453\n",
            "Epoch 3/10\n",
            "938/938 [==============================] - 25s 26ms/step - loss: 0.3307 - accuracy: 0.8771 - val_loss: 0.4140 - val_accuracy: 0.8560\n",
            "Epoch 4/10\n",
            "938/938 [==============================] - 25s 26ms/step - loss: 0.3036 - accuracy: 0.8882 - val_loss: 0.4135 - val_accuracy: 0.8594\n",
            "Epoch 5/10\n",
            "938/938 [==============================] - 27s 29ms/step - loss: 0.2749 - accuracy: 0.8977 - val_loss: 0.3943 - val_accuracy: 0.8670\n",
            "Epoch 6/10\n",
            "938/938 [==============================] - 27s 29ms/step - loss: 0.2517 - accuracy: 0.9046 - val_loss: 0.4243 - val_accuracy: 0.8692\n",
            "Epoch 7/10\n",
            "938/938 [==============================] - 27s 29ms/step - loss: 0.2349 - accuracy: 0.9119 - val_loss: 0.4302 - val_accuracy: 0.8636\n",
            "Epoch 8/10\n",
            "938/938 [==============================] - 26s 28ms/step - loss: 0.2131 - accuracy: 0.9205 - val_loss: 0.4567 - val_accuracy: 0.8648\n",
            "Epoch 9/10\n",
            "938/938 [==============================] - 25s 26ms/step - loss: 0.2009 - accuracy: 0.9250 - val_loss: 0.4562 - val_accuracy: 0.8678\n",
            "Epoch 10/10\n",
            "938/938 [==============================] - 27s 29ms/step - loss: 0.1828 - accuracy: 0.9327 - val_loss: 0.4556 - val_accuracy: 0.8690\n",
            "313/313 [==============================] - 4s 14ms/step - loss: 0.4556 - accuracy: 0.8690\n",
            "Test loss : 0.45562270283699036\n",
            "Test accuracy (in percent) : 86.90000176429749\n"
          ]
        }
      ]
    },
    {
      "cell_type": "code",
      "source": [
        "from tensorflow.keras.applications.vgg19 import VGG19\n",
        "from tensorflow.keras.applications.vgg19 import preprocess_input\n",
        "from tensorflow.keras.models import Model\n",
        "from tensorflow.keras.layers import Dense, Flatten\n",
        "\n",
        "VGG19model = VGG19(weights='imagenet', include_top=False, input_shape=xTrain[0].shape)\n",
        "xTrain = preprocess_input(xTrain)\n",
        "xTest = preprocess_input(xTest)\n",
        "\n",
        "for vgg19Layer in VGG19model.layers:\n",
        "    vgg19Layer.trainable = False\n",
        "\n",
        "inpLayer = VGG19model.input\n",
        "outLayer = VGG19model.output\n",
        "\n",
        "flattenOut = Flatten()(outLayer)\n",
        "L1 = Dense(256, activation = 'relu', use_bias=True)(flattenOut)\n",
        "L2 = Dense(64, activation = 'relu', use_bias=True)(L1)\n",
        "L3 = Dense(64, activation = 'relu', use_bias=True)(L2)\n",
        "L4 = Dense(10, activation = 'softmax')(L3)\n",
        "\n",
        "VGG19m = Model(inputs=inpLayer, outputs=L4)\n",
        "\n",
        "VGG19m.compile(optimizer='adam', loss='categorical_crossentropy', metrics=['accuracy'])\n",
        "VGG19m.fit(xTrain, yTrain, validation_data=(xTest, yTest), epochs=10, batch_size=64)\n",
        "\n",
        "VGG19loss, VGG19accuracy = VGG19m.evaluate(xTest, yTest)\n",
        "print('Test loss :', VGG19loss)\n",
        "print('Test accuracy (in percent) :', VGG19accuracy*100)"
      ],
      "metadata": {
        "colab": {
          "base_uri": "https://localhost:8080/"
        },
        "id": "uC9zISSCV4Gx",
        "outputId": "03834421-531e-4399-9e0a-61d5ff05c4fc"
      },
      "execution_count": 2,
      "outputs": [
        {
          "output_type": "stream",
          "name": "stdout",
          "text": [
            "Epoch 1/10\n",
            "938/938 [==============================] - 44s 36ms/step - loss: 0.5455 - accuracy: 0.8110 - val_loss: 0.4318 - val_accuracy: 0.8442\n",
            "Epoch 2/10\n",
            "938/938 [==============================] - 31s 34ms/step - loss: 0.3818 - accuracy: 0.8602 - val_loss: 0.4081 - val_accuracy: 0.8523\n",
            "Epoch 3/10\n",
            "938/938 [==============================] - 30s 32ms/step - loss: 0.3369 - accuracy: 0.8767 - val_loss: 0.4023 - val_accuracy: 0.8575\n",
            "Epoch 4/10\n",
            "938/938 [==============================] - 31s 33ms/step - loss: 0.3068 - accuracy: 0.8856 - val_loss: 0.3945 - val_accuracy: 0.8650\n",
            "Epoch 5/10\n",
            "938/938 [==============================] - 32s 34ms/step - loss: 0.2824 - accuracy: 0.8950 - val_loss: 0.4054 - val_accuracy: 0.8572\n",
            "Epoch 6/10\n",
            "938/938 [==============================] - 32s 34ms/step - loss: 0.2593 - accuracy: 0.9024 - val_loss: 0.3953 - val_accuracy: 0.8663\n",
            "Epoch 7/10\n",
            "938/938 [==============================] - 32s 34ms/step - loss: 0.2370 - accuracy: 0.9114 - val_loss: 0.4262 - val_accuracy: 0.8534\n",
            "Epoch 8/10\n",
            "938/938 [==============================] - 32s 34ms/step - loss: 0.2208 - accuracy: 0.9173 - val_loss: 0.4328 - val_accuracy: 0.8630\n",
            "Epoch 9/10\n",
            "938/938 [==============================] - 33s 35ms/step - loss: 0.2050 - accuracy: 0.9233 - val_loss: 0.4302 - val_accuracy: 0.8675\n",
            "Epoch 10/10\n",
            "938/938 [==============================] - 31s 33ms/step - loss: 0.1873 - accuracy: 0.9313 - val_loss: 0.4584 - val_accuracy: 0.8637\n",
            "313/313 [==============================] - 6s 18ms/step - loss: 0.4584 - accuracy: 0.8637\n",
            "Test loss : 0.45844390988349915\n",
            "Test accuracy (in percent) : 86.36999726295471\n"
          ]
        }
      ]
    },
    {
      "cell_type": "code",
      "source": [
        "from tensorflow.keras.applications.resnet_v2 import ResNet50V2, preprocess_input\n",
        "from tensorflow.keras.models import Model\n",
        "from tensorflow.keras.layers import Dense, Flatten\n",
        "\n",
        "resNet50V2model = ResNet50V2(weights='imagenet', include_top=False, input_shape=xTrain[0].shape)\n",
        "xTrain = preprocess_input(xTrain)\n",
        "xTest = preprocess_input(xTest)\n",
        "\n",
        "for resNet50V2Layer in resNet50V2model.layers:\n",
        "    resNet50V2Layer.trainable = False\n",
        "\n",
        "inpLayer = resNet50V2model.input\n",
        "outLayer = resNet50V2model.output\n",
        "\n",
        "flattenOut = Flatten()(outLayer)\n",
        "L1 = Dense(256, activation = 'relu', use_bias=True)(flattenOut)\n",
        "L2 = Dense(64, activation = 'relu', use_bias=True)(L1)\n",
        "L3 = Dense(64, activation = 'relu', use_bias=True)(L2)\n",
        "L4 = Dense(10, activation = 'softmax')(L3)\n",
        "\n",
        "resnet50V2m = Model(inputs=inpLayer, outputs=L4)\n",
        "\n",
        "resnet50V2m.compile(optimizer='adam', loss='categorical_crossentropy', metrics=['accuracy'])\n",
        "resnet50V2m.fit(xTrain, yTrain, validation_data=(xTest, yTest), epochs=10, batch_size=64)\n",
        "\n",
        "resnet50V2Loss, resnet50V2accuracy = resnet50V2m.evaluate(xTest, yTest)\n",
        "print('Test loss :', resnet50V2Loss)\n",
        "print('Test accuracy (in percent) :', resnet50V2accuracy*100)"
      ],
      "metadata": {
        "colab": {
          "base_uri": "https://localhost:8080/"
        },
        "id": "D3z4rGr4V69M",
        "outputId": "bfc4a669-6947-49a5-abc1-ccdaa598d700"
      },
      "execution_count": 2,
      "outputs": [
        {
          "output_type": "stream",
          "name": "stdout",
          "text": [
            "Epoch 1/10\n",
            "938/938 [==============================] - 40s 29ms/step - loss: 0.4752 - accuracy: 0.8310 - val_loss: 0.3864 - val_accuracy: 0.8622\n",
            "Epoch 2/10\n",
            "938/938 [==============================] - 23s 25ms/step - loss: 0.3245 - accuracy: 0.8799 - val_loss: 0.3740 - val_accuracy: 0.8628\n",
            "Epoch 3/10\n",
            "938/938 [==============================] - 24s 26ms/step - loss: 0.2707 - accuracy: 0.9000 - val_loss: 0.3829 - val_accuracy: 0.8658\n",
            "Epoch 4/10\n",
            "938/938 [==============================] - 24s 26ms/step - loss: 0.2356 - accuracy: 0.9129 - val_loss: 0.3717 - val_accuracy: 0.8722\n",
            "Epoch 5/10\n",
            "938/938 [==============================] - 22s 24ms/step - loss: 0.2055 - accuracy: 0.9235 - val_loss: 0.4274 - val_accuracy: 0.8623\n",
            "Epoch 6/10\n",
            "938/938 [==============================] - 24s 26ms/step - loss: 0.1784 - accuracy: 0.9335 - val_loss: 0.4101 - val_accuracy: 0.8678\n",
            "Epoch 7/10\n",
            "938/938 [==============================] - 22s 24ms/step - loss: 0.1539 - accuracy: 0.9429 - val_loss: 0.4150 - val_accuracy: 0.8789\n",
            "Epoch 8/10\n",
            "938/938 [==============================] - 22s 24ms/step - loss: 0.1368 - accuracy: 0.9496 - val_loss: 0.4408 - val_accuracy: 0.8771\n",
            "Epoch 9/10\n",
            "938/938 [==============================] - 25s 26ms/step - loss: 0.1121 - accuracy: 0.9581 - val_loss: 0.4773 - val_accuracy: 0.8803\n",
            "Epoch 10/10\n",
            "938/938 [==============================] - 22s 24ms/step - loss: 0.1086 - accuracy: 0.9602 - val_loss: 0.4661 - val_accuracy: 0.8824\n",
            "313/313 [==============================] - 5s 14ms/step - loss: 0.4661 - accuracy: 0.8824\n",
            "Test loss : 0.4660727083683014\n",
            "Test accuracy (in percent) : 88.23999762535095\n"
          ]
        }
      ]
    },
    {
      "cell_type": "code",
      "source": [
        "from tensorflow.keras.applications.mobilenet import MobileNet, preprocess_input\n",
        "from tensorflow.keras.models import Model\n",
        "from tensorflow.keras.layers import Dense, Flatten\n",
        "\n",
        "mobilenetModel = MobileNet(weights='imagenet', include_top=False, input_shape=xTrain[0].shape)\n",
        "xTrain = preprocess_input(xTrain)\n",
        "xTest = preprocess_input(xTest)\n",
        "\n",
        "for mobilenetLayer in mobilenetModel.layers:\n",
        "    mobilenetLayer.trainable = False\n",
        "\n",
        "inpLayer = mobilenetModel.input\n",
        "outLayer = mobilenetModel.output\n",
        "\n",
        "flattenOut = Flatten()(outLayer)\n",
        "L1 = Dense(256, activation = 'relu', use_bias=True)(flattenOut)\n",
        "L2 = Dense(64, activation = 'relu', use_bias=True)(L1)\n",
        "L3 = Dense(64, activation = 'relu', use_bias=True)(L2)\n",
        "L4 = Dense(10, activation = 'softmax')(L3)\n",
        "\n",
        "mobilenetM = Model(inputs=inpLayer, outputs=L4)\n",
        "\n",
        "mobilenetM.compile(optimizer='adam', loss='categorical_crossentropy', metrics=['accuracy'])\n",
        "mobilenetM.fit(xTrain, yTrain, validation_data=(xTest, yTest), epochs=10, batch_size=64)\n",
        "\n",
        "mobilenetLoss, mobilenetaccuracy = mobilenetM.evaluate(xTest, yTest)\n",
        "print('Test loss :', mobilenetLoss)\n",
        "print('Test accuracy (in percent) :', mobilenetaccuracy*100)"
      ],
      "metadata": {
        "colab": {
          "base_uri": "https://localhost:8080/"
        },
        "id": "XjIOAWW4V9rH",
        "outputId": "9320a6b0-a25a-46ab-a45f-ca07d401b7a1"
      },
      "execution_count": 2,
      "outputs": [
        {
          "output_type": "stream",
          "name": "stderr",
          "text": [
            "WARNING:tensorflow:`input_shape` is undefined or non-square, or `rows` is not in [128, 160, 192, 224]. Weights for input shape (224, 224) will be loaded as the default.\n"
          ]
        },
        {
          "output_type": "stream",
          "name": "stdout",
          "text": [
            "Epoch 1/10\n",
            "938/938 [==============================] - 22s 12ms/step - loss: 1.4797 - accuracy: 0.4727 - val_loss: 1.3807 - val_accuracy: 0.4922\n",
            "Epoch 2/10\n",
            "938/938 [==============================] - 10s 10ms/step - loss: 1.3283 - accuracy: 0.5226 - val_loss: 1.3240 - val_accuracy: 0.5212\n",
            "Epoch 3/10\n",
            "938/938 [==============================] - 10s 11ms/step - loss: 1.2919 - accuracy: 0.5350 - val_loss: 1.3077 - val_accuracy: 0.5279\n",
            "Epoch 4/10\n",
            "938/938 [==============================] - 10s 10ms/step - loss: 1.2678 - accuracy: 0.5445 - val_loss: 1.2920 - val_accuracy: 0.5297\n",
            "Epoch 5/10\n",
            "938/938 [==============================] - 10s 10ms/step - loss: 1.2504 - accuracy: 0.5489 - val_loss: 1.2779 - val_accuracy: 0.5411\n",
            "Epoch 6/10\n",
            "938/938 [==============================] - 10s 10ms/step - loss: 1.2377 - accuracy: 0.5561 - val_loss: 1.2704 - val_accuracy: 0.5422\n",
            "Epoch 7/10\n",
            "938/938 [==============================] - 9s 10ms/step - loss: 1.2255 - accuracy: 0.5587 - val_loss: 1.2669 - val_accuracy: 0.5375\n",
            "Epoch 8/10\n",
            "938/938 [==============================] - 10s 10ms/step - loss: 1.2151 - accuracy: 0.5614 - val_loss: 1.2525 - val_accuracy: 0.5490\n",
            "Epoch 9/10\n",
            "938/938 [==============================] - 10s 11ms/step - loss: 1.2058 - accuracy: 0.5659 - val_loss: 1.2539 - val_accuracy: 0.5452\n",
            "Epoch 10/10\n",
            "938/938 [==============================] - 10s 11ms/step - loss: 1.1981 - accuracy: 0.5681 - val_loss: 1.2479 - val_accuracy: 0.5493\n",
            "313/313 [==============================] - 2s 6ms/step - loss: 1.2479 - accuracy: 0.5493\n",
            "Test loss : 1.2478638887405396\n",
            "Test accuracy (in percent) : 54.93000149726868\n"
          ]
        }
      ]
    },
    {
      "cell_type": "code",
      "source": [
        "from tensorflow.keras.applications import EfficientNetB0\n",
        "from tensorflow.keras.applications.efficientnet import preprocess_input\n",
        "from tensorflow.keras.models import Model\n",
        "from tensorflow.keras.layers import Dense, Flatten\n",
        "\n",
        "efficientNetModel = EfficientNetB0(weights='imagenet', include_top=False, input_shape=xTrain[0].shape)\n",
        "xTrain = preprocess_input(xTrain)\n",
        "xTest = preprocess_input(xTest)\n",
        "\n",
        "for efficientNetLayer in efficientNetModel.layers:\n",
        "    efficientNetLayer.trainable = False\n",
        "\n",
        "inpLayer = efficientNetModel.input\n",
        "outLayer = efficientNetModel.output\n",
        "\n",
        "flattenOut = Flatten()(outLayer)\n",
        "L1 = Dense(256, activation = 'relu', use_bias=True)(flattenOut)\n",
        "L2 = Dense(64, activation = 'relu', use_bias=True)(L1)\n",
        "L3 = Dense(64, activation = 'relu', use_bias=True)(L2)\n",
        "L4 = Dense(10, activation = 'softmax')(L3)\n",
        "\n",
        "efficientNetM = Model(inputs=inpLayer, outputs=L4)\n",
        "\n",
        "efficientNetM.compile(optimizer='adam', loss='categorical_crossentropy', metrics=['accuracy'])\n",
        "efficientNetM.fit(xTrain, yTrain, validation_data=(xTest, yTest), epochs=10, batch_size=64)\n",
        "\n",
        "efficientNetLoss, efficientNetaccuracy = efficientNetM.evaluate(xTest, yTest)\n",
        "print('Test loss :', efficientNetLoss)\n",
        "print('Test accuracy (in percent) :', efficientNetaccuracy*100)"
      ],
      "metadata": {
        "colab": {
          "base_uri": "https://localhost:8080/"
        },
        "id": "HuA9cs2lWB7n",
        "outputId": "b5a1af0e-4b6c-442e-869b-486269db8253"
      },
      "execution_count": 2,
      "outputs": [
        {
          "output_type": "stream",
          "name": "stdout",
          "text": [
            "Epoch 1/10\n",
            "938/938 [==============================] - 35s 22ms/step - loss: 0.4110 - accuracy: 0.8517 - val_loss: 0.3435 - val_accuracy: 0.8725\n",
            "Epoch 2/10\n",
            "938/938 [==============================] - 17s 18ms/step - loss: 0.3142 - accuracy: 0.8839 - val_loss: 0.2917 - val_accuracy: 0.8924\n",
            "Epoch 3/10\n",
            "938/938 [==============================] - 16s 17ms/step - loss: 0.2822 - accuracy: 0.8952 - val_loss: 0.2874 - val_accuracy: 0.8985\n",
            "Epoch 4/10\n",
            "938/938 [==============================] - 16s 17ms/step - loss: 0.2650 - accuracy: 0.9005 - val_loss: 0.2823 - val_accuracy: 0.8980\n",
            "Epoch 5/10\n",
            "938/938 [==============================] - 16s 17ms/step - loss: 0.2479 - accuracy: 0.9073 - val_loss: 0.2902 - val_accuracy: 0.8971\n",
            "Epoch 6/10\n",
            "938/938 [==============================] - 16s 17ms/step - loss: 0.2344 - accuracy: 0.9111 - val_loss: 0.2812 - val_accuracy: 0.8986\n",
            "Epoch 7/10\n",
            "938/938 [==============================] - 15s 16ms/step - loss: 0.2282 - accuracy: 0.9150 - val_loss: 0.2737 - val_accuracy: 0.9038\n",
            "Epoch 8/10\n",
            "938/938 [==============================] - 15s 16ms/step - loss: 0.2144 - accuracy: 0.9199 - val_loss: 0.2898 - val_accuracy: 0.8991\n",
            "Epoch 9/10\n",
            "938/938 [==============================] - 15s 16ms/step - loss: 0.2040 - accuracy: 0.9242 - val_loss: 0.2803 - val_accuracy: 0.9051\n",
            "Epoch 10/10\n",
            "938/938 [==============================] - 15s 16ms/step - loss: 0.2006 - accuracy: 0.9253 - val_loss: 0.2893 - val_accuracy: 0.8973\n",
            "313/313 [==============================] - 5s 14ms/step - loss: 0.2893 - accuracy: 0.8973\n",
            "Test loss : 0.28932079672813416\n",
            "Test accuracy (in percent) : 89.73000049591064\n"
          ]
        }
      ]
    }
  ]
}