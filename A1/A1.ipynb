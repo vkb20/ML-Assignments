{
  "nbformat": 4,
  "nbformat_minor": 0,
  "metadata": {
    "colab": {
      "provenance": []
    },
    "kernelspec": {
      "name": "python3",
      "display_name": "Python 3"
    },
    "language_info": {
      "name": "python"
    }
  },
  "cells": [
    {
      "cell_type": "code",
      "execution_count": 1,
      "metadata": {
        "colab": {
          "base_uri": "https://localhost:8080/"
        },
        "id": "AE5V1HMIhNAZ",
        "outputId": "13aa5f24-514f-4f22-d530-c4106b03e503"
      },
      "outputs": [
        {
          "output_type": "stream",
          "name": "stdout",
          "text": [
            "Mounted at /content/drive\n"
          ]
        }
      ],
      "source": [
        "from google.colab import drive\n",
        "drive.mount('/content/drive')\n"
      ]
    },
    {
      "cell_type": "code",
      "source": [
        "pip install idx2numpy"
      ],
      "metadata": {
        "colab": {
          "base_uri": "https://localhost:8080/"
        },
        "id": "pyLeF8Tmikok",
        "outputId": "fd1e5cce-336d-4f8f-e0e6-c1c1e2f386af"
      },
      "execution_count": 3,
      "outputs": [
        {
          "output_type": "stream",
          "name": "stdout",
          "text": [
            "Looking in indexes: https://pypi.org/simple, https://us-python.pkg.dev/colab-wheels/public/simple/\n",
            "Collecting idx2numpy\n",
            "  Downloading idx2numpy-1.2.3.tar.gz (6.8 kB)\n",
            "  Preparing metadata (setup.py) ... \u001b[?25l\u001b[?25hdone\n",
            "Requirement already satisfied: numpy in /usr/local/lib/python3.8/dist-packages (from idx2numpy) (1.21.6)\n",
            "Requirement already satisfied: six in /usr/local/lib/python3.8/dist-packages (from idx2numpy) (1.15.0)\n",
            "Building wheels for collected packages: idx2numpy\n",
            "  Building wheel for idx2numpy (setup.py) ... \u001b[?25l\u001b[?25hdone\n",
            "  Created wheel for idx2numpy: filename=idx2numpy-1.2.3-py3-none-any.whl size=7919 sha256=31e891e60203b394a02220b2da453398a07ec2a0935382a384cd17bce7c0b821\n",
            "  Stored in directory: /root/.cache/pip/wheels/27/40/a8/6447ee4a00cb87e2084e1ef1df5c38433720cc1090be082842\n",
            "Successfully built idx2numpy\n",
            "Installing collected packages: idx2numpy\n",
            "Successfully installed idx2numpy-1.2.3\n"
          ]
        }
      ]
    },
    {
      "cell_type": "code",
      "source": [
        "import idx2numpy\n",
        "import numpy as np\n",
        "from google.colab.patches import cv2_imshow\n",
        "import cv2\n",
        "import matplotlib.pyplot as plt\n",
        "\n",
        "#Loading and reading data\n",
        "f1 = '/content/drive/MyDrive/train-images-idx3-ubyte'\n",
        "f2 = '/content/drive/MyDrive/t10k-images-idx3-ubyte'\n",
        "f3 = '/content/drive/MyDrive/train-labels-idx1-ubyte'\n",
        "f4 = '/content/drive/MyDrive/t10k-labels-idx1-ubyte'\n",
        "trainImages = idx2numpy.convert_from_file(f1)\n",
        "testImages = idx2numpy.convert_from_file(f2)\n",
        "trainLabels = idx2numpy.convert_from_file(f3)\n",
        "testLabels = idx2numpy.convert_from_file(f4)\n",
        "\n",
        "#Generating 5 images of each class\n",
        "randomImgEachClass = [[], [], [], [], [], [], [], [], [], []]\n",
        "uniqueClassDict = {}\n",
        "for i in range(len(trainLabels)):\n",
        "\tif(trainLabels[i] in uniqueClassDict.keys()):\n",
        "\t\tc = uniqueClassDict.get(trainLabels[i])\n",
        "\t\tif(c<5):\n",
        "\t\t\trandomImgEachClass[trainLabels[i]].append(trainImages[i])\n",
        "\t\t\tuniqueClassDict[trainLabels[i]] = c+1\n",
        "\telse:\n",
        "\t\trandomImgEachClass[trainLabels[i]].append(trainImages[i])\n",
        "\t\tuniqueClassDict[trainLabels[i]] = 1\n",
        "\n",
        "for i in range(len(randomImgEachClass)):\n",
        "\tHori = np.concatenate((randomImgEachClass[i][0], randomImgEachClass[i][1], randomImgEachClass[i][2], randomImgEachClass[i][3], randomImgEachClass[i][4]), axis=1)\n",
        "\tcv2_imshow(Hori)\n",
        "\n",
        "cv2.waitKey(0)\n",
        "cv2.destroyAllWindows()\n",
        "\n",
        "#Exploratory Data Analysis\n",
        "\n",
        "#Image size\n",
        "imgSize = []\n",
        "for i in range(len(trainImages)):\n",
        "\timgStr = str(trainImages[i].shape)\n",
        "\tif(imgStr not in imgSize):\n",
        "\t\timgSize.append(imgStr)\n",
        "\n",
        "#Here the imgsize list length came out to be 1 which means all images are of same size\n",
        "print(\"Yes, all images are of same size\")\n",
        "print(\"images dimensions :\", trainImages[0].shape)\n",
        "\n",
        "#Bar plot\n",
        "countLabelsDict = {}\n",
        "for i in range(len(trainLabels)):\n",
        "    if(trainLabels[i] in countLabelsDict.keys()):\n",
        "        getCount = countLabelsDict[trainLabels[i]]\n",
        "        countLabelsDict[trainLabels[i]] = getCount+1\n",
        "    else:\n",
        "        countLabelsDict[trainLabels[i]] = 1\n",
        "\n",
        "barXAxis = []\n",
        "barYAxis = []\n",
        "\n",
        "for k in countLabelsDict.keys():\n",
        "    barXAxis.append(\"class \" + str(k))\n",
        "    barYAxis.append(countLabelsDict[k])\n",
        "\n",
        "plt.bar(barXAxis, barYAxis, color ='maroon', width = 0.4)\n",
        "plt.show() \n",
        "\n",
        "#Normalization\n",
        "normalizedImages = []\n",
        "for i in range(len(trainImages)):\n",
        "\trows = trainImages.shape[0]\n",
        "\tcols = trainImages.shape[1]\n",
        "\tnewImg = []\n",
        "\tfor x in trainImages[i]:\n",
        "\t\tnewL = []\n",
        "\t\tfor y in x:\n",
        "\t\t\tnewL.append(y/255.0)\n",
        "\t\tnewImg.append(newL)\n",
        "\tnormalizedImages.append(newImg)\n"
      ],
      "metadata": {
        "colab": {
          "base_uri": "https://localhost:8080/",
          "height": 583
        },
        "id": "S1sR3HNdiaOO",
        "outputId": "d2c5437f-0af3-4b29-d0f9-2a89a4b82f36"
      },
      "execution_count": 11,
      "outputs": [
        {
          "output_type": "display_data",
          "data": {
            "text/plain": [
              "<PIL.Image.Image image mode=L size=140x28 at 0x7FA06B6ED1F0>"
            ],
            "image/png": "[encoded data removed]"
          },
          "metadata": {}
        },
        {
          "output_type": "display_data",
          "data": {
            "text/plain": [
              "<PIL.Image.Image image mode=L size=140x28 at 0x7FA06B7D4AC0>"
            ],
            "image/png": "[encoded data removed]"
          },
          "metadata": {}
        },
        {
          "output_type": "display_data",
          "data": {
            "text/plain": [
              "<PIL.Image.Image image mode=L size=140x28 at 0x7FA06B6ED1F0>"
            ],
            "image/png": "[encoded data removed]"
          },
          "metadata": {}
        },
        {
          "output_type": "display_data",
          "data": {
            "text/plain": [
              "<PIL.Image.Image image mode=L size=140x28 at 0x7FA06B6ED1F0>"
            ],
            "image/png": "[encoded data removed]"
          },
          "metadata": {}
        },
        {
          "output_type": "display_data",
          "data": {
            "text/plain": [
              "<PIL.Image.Image image mode=L size=140x28 at 0x7FA06B6ED1F0>"
            ],
            "image/png": "[encoded data removed]"
          },
          "metadata": {}
        },
        {
          "output_type": "display_data",
          "data": {
            "text/plain": [
              "<PIL.Image.Image image mode=L size=140x28 at 0x7FA06B6ED1F0>"
            ],
            "image/png": "[encoded data removed]"
          },
          "metadata": {}
        },
        {
          "output_type": "display_data",
          "data": {
            "text/plain": [
              "<PIL.Image.Image image mode=L size=140x28 at 0x7FA06B6ED1F0>"
            ],
            "image/png": "[encoded data removed]"
          },
          "metadata": {}
        },
        {
          "output_type": "display_data",
          "data": {
            "text/plain": [
              "<PIL.Image.Image image mode=L size=140x28 at 0x7FA06B6ED1F0>"
            ],
            "image/png": "[encoded data removed]"
          },
          "metadata": {}
        },
        {
          "output_type": "display_data",
          "data": {
            "text/plain": [
              "<PIL.Image.Image image mode=L size=140x28 at 0x7FA06B6ED1F0>"
            ],
            "image/png": "[encoded data removed]"
          },
          "metadata": {}
        },
        {
          "output_type": "display_data",
          "data": {
            "text/plain": [
              "<PIL.Image.Image image mode=L size=140x28 at 0x7FA06B6ED1F0>"
            ],
            "image/png": "[encoded data removed]"
          },
          "metadata": {}
        },
        {
          "output_type": "stream",
          "name": "stdout",
          "text": [
            "Yes, all images are of same size\n",
            "images dimensions : (28, 28)\n"
          ]
        },
        {
          "output_type": "display_data",
          "data": {
            "text/plain": [
              "<Figure size 432x288 with 1 Axes>"
            ],
            "image/png": "[encoded data removed]"
          },
          "metadata": {
            "needs_background": "light"
          }
        }
      ]
    },
    {
      "cell_type": "code",
      "source": [
        "import pandas as pd\n",
        "import matplotlib.pyplot as plt\n",
        "import matplotlib.pyplot as plt\n",
        "\n",
        "df = pd.read_csv(\"/content/drive/MyDrive/city_day.csv\")\n",
        "\n",
        "#class imbalance (histogram)\n",
        "aqiConditions = {}\n",
        "for ind in df.index:\n",
        "\tyear = int(df.loc[ind]['Date'][:4])\n",
        "\tif(year>=2015 and year<2019):\n",
        "\t\tif(pd.isna(df.loc[ind]['AQI_Bucket'])==False):\n",
        "\t\t\tif(df.loc[ind]['AQI_Bucket'] in aqiConditions):\n",
        "\t\t\t\tc = aqiConditions.get(df.loc[ind]['AQI_Bucket'])\n",
        "\t\t\t\taqiConditions[df.loc[ind]['AQI_Bucket']] = c+1\n",
        "\t\t\telse:\n",
        "\t\t\t\taqiConditions[df.loc[ind]['AQI_Bucket']] = 1\n",
        "\n",
        "bins = []\n",
        "binCount = []\n",
        "for k in aqiConditions.keys():\n",
        "\tbins.append(k)\n",
        "\tbinCount.append(aqiConditions[k])\n",
        "\n",
        "\n",
        "plt.bar(bins, binCount, color ='maroon', width = 0.4)\n",
        "plt.show()\n",
        "\n",
        "#AQI normalization\n",
        "maxAQI = -1\n",
        "for ind in df.index:\n",
        "\tyear = int(df.loc[ind]['Date'][:4])\n",
        "\tif(year>=2015 and year<2019):\n",
        "\t\tif(pd.isna(df.loc[ind]['AQI'])==False):\n",
        "\t\t\tmaxAQI = max(maxAQI, df.loc[ind]['AQI'])\n",
        "\n",
        "for ind in df.index:\n",
        "\tyear = int(df.loc[ind]['Date'][:4])\n",
        "\tif(year>=2015 and year<2019):\n",
        "\t\tif(pd.isna(df.loc[ind]['AQI'])==False):\n",
        "\t\t\taqiVal = df.loc[ind]['AQI']\n",
        "\t\t\tdf.at[ind, 'AQI'] = aqiVal/maxAQI\n",
        "\n",
        "x_hist = ['PM2.5', 'PM10', 'NO', 'NO2', 'NOx', 'NH3', 'CO', 'SO2', 'O3', 'Benzene', 'Toluene', 'Xylene', 'AQI', 'AQI_Bucket']\n",
        "y_hist = []\n",
        "for i in range(14):\n",
        "\ty_hist.append(0)\n",
        "for ind in df.index:\n",
        "\tyear = int(df.loc[ind]['Date'][:4])\n",
        "\tif(year>=2015 and year<2019):\n",
        "\t\tif(pd.isna(df.loc[ind]['PM2.5'])):\n",
        "\t\t\ty_hist[0] = y_hist[0] + 1\n",
        "\t\tif(pd.isna(df.loc[ind]['PM10'])):\n",
        "\t\t\ty_hist[1] = y_hist[1] + 1\n",
        "\t\tif(pd.isna(df.loc[ind]['NO'])):\n",
        "\t\t\ty_hist[2] = y_hist[2] + 1\n",
        "\t\tif(pd.isna(df.loc[ind]['NO2'])):\n",
        "\t\t\ty_hist[3] = y_hist[3] + 1\n",
        "\t\tif(pd.isna(df.loc[ind]['NOx'])):\n",
        "\t\t\ty_hist[4] = y_hist[4] + 1\n",
        "\t\tif(pd.isna(df.loc[ind]['NH3'])):\n",
        "\t\t\ty_hist[5] = y_hist[5] + 1\n",
        "\t\tif(pd.isna(df.loc[ind]['CO'])):\n",
        "\t\t\ty_hist[6] = y_hist[6] + 1\n",
        "\t\tif(pd.isna(df.loc[ind]['SO2'])):\n",
        "\t\t\ty_hist[7] = y_hist[7] + 1\n",
        "\t\tif(pd.isna(df.loc[ind]['O3'])):\n",
        "\t\t\ty_hist[8] = y_hist[8] + 1\n",
        "\t\tif(pd.isna(df.loc[ind]['Benzene'])):\n",
        "\t\t\ty_hist[9] = y_hist[9] + 1\n",
        "\t\tif(pd.isna(df.loc[ind]['Toluene'])):\n",
        "\t\t\ty_hist[10] = y_hist[10] + 1\n",
        "\t\tif(pd.isna(df.loc[ind]['Xylene'])):\n",
        "\t\t\ty_hist[11] = y_hist[11] + 1\n",
        "\t\tif(pd.isna(df.loc[ind]['AQI'])):\n",
        "\t\t\ty_hist[12] = y_hist[12] + 1\n",
        "\t\tif(pd.isna(df.loc[ind]['AQI_Bucket'])):\n",
        "\t\t\ty_hist[13] = y_hist[13] + 1\n",
        "\n",
        "\n",
        "plt.bar(x_hist, y_hist, color ='maroon', width = 0.4)\n",
        "plt.show() \n",
        "\n",
        "maxValues = df.max()\n",
        "for ind in df.index:\n",
        "\tyear = int(df.loc[ind]['Date'][:4])\n",
        "\tif(year>=2015 and year<2019):\n",
        "\t\tif(pd.isna(df.loc[ind]['PM2.5'])==False):\n",
        "\t\t\tpm25 = df.loc[ind]['PM2.5']\n",
        "\t\t\tdf.at[ind, 'PM2.5'] = pm25/maxValues[2]\n",
        "\t\tif(pd.isna(df.loc[ind]['PM10'])==False):\n",
        "\t\t\tpm10 = df.loc[ind]['PM10']\n",
        "\t\t\tdf.at[ind, 'PM10'] = pm10/maxValues[3]\n",
        "\t\tif(pd.isna(df.loc[ind]['NO'])==False):\n",
        "\t\t\tNO = df.loc[ind]['NO']\n",
        "\t\t\tdf.at[ind, 'NO'] = NO/maxValues[4]\n",
        "\t\tif(pd.isna(df.loc[ind]['NO2'])==False):\n",
        "\t\t\tNO2 = df.loc[ind]['NO2']\n",
        "\t\t\tdf.at[ind, 'NO2'] = NO2/maxValues[5]\n",
        "\t\tif(pd.isna(df.loc[ind]['NOx'])==False):\n",
        "\t\t\tNOx = df.loc[ind]['NOx']\n",
        "\t\t\tdf.at[ind, 'NOx'] = NOx/maxValues[6]\n",
        "\t\tif(pd.isna(df.loc[ind]['NH3'])==False):\n",
        "\t\t\tNH3 = df.loc[ind]['NH3']\n",
        "\t\t\tdf.at[ind, 'NH3'] = NH3/maxValues[7]\n",
        "\t\tif(pd.isna(df.loc[ind]['CO'])==False):\n",
        "\t\t\tCO = df.loc[ind]['CO']\n",
        "\t\t\tdf.at[ind, 'CO'] = CO/maxValues[8]\n",
        "\t\tif(pd.isna(df.loc[ind]['SO2'])==False):\n",
        "\t\t\tSO2 = df.loc[ind]['SO2']\n",
        "\t\t\tdf.at[ind, 'SO2'] = SO2/maxValues[9]\n",
        "\t\tif(pd.isna(df.loc[ind]['O3'])==False):\n",
        "\t\t\tO3 = df.loc[ind]['O3']\n",
        "\t\t\tdf.at[ind, 'O3'] = O3/maxValues[10]\n",
        "\t\tif(pd.isna(df.loc[ind]['Benzene'])==False):\n",
        "\t\t\tBenzene = df.loc[ind]['Benzene']\n",
        "\t\t\tdf.at[ind, 'Benzene'] = Benzene/maxValues[11]\n",
        "\t\tif(pd.isna(df.loc[ind]['Toluene'])==False):\n",
        "\t\t\tToluene = df.loc[ind]['Toluene']\n",
        "\t\t\tdf.at[ind, 'Toluene'] = Toluene/maxValues[12]\n",
        "\t\tif(pd.isna(df.loc[ind]['Xylene'])==False):\n",
        "\t\t\tXylene = df.loc[ind]['Xylene']\n",
        "\t\t\tdf.at[ind, 'Xylene'] = Xylene/maxValues[13]\n",
        "\t\t\n",
        "print(df)\n",
        "\n",
        "uniqueCities = []\n",
        "for ind in df.index:\n",
        "\tyear = int(df.loc[ind]['Date'][:4])\n",
        "\tif(year>=2015 and year<2019):\n",
        "\t\tif(df.loc[ind]['City'] not in uniqueCities):\n",
        "\t\t\tuniqueCities.append(df.loc[ind]['City'])\n",
        "\n",
        "uniqueCitiesDict = {}\n",
        "for i in range(len(uniqueCities)):\n",
        "\tuniqueCitiesDict[uniqueCities[i]] = 0\n",
        "\n",
        "for ind in df.index:\n",
        "\tyear = int(df.loc[ind]['Date'][:4])\n",
        "\tif(year>=2015 and year<2019):\n",
        "\t\tif(pd.isna(df.loc[ind]['PM2.5']) or pd.isna(df.loc[ind]['PM10']) or pd.isna(df.loc[ind]['NO']) or pd.isna(df.loc[ind]['NO2'])\n",
        "\t\tor pd.isna(df.loc[ind]['NOx']) or pd.isna(df.loc[ind]['NH3']) or pd.isna(df.loc[ind]['CO']) or pd.isna(df.loc[ind]['SO2'])\n",
        "\t\tor pd.isna(df.loc[ind]['O3']) or pd.isna(df.loc[ind]['Benzene']) or pd.isna(df.loc[ind]['Toluene']) or pd.isna(df.loc[ind]['Xylene'])\n",
        "\t\tor pd.isna(df.loc[ind]['AQI']) or pd.isna(df.loc[ind]['AQI_Bucket'])):\n",
        "\t\t\tuniqueCitiesDict[df.loc[ind]['City']] = uniqueCitiesDict[df.loc[ind]['City']] + 1\n",
        "\n",
        "countNull = []\n",
        "for i in range(len(uniqueCities)):\n",
        "\tcountNull.append(uniqueCitiesDict[uniqueCities[i]])\n",
        "\n",
        "plt.bar(uniqueCities, countNull, color ='maroon', width = 0.4)\n",
        "plt.show() \n",
        "\n",
        "#imputation\n",
        "df = df.fillna(0)\n",
        "aqiBucketDict = {}\n",
        "for ind in df.index:\n",
        "\tyear = int(df.loc[ind]['Date'][:4])\n",
        "\tif(year>=2015 and year<2019):\n",
        "\t\tif(df.loc[ind]['AQI_Bucket']!=0):\n",
        "\t\t\tif(df.loc[ind]['AQI_Bucket'] in aqiBucketDict.keys()):\n",
        "\t\t\t\tgetCount = aqiBucketDict[df.loc[ind]['AQI_Bucket']]\n",
        "\t\t\t\taqiBucketDict[df.loc[ind]['AQI_Bucket']] = getCount + 1\n",
        "\t\t\telse:\n",
        "\t\t\t\taqiBucketDict[df.loc[ind]['AQI_Bucket']] = 1\n",
        "\n",
        "maxCount = -1\n",
        "maxCountAQI = \"\"\n",
        "for k in aqiBucketDict.keys():\n",
        "\tif(aqiBucketDict[k]>maxCount):\n",
        "\t\tmaxCount = aqiBucketDict[k]\n",
        "\t\tmaxCountAQI = k\n",
        "\n",
        "for ind in df.index:\n",
        "\tyear = int(df.loc[ind]['Date'][:4])\n",
        "\tif(year>=2015 and year<2019):\n",
        "\t\tif(df.loc[ind]['AQI_Bucket']==0):\n",
        "\t\t\tdf.at[ind, 'AQI_Bucket'] = maxCountAQI\n",
        "\n",
        "print(df)"
      ],
      "metadata": {
        "colab": {
          "base_uri": "https://localhost:8080/",
          "height": 1000
        },
        "id": "604nKeqrlmIx",
        "outputId": "9a25db48-9ecb-49ee-899b-2b99ae537cbe"
      },
      "execution_count": 21,
      "outputs": [
        {
          "output_type": "display_data",
          "data": {
            "text/plain": [
              "<Figure size 432x288 with 1 Axes>"
            ],
            "image/png": "[encoded data removed]"
          },
          "metadata": {
            "needs_background": "light"
          }
        },
        {
          "output_type": "display_data",
          "data": {
            "text/plain": [
              "<Figure size 432x288 with 1 Axes>"
            ],
            "image/png": "[encoded data removed]"
          },
          "metadata": {
            "needs_background": "light"
          }
        },
        {
          "output_type": "stream",
          "name": "stderr",
          "text": [
            "<ipython-input-21-fb0ac5bf4577>:84: FutureWarning: Dropping of nuisance columns in DataFrame reductions (with 'numeric_only=None') is deprecated; in a future version this will raise TypeError.  Select only valid columns before calling the reduction.\n",
            "  maxValues = df.max()\n"
          ]
        },
        {
          "output_type": "stream",
          "name": "stdout",
          "text": [
            "                City        Date  PM2.5   PM10        NO        NO2  \\\n",
            "0          Ahmedabad  2015-01-01    NaN    NaN  0.002355   0.050302   \n",
            "1          Ahmedabad  2015-01-02    NaN    NaN  0.002483   0.043317   \n",
            "2          Ahmedabad  2015-01-03    NaN    NaN  0.044538   0.053284   \n",
            "3          Ahmedabad  2015-01-04    NaN    NaN  0.004351   0.051020   \n",
            "4          Ahmedabad  2015-01-05    NaN    NaN  0.056568   0.059137   \n",
            "...              ...         ...    ...    ...       ...        ...   \n",
            "29526  Visakhapatnam  2020-06-27  15.02  50.94  7.680000  25.060000   \n",
            "29527  Visakhapatnam  2020-06-28  24.38  74.09  3.420000  26.060000   \n",
            "29528  Visakhapatnam  2020-06-29  22.91  65.73  3.450000  29.530000   \n",
            "29529  Visakhapatnam  2020-06-30  16.64  49.97  4.050000  29.260000   \n",
            "29530  Visakhapatnam  2020-07-01  15.00  66.00  0.400000  26.850000   \n",
            "\n",
            "             NOx    NH3        CO        SO2         O3   Benzene    Toluene  \\\n",
            "0       0.036674    NaN  0.005233   0.142577   0.517441  0.000000   0.000044   \n",
            "1       0.035199    NaN  0.005517   0.126638   0.132154  0.008087   0.012092   \n",
            "2       0.063512    NaN  0.098970   0.149954   0.119117  0.014944   0.036056   \n",
            "3       0.038428    NaN  0.009670   0.095894   0.139991  0.009736   0.022293   \n",
            "4       0.080748    NaN  0.125704   0.202878   0.152524  0.015406   0.041530   \n",
            "...          ...    ...       ...        ...        ...       ...        ...   \n",
            "29526  19.540000  12.47  0.470000   8.550000  23.300000  2.240000  12.070000   \n",
            "29527  16.530000  11.99  0.520000  12.720000  30.140000  0.740000   2.210000   \n",
            "29528  18.330000  10.71  0.480000   8.420000  30.960000  0.010000   0.010000   \n",
            "29529  18.800000  10.03  0.520000   9.840000  28.300000  0.000000   0.000000   \n",
            "29530  14.050000   5.20  0.590000   2.100000  17.050000       NaN        NaN   \n",
            "\n",
            "         Xylene   AQI    AQI_Bucket  \n",
            "0      0.000000   NaN           NaN  \n",
            "1      0.022128   NaN           NaN  \n",
            "2      0.013207   NaN           NaN  \n",
            "3      0.005870   NaN           NaN  \n",
            "4      0.016317   NaN           NaN  \n",
            "...         ...   ...           ...  \n",
            "29526  0.730000  41.0          Good  \n",
            "29527  0.380000  70.0  Satisfactory  \n",
            "29528  0.000000  68.0  Satisfactory  \n",
            "29529  0.000000  54.0  Satisfactory  \n",
            "29530       NaN  50.0          Good  \n",
            "\n",
            "[29531 rows x 16 columns]\n"
          ]
        },
        {
          "output_type": "display_data",
          "data": {
            "text/plain": [
              "<Figure size 432x288 with 1 Axes>"
            ],
            "image/png": "[encoded data removed]"
          },
          "metadata": {
            "needs_background": "light"
          }
        },
        {
          "output_type": "stream",
          "name": "stdout",
          "text": [
            "                City        Date  PM2.5   PM10        NO        NO2  \\\n",
            "0          Ahmedabad  2015-01-01   0.00   0.00  0.002355   0.050302   \n",
            "1          Ahmedabad  2015-01-02   0.00   0.00  0.002483   0.043317   \n",
            "2          Ahmedabad  2015-01-03   0.00   0.00  0.044538   0.053284   \n",
            "3          Ahmedabad  2015-01-04   0.00   0.00  0.004351   0.051020   \n",
            "4          Ahmedabad  2015-01-05   0.00   0.00  0.056568   0.059137   \n",
            "...              ...         ...    ...    ...       ...        ...   \n",
            "29526  Visakhapatnam  2020-06-27  15.02  50.94  7.680000  25.060000   \n",
            "29527  Visakhapatnam  2020-06-28  24.38  74.09  3.420000  26.060000   \n",
            "29528  Visakhapatnam  2020-06-29  22.91  65.73  3.450000  29.530000   \n",
            "29529  Visakhapatnam  2020-06-30  16.64  49.97  4.050000  29.260000   \n",
            "29530  Visakhapatnam  2020-07-01  15.00  66.00  0.400000  26.850000   \n",
            "\n",
            "             NOx    NH3        CO        SO2         O3   Benzene    Toluene  \\\n",
            "0       0.036674   0.00  0.005233   0.142577   0.517441  0.000000   0.000044   \n",
            "1       0.035199   0.00  0.005517   0.126638   0.132154  0.008087   0.012092   \n",
            "2       0.063512   0.00  0.098970   0.149954   0.119117  0.014944   0.036056   \n",
            "3       0.038428   0.00  0.009670   0.095894   0.139991  0.009736   0.022293   \n",
            "4       0.080748   0.00  0.125704   0.202878   0.152524  0.015406   0.041530   \n",
            "...          ...    ...       ...        ...        ...       ...        ...   \n",
            "29526  19.540000  12.47  0.470000   8.550000  23.300000  2.240000  12.070000   \n",
            "29527  16.530000  11.99  0.520000  12.720000  30.140000  0.740000   2.210000   \n",
            "29528  18.330000  10.71  0.480000   8.420000  30.960000  0.010000   0.010000   \n",
            "29529  18.800000  10.03  0.520000   9.840000  28.300000  0.000000   0.000000   \n",
            "29530  14.050000   5.20  0.590000   2.100000  17.050000  0.000000   0.000000   \n",
            "\n",
            "         Xylene   AQI    AQI_Bucket  \n",
            "0      0.000000   0.0      Moderate  \n",
            "1      0.022128   0.0      Moderate  \n",
            "2      0.013207   0.0      Moderate  \n",
            "3      0.005870   0.0      Moderate  \n",
            "4      0.016317   0.0      Moderate  \n",
            "...         ...   ...           ...  \n",
            "29526  0.730000  41.0          Good  \n",
            "29527  0.380000  70.0  Satisfactory  \n",
            "29528  0.000000  68.0  Satisfactory  \n",
            "29529  0.000000  54.0  Satisfactory  \n",
            "29530  0.000000  50.0          Good  \n",
            "\n",
            "[29531 rows x 16 columns]\n"
          ]
        }
      ]
    },
    {
      "cell_type": "code",
      "source": [
        "import pandas as pd\n",
        "import numpy as np\n",
        "import sklearn\n",
        "from sklearn import linear_model\n",
        "import matplotlib.pyplot as plt\n",
        "from sklearn import datasets\n",
        "\n",
        "\n",
        "def gradientDescent(theta, db_df, learningRate):\n",
        "\tupdatedTheta = []\n",
        "\tgradient = []\n",
        "\tfor i in range(len(theta)):\n",
        "\t\tupdatedTheta.append(theta[i])\n",
        "\t\tgradient.append(0)\n",
        "\n",
        "\tm = 399\n",
        "\tn = db_df.shape[1]\n",
        "\tfor i in range(m):\n",
        "\t\ty = db_df.iloc[i,n-1]\n",
        "\t\tintermediate = theta[0]\n",
        "\t\tfor j in range(n-1):\n",
        "\t\t\tintermediate = intermediate + db_df.iloc[i, j]*theta[j+1]\n",
        "\t\tgradient[0] = gradient[0] - (2/m)*(y-intermediate)\n",
        "\t\tfor j in range(n-1):\n",
        "\t\t\tgradient[j+1] = gradient[j+1] - (2/m)*db_df.iloc[i,j]*(y-intermediate)\n",
        "\n",
        "\tfor i in range(len(theta)):\n",
        "\t\tupdatedTheta[i] = theta[i] - gradient[i]*learningRate\n",
        "\n",
        "\treturn updatedTheta\n",
        "\t\t\t\n",
        "\n",
        "diabetes = datasets.load_diabetes()\n",
        "db_df = pd.DataFrame(diabetes.data,columns=diabetes.feature_names)\n",
        "db_df['Progression'] = diabetes.target\n",
        "\n",
        "\n",
        "theta = []\n",
        "for i in range(db_df.shape[1]):\n",
        "\ttheta.append(0)\n",
        "\n",
        "\n",
        "learningRate = 0.03\n",
        "epochs = 5000\n",
        "\n",
        "for i in range(epochs):\n",
        "\tupdatedTheta = gradientDescent(theta, db_df, learningRate)\n",
        "\tfor j in range(len(updatedTheta)):\n",
        "\t\ttheta[j] = updatedTheta[j]\n",
        "\n",
        "predicted = []\n",
        "for i in range(399, db_df.shape[0]):\n",
        "\tyPred = theta[0]\n",
        "\tfor j in range(len(theta)-1):\n",
        "\t\tyPred = yPred + theta[j+1]*db_df.iloc[i,j]\n",
        "\n",
        "\tpredicted.append(yPred)\n",
        "\n",
        "expected = []\n",
        "for i in range(399, db_df.shape[0]):\n",
        "\texpected.append(db_df.iloc[i, db_df.shape[1]-1])\n",
        "\n",
        "train_features = []\n",
        "train_out = []\n",
        "for i in range(399):\n",
        "\ttrain_f = []\n",
        "\tfor j in range(db_df.shape[1]-1):\n",
        "\t\ttrain_f.append(db_df.iloc[i, j])\n",
        "\ttrain_features.append(train_f)\n",
        "\n",
        "for i in range(399):\n",
        "\ttrain_out.append(db_df.iloc[i, db_df.shape[1]-1])\n",
        "\n",
        "test_features = []\n",
        "test_out = []\n",
        "for i in range(399, db_df.shape[0]):\n",
        "\ttest_f = []\n",
        "\tfor j in range(db_df.shape[1]-1):\n",
        "\t\ttest_f.append(db_df.iloc[i, j])\n",
        "\ttest_features.append(test_f)\n",
        "\n",
        "for i in range(399, db_df.shape[0]):\n",
        "\ttest_out.append(db_df.iloc[i, db_df.shape[1]-1])\n",
        "\n",
        "\n",
        "reg = linear_model.LinearRegression().fit(train_features, train_out)\n",
        "predicted_values = reg.predict(test_features)\n",
        "\n",
        "\n",
        "print(\"scratch predicted\", predicted)\n",
        "print(\"inbuilt\", predicted_values)"
      ],
      "metadata": {
        "colab": {
          "base_uri": "https://localhost:8080/"
        },
        "id": "1lH4ALGoD7LC",
        "outputId": "b92d34fe-c779-40f9-953b-5d13e2ac0212"
      },
      "execution_count": 15,
      "outputs": [
        {
          "output_type": "stream",
          "name": "stdout",
          "text": [
            "scratch predicted [185.12895322900988, 157.64998861808436, 100.30286695231545, 171.4775691898705, 210.0884602265496, 168.8004876340456, 221.07007639961043, 62.46502714771048, 173.078992493428, 194.06851072956863, 180.76341297503825, 164.81743682342167, 130.8665871801135, 210.2383058884834, 126.76026906206332, 192.25962217781637, 171.4123058084549, 199.71503540596018, 143.63902064244573, 128.28963585233942, 96.2522448248852, 157.97677285710225, 195.5138308142104, 186.97098998123448, 169.91332489081364, 171.68484633075164, 92.20556172708794, 186.74993498212243, 133.74518444350196, 244.54791156009682, 113.82739591323187, 132.69284599631777, 130.29370269162212, 208.80644871799632, 88.60457560838434, 139.74838702311803, 125.66673313891519, 68.26432014051447, 183.16299981768492, 143.08038778831855, 140.59066963504685, 183.718443232128, 80.41596621618652]\n",
            "inbuilt [188.07247897 185.55957945  90.37526191 152.17268368 250.669681\n",
            " 198.29412469 280.59643037  51.0774851  176.96995559 201.88392495\n",
            " 172.33337822 155.46180594 152.2660552  234.46360623 123.0999278\n",
            " 165.98980815 174.976899   226.33969244 152.66327917 101.26180257\n",
            "  83.99410255 143.86990982 192.06373833 195.77168679 153.43116132\n",
            " 172.81321567 111.80961387 163.74102065 131.5665228  258.29175959\n",
            " 100.86830795 117.82315286 123.01401147 219.84967296  62.92523948\n",
            " 133.26807984 121.21476491  53.61407284 191.35028281 105.1108812\n",
            " 123.4818946  210.06896662  54.98629244]\n"
          ]
        }
      ]
    },
    {
      "cell_type": "code",
      "source": [
        "from sklearn.datasets import load_iris\n",
        "import pandas as pd\n",
        "import numpy as np\n",
        "import matplotlib.pyplot as plt\n",
        "from sklearn.model_selection import train_test_split\n",
        "from sklearn.naive_bayes import GaussianNB\n",
        "\n",
        "def probCalc(x_train, x_test, mTrain, freqT1, freqT2, freqT3, feature):\n",
        "\tfreqQ1T1 = 0\n",
        "\tfreqQ1T2 = 0\n",
        "\tfreqQ1T3 = 0\n",
        "\tfreqQ2T1 = 0\n",
        "\tfreqQ2T2 = 0\n",
        "\tfreqQ2T3 = 0\n",
        "\tfreqQ3T1 = 0\n",
        "\tfreqQ3T2 = 0\n",
        "\tfreqQ3T3 = 0\n",
        "\tfreqQ4T1 = 0\n",
        "\tfreqQ4T2 = 0\n",
        "\tfreqQ4T3 = 0\n",
        "\tfor i in range(mTrain):\n",
        "\t\tif(y_train.iloc[i, 0]==0.0):\n",
        "\t\t\tif(x_train.iloc[i, feature]>=0 and x_train.iloc[i, feature]<0.25):\n",
        "\t\t\t\tfreqQ1T1 = freqQ1T1 + 1\n",
        "\t\t\telif(x_train.iloc[i, feature]>=0.25 and x_train.iloc[i, feature]<0.5):\n",
        "\t\t\t\tfreqQ2T1 = freqQ2T1 + 1\n",
        "\t\t\telif(x_train.iloc[i, feature]>=0.5 and x_train.iloc[i, feature]<0.75):\n",
        "\t\t\t\tfreqQ3T1 = freqQ3T1 + 1\n",
        "\t\t\telse:\n",
        "\t\t\t\tfreqQ4T1 = freqQ4T1 + 1\n",
        "\t\telif(y_train.iloc[i, 0]==1.0):\n",
        "\t\t\tif(x_train.iloc[i, feature]>=0 and x_train.iloc[i, feature]<0.25):\n",
        "\t\t\t\tfreqQ1T2 = freqQ1T2 + 1\n",
        "\t\t\telif(x_train.iloc[i, feature]>=0.25 and x_train.iloc[i, feature]<0.5):\n",
        "\t\t\t\tfreqQ2T2 = freqQ2T2 + 1\n",
        "\t\t\telif(x_train.iloc[i, feature]>=0.5 and x_train.iloc[i, feature]<0.75):\n",
        "\t\t\t\tfreqQ3T2 = freqQ3T2 + 1\n",
        "\t\t\telse:\n",
        "\t\t\t\tfreqQ4T2 = freqQ4T2 + 1\n",
        "\t\telse:\n",
        "\t\t\tif(x_train.iloc[i, feature]>=0 and x_train.iloc[i, feature]<0.25):\n",
        "\t\t\t\tfreqQ1T3 = freqQ1T3 + 1\n",
        "\t\t\telif(x_train.iloc[i, feature]>=0.25 and x_train.iloc[i, feature]<0.5):\n",
        "\t\t\t\tfreqQ2T3 = freqQ2T3 + 1\n",
        "\t\t\telif(x_train.iloc[i, feature]>=0.5 and x_train.iloc[i, feature]<0.75):\n",
        "\t\t\t\tfreqQ3T3 = freqQ3T3 + 1\n",
        "\t\t\telse:\n",
        "\t\t\t\tfreqQ4T3 = freqQ4T3 + 1\n",
        "\n",
        "\tfreqQ1T1 = freqQ1T1/freqT1\n",
        "\tfreqQ2T1 = freqQ2T1/freqT1\n",
        "\tfreqQ3T1 = freqQ3T1/freqT1\n",
        "\tfreqQ4T1 = freqQ4T1/freqT1\n",
        "\n",
        "\tfreqQ1T2 = freqQ1T2/freqT2\n",
        "\tfreqQ2T2 = freqQ2T2/freqT2\n",
        "\tfreqQ3T2 = freqQ3T2/freqT2\n",
        "\tfreqQ4T2 = freqQ4T2/freqT2\n",
        "\n",
        "\tfreqQ1T3 = freqQ1T3/freqT3\n",
        "\tfreqQ2T3 = freqQ2T3/freqT3\n",
        "\tfreqQ3T3 = freqQ3T3/freqT3\n",
        "\tfreqQ4T3 = freqQ4T3/freqT3\n",
        "\n",
        "\treturn [[freqQ1T1, freqQ2T1, freqQ3T1, freqQ4T1], \n",
        "\t\t\t[freqQ1T2, freqQ2T2, freqQ3T2, freqQ4T2],\n",
        "\t\t\t[freqQ1T3, freqQ2T3, freqQ3T3, freqQ4T3]]\n",
        "\n",
        "iris = load_iris()\n",
        "X = pd.DataFrame(iris.data[:])\n",
        "Y = pd.DataFrame(iris.target)\n",
        "\n",
        "m = X.shape[0]\n",
        "n = X.shape[1]\n",
        "\n",
        "\n",
        "#EDA\n",
        "#bar plot\n",
        "freqT1 = 0\n",
        "freqT2 = 0\n",
        "freqT3 = 0\n",
        "for i in range(m):\n",
        "\tif(Y.iloc[i,0]==0.0):\n",
        "\t\tfreqT1 = freqT1 + 1\n",
        "\telif(Y.iloc[i,0]==1.0):\n",
        "\t\tfreqT2 = freqT2 + 1\n",
        "\telse:\n",
        "\t\tfreqT3 = freqT3 + 1\n",
        "\n",
        "plt.bar(['target 0.0', 'target 1.0', 'target 2.0'], [freqT1, freqT2, freqT3], color ='maroon', width = 0.4)\n",
        "plt.xlabel(\"target\")\n",
        "plt.ylabel(\"frequency\")\n",
        "plt.show()\n",
        "\n",
        "#normalization\n",
        "maxList = []\n",
        "for j in range(n):\n",
        "\tmaxVal = -1\n",
        "\tfor i in range(m):\n",
        "\t\tmaxVal = max(maxVal, X.iloc[i, j])\n",
        "\tmaxList.append(maxVal)\n",
        "\n",
        "for j in range(n):\n",
        "\tfor i in range(m):\n",
        "\t\tX.iloc[i, j] = X.iloc[i, j]/maxList[j]\n",
        "\n",
        "x_train, x_test, y_train, y_test = train_test_split(X, Y, random_state=0, train_size = .9)\n",
        "\n",
        "mTrain = x_train.shape[0]\n",
        "nTrain = x_train.shape[1]\n",
        "\n",
        "mTest = x_test.shape[0]\n",
        "nTest = x_test.shape[1]\n",
        "\n",
        "freqT1 = 0\n",
        "freqT2 = 0\n",
        "freqT3 = 0\n",
        "\n",
        "#[0,0.25), [0.25,0.5), [0.5,0.75), [0.75,1]\n",
        "for i in range(mTrain):\n",
        "\tif(y_train.iloc[i,0]==0.0):\n",
        "\t\tfreqT1 = freqT1 + 1\n",
        "\telif(y_train.iloc[i,0]==1.0):\n",
        "\t\tfreqT2 = freqT2 + 1\n",
        "\telse:\n",
        "\t\tfreqT3 = freqT3 + 1\n",
        "\n",
        "prob_T1 = freqT1/mTrain\n",
        "prob_T2 = freqT2/mTrain\n",
        "prob_T3 = freqT3/mTrain\n",
        "\n",
        "likelihood = []\n",
        "\n",
        "for i in range(nTrain):\n",
        "\tlikelihood.append(probCalc(x_train, x_test, mTrain, freqT1, freqT2, freqT3, i))\n",
        "\n",
        "actualOut = []\n",
        "for i in range(mTest):\n",
        "\tactualOut.append(y_test.iloc[i][0])\n",
        "\n",
        "classified = []\n",
        "for i in range(mTest):\n",
        "\tprobT0 = prob_T1\n",
        "\tprobT1 = prob_T2\n",
        "\tprobT2 = prob_T3\n",
        "\tfor j in range(nTest):\n",
        "\t\tif(x_test.iloc[i, j]>=0 and x_test.iloc[i, j]<0.25):\n",
        "\t\t\tprobT0 = probT0*likelihood[j][0][0]\n",
        "\t\t\tprobT1 = probT1*likelihood[j][1][0]\n",
        "\t\t\tprobT2 = probT2*likelihood[j][2][0]\n",
        "\t\telif(x_test.iloc[i, j]>=0.25 and x_test.iloc[i, j]<0.5):\n",
        "\t\t\tprobT0 = probT0*likelihood[j][0][1]\n",
        "\t\t\tprobT1 = probT1*likelihood[j][1][1]\n",
        "\t\t\tprobT2 = probT2*likelihood[j][2][1]\n",
        "\t\telif(x_test.iloc[i, j]>=0.5 and x_test.iloc[i, j]<0.75):\n",
        "\t\t\tprobT0 = probT0*likelihood[j][0][2]\n",
        "\t\t\tprobT1 = probT1*likelihood[j][1][2]\n",
        "\t\t\tprobT2 = probT2*likelihood[j][2][2]\n",
        "\t\telse:\n",
        "\t\t\tprobT0 = probT0*likelihood[j][0][3]\n",
        "\t\t\tprobT1 = probT1*likelihood[j][1][3]\n",
        "\t\t\tprobT2 = probT2*likelihood[j][2][3]\n",
        "\n",
        "\tif(probT0>=probT1 and probT0>=probT2):\n",
        "\t\tclassified.append(0.0)\n",
        "\telif(probT1>=probT0 and probT1>=probT2):\n",
        "\t\tclassified.append(1.0)\n",
        "\telse:\n",
        "\t\tclassified.append(2.0)\n",
        "\n",
        "\n",
        "cnb = GaussianNB()\n",
        "y_pred = cnb.fit(x_train, y_train).predict(x_test)\n",
        "\n",
        "scratch_accuracy = 0\n",
        "inbuilt_accuracy = 0\n",
        "\n",
        "for i in range(len(y_pred)):\n",
        "\tif(classified[i]==y_test.iloc[i,0]):\n",
        "\t\tscratch_accuracy = scratch_accuracy + 1\n",
        "\tif(y_pred[i]==y_test.iloc[i, 0]):\n",
        "\t\tinbuilt_accuracy = inbuilt_accuracy + 1\n",
        "\n",
        "print(\"accuracy for code written from scratch (in precent):\", (scratch_accuracy/len(y_pred))*100)\n",
        "print(\"accuracy for inbuilt (in percent) :\", (inbuilt_accuracy/len(y_pred))*100)"
      ],
      "metadata": {
        "colab": {
          "base_uri": "https://localhost:8080/",
          "height": 372
        },
        "id": "SRncIMosHV6h",
        "outputId": "39a031ab-97fb-46b2-f193-0d908dcb7466"
      },
      "execution_count": 18,
      "outputs": [
        {
          "output_type": "display_data",
          "data": {
            "text/plain": [
              "<Figure size 432x288 with 1 Axes>"
            ],
            "image/png": "[encoded data removed]"
          },
          "metadata": {
            "needs_background": "light"
          }
        },
        {
          "output_type": "stream",
          "name": "stdout",
          "text": [
            "accuracy for code written from scratch (in precent): 100.0\n",
            "accuracy for inbuilt (in percent) : 93.33333333333333\n"
          ]
        },
        {
          "output_type": "stream",
          "name": "stderr",
          "text": [
            "/usr/local/lib/python3.8/dist-packages/sklearn/utils/validation.py:993: DataConversionWarning: A column-vector y was passed when a 1d array was expected. Please change the shape of y to (n_samples, ), for example using ravel().\n",
            "  y = column_or_1d(y, warn=True)\n"
          ]
        }
      ]
    },
    {
      "cell_type": "code",
      "source": [
        "import pandas as pd\n",
        "import matplotlib.pyplot as plt\n",
        "from sklearn.neighbors import KNeighborsRegressor\n",
        "\n",
        "\n",
        "def euclideanDist(trainAgeList, testAge):\n",
        "\teuclideanList = []\n",
        "\tfor i in range(len(trainAgeList)):\n",
        "\t\teuclideanList.append([i, abs(testAge-trainAgeList[i])])\n",
        "\treturn euclideanList\n",
        "\n",
        "def knearestMean(euclideanList, k, trainBMDList):\n",
        "\tsortedEuclideanList = sorted(euclideanList, key=lambda x: (x[1]))\n",
        "\tsumm = 0\n",
        "\tfor i in range(k):\n",
        "\t\tsumm = summ + trainBMDList[sortedEuclideanList[i][0]]\n",
        "\treturn summ/k\n",
        "\n",
        "df = pd.read_csv(\"/content/drive/MyDrive/bmd.csv\")\n",
        "\n",
        "trainAgeList = []\n",
        "trainBMDList = []\n",
        "testAgeList = []\n",
        "testBMDList = []\n",
        "\n",
        "LastTestIdx = int((df.shape[0]*90)/100)\n",
        "\n",
        "\n",
        "for i in range(df.shape[0]):\n",
        "\tif(i<=LastTestIdx):\n",
        "\t\ttrainAgeList.append(df.iloc[i]['age'])\n",
        "\t\ttrainBMDList.append(df.iloc[i]['bmd'])\n",
        "\telse:\n",
        "\t\ttestAgeList.append(df.iloc[i]['age'])\n",
        "\t\ttestBMDList.append(df.iloc[i]['bmd'])\n",
        "\n",
        "ListOfEuclideans = []\n",
        "for i in range(len(testAgeList)):\n",
        "\tListOfEuclideans.append(euclideanDist(trainAgeList, testAgeList[i]))\n",
        "\n",
        "predictionListForEachK = []\n",
        "\n",
        "\n",
        "for k in range(1, LastTestIdx):\n",
        "\tpredictions = []\n",
        "\tfor i in range(len(testAgeList)):\n",
        "\t\tpredictions.append(knearestMean(ListOfEuclideans[i], k, trainBMDList))\n",
        "\tpredictionListForEachK.append(predictions)\n",
        "\n",
        "sumBMD = 0\n",
        "for i in range(len(testAgeList)):\n",
        "\tsumBMD = sumBMD + testBMDList[i]\n",
        "meanBMDTest = sumBMD/len(testAgeList)\n",
        "\n",
        "r2ScoreList = []\n",
        "for i in range(len(predictionListForEachK)):\n",
        "\tnumerator = 0\n",
        "\tdenominator = 0\n",
        "\tfor j in range(len(testAgeList)):\n",
        "\t\tnumerator = numerator + (testBMDList[j]-predictionListForEachK[i][j])**2\n",
        "\t\tdenominator = denominator + (testBMDList[j]-meanBMDTest)**2\n",
        "\tr2Score = 1 - (numerator/denominator)\n",
        "\tr2ScoreList.append(r2Score)\n",
        "\n",
        "maxR2Score = -10000\n",
        "maxR2ScoreIdx = -1\n",
        "for i in range(len(r2ScoreList)):\n",
        "\tif(maxR2Score<r2ScoreList[i]):\n",
        "\t\tmaxR2Score = r2ScoreList[i]\n",
        "\t\tmaxR2ScoreIdx = i\n",
        "\n",
        "print(\"Optimum K :\", maxR2ScoreIdx)\n",
        "x_axis = []\n",
        "for i in range(1, len(predictionListForEachK)+1):\n",
        "\tx_axis.append(i)\n",
        "\n",
        "plt.plot(x_axis, r2ScoreList)\n",
        "plt.xlabel(\"K\")\n",
        "plt.ylabel(\"R2 score\")\n",
        "plt.show()"
      ],
      "metadata": {
        "colab": {
          "base_uri": "https://localhost:8080/",
          "height": 297
        },
        "id": "Wtcy0vxaMjCx",
        "outputId": "780c68b7-c887-4718-aedb-8b20a4d20464"
      },
      "execution_count": 20,
      "outputs": [
        {
          "output_type": "stream",
          "name": "stdout",
          "text": [
            "Optimum K : 150\n"
          ]
        },
        {
          "output_type": "display_data",
          "data": {
            "text/plain": [
              "<Figure size 432x288 with 1 Axes>"
            ],
            "image/png": "[encoded data removed]"
          },
          "metadata": {
            "needs_background": "light"
          }
        }
      ]
    }
  ]
}