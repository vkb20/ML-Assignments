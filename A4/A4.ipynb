{
  "nbformat": 4,
  "nbformat_minor": 0,
  "metadata": {
    "colab": {
      "provenance": []
    },
    "kernelspec": {
      "name": "python3",
      "display_name": "Python 3"
    },
    "language_info": {
      "name": "python"
    }
  },
  "cells": [
    {
      "cell_type": "code",
      "execution_count": 1,
      "metadata": {
        "colab": {
          "base_uri": "https://localhost:8080/"
        },
        "id": "QwkXs1REWU8P",
        "outputId": "b5fcf448-decd-49e1-cdbc-0351000c09b6"
      },
      "outputs": [
        {
          "output_type": "stream",
          "name": "stdout",
          "text": [
            "Mounted at /content/drive\n"
          ]
        }
      ],
      "source": [
        "from google.colab import drive\n",
        "drive.mount('/content/drive')"
      ]
    },
    {
      "cell_type": "code",
      "source": [
        "trainXTxt = open('/content/drive/MyDrive/UCI HAR Dataset/UCI HAR Dataset/train/X_train.txt', 'r')\n",
        "trainXTxtLines = trainXTxt.readlines()\n",
        "trainYTxt = open('/content/drive/MyDrive/UCI HAR Dataset/UCI HAR Dataset/train/y_train.txt', 'r')\n",
        "trainYTxtLines = trainYTxt.readlines()\n",
        "\n",
        "testXTxt = open('/content/drive/MyDrive/UCI HAR Dataset/UCI HAR Dataset/test/X_test.txt', 'r')\n",
        "testXTxtLines = testXTxt.readlines()\n",
        "testYTxt = open('/content/drive/MyDrive/UCI HAR Dataset/UCI HAR Dataset/test/y_test.txt', 'r')\n",
        "testYTxtLines = testYTxt.readlines()"
      ],
      "metadata": {
        "id": "rhwuoM3_W4TC"
      },
      "execution_count": 3,
      "outputs": []
    },
    {
      "cell_type": "code",
      "source": [
        "import pandas as pd\n",
        "trainX = []\n",
        "trainY = []\n",
        "testX = []\n",
        "testY = []\n",
        "\n",
        "for line in trainXTxtLines:\n",
        "  line = line.strip()\n",
        "  temp = line.split(\" \")\n",
        "  temp[:] = [x for x in temp if x]\n",
        "  for i in range(len(temp)):\n",
        "    temp[i] = float(temp[i])\n",
        "  trainX.append(temp)\n",
        "\n",
        "for line in trainYTxtLines:\n",
        "  line = line.strip()\n",
        "  trainY.append(int(line))\n",
        "\n",
        "for line in testXTxtLines:\n",
        "  line = line.strip()\n",
        "  temp = line.split(\" \")\n",
        "  temp[:] = [x for x in temp if x]\n",
        "  for i in range(len(temp)):\n",
        "    temp[i] = float(temp[i])\n",
        "  testX.append(temp)\n",
        "\n",
        "for line in testYTxtLines:\n",
        "  line = line.strip()\n",
        "  testY.append(int(line))\n",
        "\n",
        "xColName = []\n",
        "for i in range(len(trainX[0])):\n",
        "  xColName.append(\"f\" + str(i))\n",
        "\n",
        "yColName = ['label']\n",
        "\n",
        "print(len(trainX[1]))\n",
        "print(trainY[0])\n",
        "trainXdf = pd.DataFrame(columns = xColName, dtype = float)\n",
        "trainYdf = pd.DataFrame(columns = yColName, dtype = float)\n",
        "\n",
        "testXdf = pd.DataFrame(columns = xColName, dtype = float)\n",
        "testYdf = pd.DataFrame(columns = yColName, dtype = float)\n",
        "\n",
        "for i in range(len(trainX)):\n",
        "  trainXdf.loc[len(trainXdf.index)] = trainX[i]\n",
        "\n",
        "for i in range(len(trainY)):\n",
        "  trainYdf.loc[len(trainYdf.index)] = trainY[i]\n",
        "\n",
        "for i in range(len(testX)):\n",
        "  testXdf.loc[len(testXdf.index)] = testX[i]\n",
        "\n",
        "for i in range(len(testY)):\n",
        "  testYdf.loc[len(testYdf.index)] = testY[i]"
      ],
      "metadata": {
        "colab": {
          "base_uri": "https://localhost:8080/"
        },
        "id": "UMwmzaCHXEt_",
        "outputId": "80d4b9a8-de7d-4187-ed6f-5cb90664dfdb"
      },
      "execution_count": 4,
      "outputs": [
        {
          "output_type": "stream",
          "name": "stdout",
          "text": [
            "561\n",
            "5\n"
          ]
        }
      ]
    },
    {
      "cell_type": "code",
      "source": [
        "pip install umap-learn"
      ],
      "metadata": {
        "colab": {
          "base_uri": "https://localhost:8080/"
        },
        "id": "UuLGC5K6Xhe7",
        "outputId": "281c8ea4-a8a4-4b42-b0f2-c0ab35558c32"
      },
      "execution_count": 5,
      "outputs": [
        {
          "output_type": "stream",
          "name": "stdout",
          "text": [
            "Looking in indexes: https://pypi.org/simple, https://us-python.pkg.dev/colab-wheels/public/simple/\n",
            "Collecting umap-learn\n",
            "  Downloading umap-learn-0.5.3.tar.gz (88 kB)\n",
            "\u001b[2K     \u001b[90m━━━━━━━━━━━━━━━━━━━━━━━━━━━━━━━━━━━━━━━━\u001b[0m \u001b[32m88.2/88.2 KB\u001b[0m \u001b[31m4.0 MB/s\u001b[0m eta \u001b[36m0:00:00\u001b[0m\n",
            "\u001b[?25h  Preparing metadata (setup.py) ... \u001b[?25l\u001b[?25hdone\n",
            "Requirement already satisfied: numpy>=1.17 in /usr/local/lib/python3.9/dist-packages (from umap-learn) (1.22.4)\n",
            "Requirement already satisfied: scikit-learn>=0.22 in /usr/local/lib/python3.9/dist-packages (from umap-learn) (1.2.2)\n",
            "Requirement already satisfied: scipy>=1.0 in /usr/local/lib/python3.9/dist-packages (from umap-learn) (1.10.1)\n",
            "Requirement already satisfied: numba>=0.49 in /usr/local/lib/python3.9/dist-packages (from umap-learn) (0.56.4)\n",
            "Collecting pynndescent>=0.5\n",
            "  Downloading pynndescent-0.5.8.tar.gz (1.1 MB)\n",
            "\u001b[2K     \u001b[90m━━━━━━━━━━━━━━━━━━━━━━━━━━━━━━━━━━━━━━━━\u001b[0m \u001b[32m1.1/1.1 MB\u001b[0m \u001b[31m24.0 MB/s\u001b[0m eta \u001b[36m0:00:00\u001b[0m\n",
            "\u001b[?25h  Preparing metadata (setup.py) ... \u001b[?25l\u001b[?25hdone\n",
            "Requirement already satisfied: tqdm in /usr/local/lib/python3.9/dist-packages (from umap-learn) (4.65.0)\n",
            "Requirement already satisfied: setuptools in /usr/local/lib/python3.9/dist-packages (from numba>=0.49->umap-learn) (67.6.1)\n",
            "Requirement already satisfied: llvmlite<0.40,>=0.39.0dev0 in /usr/local/lib/python3.9/dist-packages (from numba>=0.49->umap-learn) (0.39.1)\n",
            "Requirement already satisfied: joblib>=0.11 in /usr/local/lib/python3.9/dist-packages (from pynndescent>=0.5->umap-learn) (1.1.1)\n",
            "Requirement already satisfied: threadpoolctl>=2.0.0 in /usr/local/lib/python3.9/dist-packages (from scikit-learn>=0.22->umap-learn) (3.1.0)\n",
            "Building wheels for collected packages: umap-learn, pynndescent\n",
            "  Building wheel for umap-learn (setup.py) ... \u001b[?25l\u001b[?25hdone\n",
            "  Created wheel for umap-learn: filename=umap_learn-0.5.3-py3-none-any.whl size=82830 sha256=35491301d5eff05fac38f2248081859813696fbf5063c6e5fcee888ff2223b50\n",
            "  Stored in directory: /root/.cache/pip/wheels/f4/3e/1c/596d0a463d17475af648688443fa4846fef624d1390339e7e9\n",
            "  Building wheel for pynndescent (setup.py) ... \u001b[?25l\u001b[?25hdone\n",
            "  Created wheel for pynndescent: filename=pynndescent-0.5.8-py3-none-any.whl size=55509 sha256=1e0430e5d6d3946a00b81b1dfed7f54e437a15a3188cb629f35da5b6b7247d2c\n",
            "  Stored in directory: /root/.cache/pip/wheels/b9/89/cc/59ab91ef5b21dc2ab3635528d7d227f49dfc9169905dcb959d\n",
            "Successfully built umap-learn pynndescent\n",
            "Installing collected packages: pynndescent, umap-learn\n",
            "Successfully installed pynndescent-0.5.8 umap-learn-0.5.3\n"
          ]
        }
      ]
    },
    {
      "cell_type": "code",
      "source": [
        "pip install umap-learn[plot]"
      ],
      "metadata": {
        "colab": {
          "base_uri": "https://localhost:8080/"
        },
        "id": "v2y_ZocYX8mj",
        "outputId": "3bf9acc7-2f22-4467-fda6-de7ed62336e3"
      },
      "execution_count": 6,
      "outputs": [
        {
          "output_type": "stream",
          "name": "stdout",
          "text": [
            "Looking in indexes: https://pypi.org/simple, https://us-python.pkg.dev/colab-wheels/public/simple/\n",
            "Requirement already satisfied: umap-learn[plot] in /usr/local/lib/python3.9/dist-packages (0.5.3)\n",
            "Requirement already satisfied: numpy>=1.17 in /usr/local/lib/python3.9/dist-packages (from umap-learn[plot]) (1.22.4)\n",
            "Requirement already satisfied: pynndescent>=0.5 in /usr/local/lib/python3.9/dist-packages (from umap-learn[plot]) (0.5.8)\n",
            "Requirement already satisfied: scikit-learn>=0.22 in /usr/local/lib/python3.9/dist-packages (from umap-learn[plot]) (1.2.2)\n",
            "Requirement already satisfied: numba>=0.49 in /usr/local/lib/python3.9/dist-packages (from umap-learn[plot]) (0.56.4)\n",
            "Requirement already satisfied: scipy>=1.0 in /usr/local/lib/python3.9/dist-packages (from umap-learn[plot]) (1.10.1)\n",
            "Requirement already satisfied: tqdm in /usr/local/lib/python3.9/dist-packages (from umap-learn[plot]) (4.65.0)\n",
            "Requirement already satisfied: bokeh in /usr/local/lib/python3.9/dist-packages (from umap-learn[plot]) (2.4.3)\n",
            "Requirement already satisfied: pandas in /usr/local/lib/python3.9/dist-packages (from umap-learn[plot]) (1.4.4)\n",
            "Requirement already satisfied: seaborn in /usr/local/lib/python3.9/dist-packages (from umap-learn[plot]) (0.12.2)\n",
            "Requirement already satisfied: colorcet in /usr/local/lib/python3.9/dist-packages (from umap-learn[plot]) (3.0.1)\n",
            "Requirement already satisfied: scikit-image in /usr/local/lib/python3.9/dist-packages (from umap-learn[plot]) (0.19.3)\n",
            "Requirement already satisfied: holoviews in /usr/local/lib/python3.9/dist-packages (from umap-learn[plot]) (1.15.4)\n",
            "Collecting datashader\n",
            "  Downloading datashader-0.14.4-py2.py3-none-any.whl (18.2 MB)\n",
            "\u001b[2K     \u001b[90m━━━━━━━━━━━━━━━━━━━━━━━━━━━━━━━━━━━━━━━━\u001b[0m \u001b[32m18.2/18.2 MB\u001b[0m \u001b[31m81.5 MB/s\u001b[0m eta \u001b[36m0:00:00\u001b[0m\n",
            "\u001b[?25hRequirement already satisfied: matplotlib in /usr/local/lib/python3.9/dist-packages (from umap-learn[plot]) (3.7.1)\n",
            "Requirement already satisfied: llvmlite<0.40,>=0.39.0dev0 in /usr/local/lib/python3.9/dist-packages (from numba>=0.49->umap-learn[plot]) (0.39.1)\n",
            "Requirement already satisfied: setuptools in /usr/local/lib/python3.9/dist-packages (from numba>=0.49->umap-learn[plot]) (67.6.1)\n",
            "Requirement already satisfied: joblib>=0.11 in /usr/local/lib/python3.9/dist-packages (from pynndescent>=0.5->umap-learn[plot]) (1.1.1)\n",
            "Requirement already satisfied: threadpoolctl>=2.0.0 in /usr/local/lib/python3.9/dist-packages (from scikit-learn>=0.22->umap-learn[plot]) (3.1.0)\n",
            "Requirement already satisfied: pillow>=7.1.0 in /usr/local/lib/python3.9/dist-packages (from bokeh->umap-learn[plot]) (8.4.0)\n",
            "Requirement already satisfied: tornado>=5.1 in /usr/local/lib/python3.9/dist-packages (from bokeh->umap-learn[plot]) (6.2)\n",
            "Requirement already satisfied: typing-extensions>=3.10.0 in /usr/local/lib/python3.9/dist-packages (from bokeh->umap-learn[plot]) (4.5.0)\n",
            "Requirement already satisfied: packaging>=16.8 in /usr/local/lib/python3.9/dist-packages (from bokeh->umap-learn[plot]) (23.0)\n",
            "Requirement already satisfied: PyYAML>=3.10 in /usr/local/lib/python3.9/dist-packages (from bokeh->umap-learn[plot]) (6.0)\n",
            "Requirement already satisfied: Jinja2>=2.9 in /usr/local/lib/python3.9/dist-packages (from bokeh->umap-learn[plot]) (3.1.2)\n",
            "Requirement already satisfied: pyct>=0.4.4 in /usr/local/lib/python3.9/dist-packages (from colorcet->umap-learn[plot]) (0.5.0)\n",
            "Requirement already satisfied: requests in /usr/local/lib/python3.9/dist-packages (from datashader->umap-learn[plot]) (2.27.1)\n",
            "Requirement already satisfied: xarray in /usr/local/lib/python3.9/dist-packages (from datashader->umap-learn[plot]) (2022.12.0)\n",
            "Collecting datashape\n",
            "  Downloading datashape-0.5.2.tar.gz (76 kB)\n",
            "\u001b[2K     \u001b[90m━━━━━━━━━━━━━━━━━━━━━━━━━━━━━━━━━━━━━━━━\u001b[0m \u001b[32m76.5/76.5 KB\u001b[0m \u001b[31m12.3 MB/s\u001b[0m eta \u001b[36m0:00:00\u001b[0m\n",
            "\u001b[?25h  Preparing metadata (setup.py) ... \u001b[?25l\u001b[?25hdone\n",
            "Requirement already satisfied: toolz in /usr/local/lib/python3.9/dist-packages (from datashader->umap-learn[plot]) (0.12.0)\n",
            "Requirement already satisfied: param in /usr/local/lib/python3.9/dist-packages (from datashader->umap-learn[plot]) (1.13.0)\n",
            "Requirement already satisfied: dask in /usr/local/lib/python3.9/dist-packages (from datashader->umap-learn[plot]) (2022.12.1)\n",
            "Requirement already satisfied: panel>=0.13.1 in /usr/local/lib/python3.9/dist-packages (from holoviews->umap-learn[plot]) (0.14.4)\n",
            "Requirement already satisfied: pyviz-comms>=0.7.4 in /usr/local/lib/python3.9/dist-packages (from holoviews->umap-learn[plot]) (2.2.1)\n",
            "Requirement already satisfied: pytz>=2020.1 in /usr/local/lib/python3.9/dist-packages (from pandas->umap-learn[plot]) (2022.7.1)\n",
            "Requirement already satisfied: python-dateutil>=2.8.1 in /usr/local/lib/python3.9/dist-packages (from pandas->umap-learn[plot]) (2.8.2)\n",
            "Requirement already satisfied: fonttools>=4.22.0 in /usr/local/lib/python3.9/dist-packages (from matplotlib->umap-learn[plot]) (4.39.3)\n",
            "Requirement already satisfied: contourpy>=1.0.1 in /usr/local/lib/python3.9/dist-packages (from matplotlib->umap-learn[plot]) (1.0.7)\n",
            "Requirement already satisfied: importlib-resources>=3.2.0 in /usr/local/lib/python3.9/dist-packages (from matplotlib->umap-learn[plot]) (5.12.0)\n",
            "Requirement already satisfied: kiwisolver>=1.0.1 in /usr/local/lib/python3.9/dist-packages (from matplotlib->umap-learn[plot]) (1.4.4)\n",
            "Requirement already satisfied: pyparsing>=2.3.1 in /usr/local/lib/python3.9/dist-packages (from matplotlib->umap-learn[plot]) (3.0.9)\n",
            "Requirement already satisfied: cycler>=0.10 in /usr/local/lib/python3.9/dist-packages (from matplotlib->umap-learn[plot]) (0.11.0)\n",
            "Requirement already satisfied: networkx>=2.2 in /usr/local/lib/python3.9/dist-packages (from scikit-image->umap-learn[plot]) (3.0)\n",
            "Requirement already satisfied: PyWavelets>=1.1.1 in /usr/local/lib/python3.9/dist-packages (from scikit-image->umap-learn[plot]) (1.4.1)\n",
            "Requirement already satisfied: tifffile>=2019.7.26 in /usr/local/lib/python3.9/dist-packages (from scikit-image->umap-learn[plot]) (2023.3.21)\n",
            "Requirement already satisfied: imageio>=2.4.1 in /usr/local/lib/python3.9/dist-packages (from scikit-image->umap-learn[plot]) (2.25.1)\n",
            "Requirement already satisfied: zipp>=3.1.0 in /usr/local/lib/python3.9/dist-packages (from importlib-resources>=3.2.0->matplotlib->umap-learn[plot]) (3.15.0)\n",
            "Requirement already satisfied: MarkupSafe>=2.0 in /usr/local/lib/python3.9/dist-packages (from Jinja2>=2.9->bokeh->umap-learn[plot]) (2.1.2)\n",
            "Requirement already satisfied: bleach in /usr/local/lib/python3.9/dist-packages (from panel>=0.13.1->holoviews->umap-learn[plot]) (6.0.0)\n",
            "Requirement already satisfied: markdown in /usr/local/lib/python3.9/dist-packages (from panel>=0.13.1->holoviews->umap-learn[plot]) (3.4.3)\n",
            "Requirement already satisfied: six>=1.5 in /usr/local/lib/python3.9/dist-packages (from python-dateutil>=2.8.1->pandas->umap-learn[plot]) (1.16.0)\n",
            "Requirement already satisfied: click>=7.0 in /usr/local/lib/python3.9/dist-packages (from dask->datashader->umap-learn[plot]) (8.1.3)\n",
            "Requirement already satisfied: fsspec>=0.6.0 in /usr/local/lib/python3.9/dist-packages (from dask->datashader->umap-learn[plot]) (2023.3.0)\n",
            "Requirement already satisfied: partd>=0.3.10 in /usr/local/lib/python3.9/dist-packages (from dask->datashader->umap-learn[plot]) (1.3.0)\n",
            "Requirement already satisfied: cloudpickle>=1.1.1 in /usr/local/lib/python3.9/dist-packages (from dask->datashader->umap-learn[plot]) (2.2.1)\n",
            "Requirement already satisfied: multipledispatch>=0.4.7 in /usr/local/lib/python3.9/dist-packages (from datashape->datashader->umap-learn[plot]) (0.6.0)\n",
            "Requirement already satisfied: idna<4,>=2.5 in /usr/local/lib/python3.9/dist-packages (from requests->datashader->umap-learn[plot]) (3.4)\n",
            "Requirement already satisfied: charset-normalizer~=2.0.0 in /usr/local/lib/python3.9/dist-packages (from requests->datashader->umap-learn[plot]) (2.0.12)\n",
            "Requirement already satisfied: urllib3<1.27,>=1.21.1 in /usr/local/lib/python3.9/dist-packages (from requests->datashader->umap-learn[plot]) (1.26.15)\n",
            "Requirement already satisfied: certifi>=2017.4.17 in /usr/local/lib/python3.9/dist-packages (from requests->datashader->umap-learn[plot]) (2022.12.7)\n",
            "Requirement already satisfied: locket in /usr/local/lib/python3.9/dist-packages (from partd>=0.3.10->dask->datashader->umap-learn[plot]) (1.0.0)\n",
            "Requirement already satisfied: webencodings in /usr/local/lib/python3.9/dist-packages (from bleach->panel>=0.13.1->holoviews->umap-learn[plot]) (0.5.1)\n",
            "Requirement already satisfied: importlib-metadata>=4.4 in /usr/local/lib/python3.9/dist-packages (from markdown->panel>=0.13.1->holoviews->umap-learn[plot]) (6.1.0)\n",
            "Building wheels for collected packages: datashape\n",
            "  Building wheel for datashape (setup.py) ... \u001b[?25l\u001b[?25hdone\n",
            "  Created wheel for datashape: filename=datashape-0.5.2-py3-none-any.whl size=59436 sha256=732230aa63c598e541926e09fd85a1a04398df9e9f2ed583986cee1bdc779a96\n",
            "  Stored in directory: /root/.cache/pip/wheels/42/ef/d7/781cf80d4146d76b3d2ed2510113d78c2643c842cc6c22918d\n",
            "Successfully built datashape\n",
            "Installing collected packages: datashape, datashader\n",
            "Successfully installed datashader-0.14.4 datashape-0.5.2\n"
          ]
        }
      ]
    },
    {
      "cell_type": "code",
      "source": [
        "import umap.plot\n",
        "\n",
        "mapper = umap.UMAP(n_components = 2, random_state = 0).fit(trainXdf)\n",
        "umap.plot.points(mapper, labels=trainYdf.iloc[:,0])"
      ],
      "metadata": {
        "colab": {
          "base_uri": "https://localhost:8080/",
          "height": 671
        },
        "id": "MABYOnN0X9d2",
        "outputId": "4f0f8a56-abc6-46ab-e43f-49259bed7140"
      },
      "execution_count": 7,
      "outputs": [
        {
          "output_type": "execute_result",
          "data": {
            "text/plain": [
              "<Axes: >"
            ]
          },
          "metadata": {},
          "execution_count": 7
        },
        {
          "output_type": "display_data",
          "data": {
            "text/plain": [
              "<Figure size 800x800 with 1 Axes>"
            ],
            "image/png": "[encoded data removed]"
          },
          "metadata": {}
        }
      ]
    },
    {
      "cell_type": "code",
      "source": [
        "from sklearn.cluster import KMeans\n",
        "import numpy as np\n",
        "from yellowbrick.cluster import KElbowVisualizer\n",
        "from sklearn.cluster import SpectralClustering\n",
        "\n",
        "kmeans = KMeans(random_state=0)\n",
        "visualizer = KElbowVisualizer(kmeans, k=(2,10))\n",
        "visualizer.fit(trainXdf)\n",
        "visualizer.show()"
      ],
      "metadata": {
        "colab": {
          "base_uri": "https://localhost:8080/",
          "height": 853
        },
        "id": "pvKh8BOBYIVh",
        "outputId": "7c42b024-d16c-46f2-824a-d7cec232db52"
      },
      "execution_count": 8,
      "outputs": [
        {
          "output_type": "stream",
          "name": "stderr",
          "text": [
            "/usr/local/lib/python3.9/dist-packages/sklearn/cluster/_kmeans.py:870: FutureWarning: The default value of `n_init` will change from 10 to 'auto' in 1.4. Set the value of `n_init` explicitly to suppress the warning\n",
            "  warnings.warn(\n",
            "/usr/local/lib/python3.9/dist-packages/sklearn/cluster/_kmeans.py:870: FutureWarning: The default value of `n_init` will change from 10 to 'auto' in 1.4. Set the value of `n_init` explicitly to suppress the warning\n",
            "  warnings.warn(\n",
            "/usr/local/lib/python3.9/dist-packages/sklearn/cluster/_kmeans.py:870: FutureWarning: The default value of `n_init` will change from 10 to 'auto' in 1.4. Set the value of `n_init` explicitly to suppress the warning\n",
            "  warnings.warn(\n",
            "/usr/local/lib/python3.9/dist-packages/sklearn/cluster/_kmeans.py:870: FutureWarning: The default value of `n_init` will change from 10 to 'auto' in 1.4. Set the value of `n_init` explicitly to suppress the warning\n",
            "  warnings.warn(\n",
            "/usr/local/lib/python3.9/dist-packages/sklearn/cluster/_kmeans.py:870: FutureWarning: The default value of `n_init` will change from 10 to 'auto' in 1.4. Set the value of `n_init` explicitly to suppress the warning\n",
            "  warnings.warn(\n",
            "/usr/local/lib/python3.9/dist-packages/sklearn/cluster/_kmeans.py:870: FutureWarning: The default value of `n_init` will change from 10 to 'auto' in 1.4. Set the value of `n_init` explicitly to suppress the warning\n",
            "  warnings.warn(\n",
            "/usr/local/lib/python3.9/dist-packages/sklearn/cluster/_kmeans.py:870: FutureWarning: The default value of `n_init` will change from 10 to 'auto' in 1.4. Set the value of `n_init` explicitly to suppress the warning\n",
            "  warnings.warn(\n",
            "/usr/local/lib/python3.9/dist-packages/sklearn/cluster/_kmeans.py:870: FutureWarning: The default value of `n_init` will change from 10 to 'auto' in 1.4. Set the value of `n_init` explicitly to suppress the warning\n",
            "  warnings.warn(\n"
          ]
        },
        {
          "output_type": "display_data",
          "data": {
            "text/plain": [
              "<Figure size 800x550 with 2 Axes>"
            ],
            "image/png": "[encoded data removed]"
          },
          "metadata": {}
        },
        {
          "output_type": "execute_result",
          "data": {
            "text/plain": [
              "<Axes: title={'center': 'Distortion Score Elbow for KMeans Clustering'}, xlabel='k', ylabel='distortion score'>"
            ]
          },
          "metadata": {},
          "execution_count": 8
        }
      ]
    },
    {
      "cell_type": "code",
      "source": [
        "from sklearn.cluster import SpectralClustering\n",
        "import matplotlib.pyplot as plt\n",
        "import numpy as np\n",
        "from sklearn.metrics import silhouette_score\n",
        "\n",
        "yAxis = []\n",
        "for i in range(2, 10):\n",
        "  specAlgo = SpectralClustering(n_clusters=i, affinity='nearest_neighbors')\n",
        "  outLabels = specAlgo.fit_predict(trainXdf)\n",
        "  yAxis.append(silhouette_score(trainXdf, outLabels))\n",
        "  \n",
        "\n",
        "xAxis = [i for i in range(2, 10)]\n",
        "plt.plot(xAxis, yAxis, 'bx-')\n",
        "plt.xlabel('no. of clusters')\n",
        "plt.ylabel('Silhouette Score')\n",
        "plt.title('Elbow Curve for spectral clustering algo')\n",
        "plt.show()"
      ],
      "metadata": {
        "colab": {
          "base_uri": "https://localhost:8080/",
          "height": 524
        },
        "id": "49VZ-Zy_YViK",
        "outputId": "78923daa-8d93-4ef0-da0c-6642e7bb1f38"
      },
      "execution_count": 9,
      "outputs": [
        {
          "output_type": "display_data",
          "data": {
            "text/plain": [
              "<Figure size 800x550 with 1 Axes>"
            ],
            "image/png": "[encoded data removed]"
          },
          "metadata": {}
        }
      ]
    },
    {
      "cell_type": "code",
      "source": [
        "kmeansOptimal = KMeans(random_state = 0, n_clusters = 4)\n",
        "kmeansOptimal.fit(trainXdf)\n",
        "kmOptimalpredLabels = kmeansOptimal.predict(trainXdf)\n",
        "print(\"K means silhouette score for optimal K :\", silhouette_score(trainXdf, kmOptimalpredLabels))"
      ],
      "metadata": {
        "colab": {
          "base_uri": "https://localhost:8080/"
        },
        "id": "NR8Xabl4YcLv",
        "outputId": "7399af2e-8291-4d07-b978-20469def8d85"
      },
      "execution_count": 10,
      "outputs": [
        {
          "output_type": "stream",
          "name": "stderr",
          "text": [
            "/usr/local/lib/python3.9/dist-packages/sklearn/cluster/_kmeans.py:870: FutureWarning: The default value of `n_init` will change from 10 to 'auto' in 1.4. Set the value of `n_init` explicitly to suppress the warning\n",
            "  warnings.warn(\n"
          ]
        },
        {
          "output_type": "stream",
          "name": "stdout",
          "text": [
            "K means silhouette score for optimal K : 0.18722388778315638\n"
          ]
        }
      ]
    },
    {
      "cell_type": "code",
      "source": [
        "specAlgoOptimal = SpectralClustering(n_clusters=5, affinity='nearest_neighbors')\n",
        "specAlgoOptimaloutLabels = specAlgoOptimal.fit_predict(trainXdf)\n",
        "print(\"spectral clustering silhouette score for optimal K :\", silhouette_score(trainXdf, specAlgoOptimaloutLabels))"
      ],
      "metadata": {
        "colab": {
          "base_uri": "https://localhost:8080/"
        },
        "id": "U4HT9lTVYg8D",
        "outputId": "7752722c-b8d4-4d08-97c9-646485108e40"
      },
      "execution_count": 11,
      "outputs": [
        {
          "output_type": "stream",
          "name": "stdout",
          "text": [
            "spectral clustering silhouette score for optimal K : 0.21675167186593897\n"
          ]
        }
      ]
    },
    {
      "cell_type": "code",
      "source": [
        "import pandas as pd\n",
        "from sklearn.datasets import load_wine\n",
        "data = load_wine()\n",
        "df = pd.DataFrame(data=data['data'],columns=data['feature_names'])\n",
        "print(df)"
      ],
      "metadata": {
        "colab": {
          "base_uri": "https://localhost:8080/"
        },
        "id": "pk006kW6Y4Mo",
        "outputId": "4a6ab969-fa69-4ea7-9e13-128f03216c49"
      },
      "execution_count": 12,
      "outputs": [
        {
          "output_type": "stream",
          "name": "stdout",
          "text": [
            "     alcohol  malic_acid   ash  alcalinity_of_ash  magnesium  total_phenols  \\\n",
            "0      14.23        1.71  2.43               15.6      127.0           2.80   \n",
            "1      13.20        1.78  2.14               11.2      100.0           2.65   \n",
            "2      13.16        2.36  2.67               18.6      101.0           2.80   \n",
            "3      14.37        1.95  2.50               16.8      113.0           3.85   \n",
            "4      13.24        2.59  2.87               21.0      118.0           2.80   \n",
            "..       ...         ...   ...                ...        ...            ...   \n",
            "173    13.71        5.65  2.45               20.5       95.0           1.68   \n",
            "174    13.40        3.91  2.48               23.0      102.0           1.80   \n",
            "175    13.27        4.28  2.26               20.0      120.0           1.59   \n",
            "176    13.17        2.59  2.37               20.0      120.0           1.65   \n",
            "177    14.13        4.10  2.74               24.5       96.0           2.05   \n",
            "\n",
            "     flavanoids  nonflavanoid_phenols  proanthocyanins  color_intensity   hue  \\\n",
            "0          3.06                  0.28             2.29             5.64  1.04   \n",
            "1          2.76                  0.26             1.28             4.38  1.05   \n",
            "2          3.24                  0.30             2.81             5.68  1.03   \n",
            "3          3.49                  0.24             2.18             7.80  0.86   \n",
            "4          2.69                  0.39             1.82             4.32  1.04   \n",
            "..          ...                   ...              ...              ...   ...   \n",
            "173        0.61                  0.52             1.06             7.70  0.64   \n",
            "174        0.75                  0.43             1.41             7.30  0.70   \n",
            "175        0.69                  0.43             1.35            10.20  0.59   \n",
            "176        0.68                  0.53             1.46             9.30  0.60   \n",
            "177        0.76                  0.56             1.35             9.20  0.61   \n",
            "\n",
            "     od280/od315_of_diluted_wines  proline  \n",
            "0                            3.92   1065.0  \n",
            "1                            3.40   1050.0  \n",
            "2                            3.17   1185.0  \n",
            "3                            3.45   1480.0  \n",
            "4                            2.93    735.0  \n",
            "..                            ...      ...  \n",
            "173                          1.74    740.0  \n",
            "174                          1.56    750.0  \n",
            "175                          1.56    835.0  \n",
            "176                          1.62    840.0  \n",
            "177                          1.60    560.0  \n",
            "\n",
            "[178 rows x 13 columns]\n"
          ]
        }
      ]
    },
    {
      "cell_type": "code",
      "source": [
        "df['Target'] = data['target']\n",
        "dfTarget = df['Target']\n",
        "del df['Target']\n",
        "print(dfTarget)"
      ],
      "metadata": {
        "colab": {
          "base_uri": "https://localhost:8080/"
        },
        "id": "I3op4rwiZEE4",
        "outputId": "2bc10523-fab1-45de-c427-03f76658a06c"
      },
      "execution_count": 13,
      "outputs": [
        {
          "output_type": "stream",
          "name": "stdout",
          "text": [
            "0      0\n",
            "1      0\n",
            "2      0\n",
            "3      0\n",
            "4      0\n",
            "      ..\n",
            "173    2\n",
            "174    2\n",
            "175    2\n",
            "176    2\n",
            "177    2\n",
            "Name: Target, Length: 178, dtype: int64\n"
          ]
        }
      ]
    },
    {
      "cell_type": "code",
      "source": [
        "from sklearn.model_selection import train_test_split\n",
        "wineTrain1X, wineTest1X, wineTrain1Y, wineTest1Y = train_test_split(df, dfTarget, test_size=0.30, random_state=0)"
      ],
      "metadata": {
        "id": "v2GTfMPXY8P4"
      },
      "execution_count": 14,
      "outputs": []
    },
    {
      "cell_type": "code",
      "source": [
        "from sklearn.ensemble import RandomForestClassifier\n",
        "from sklearn.metrics import accuracy_score\n",
        "\n",
        "RFClassifer = RandomForestClassifier(random_state=0)\n",
        "RFClassifer.fit(wineTrain1X, wineTrain1Y)\n",
        "RFCPred = RFClassifer.predict(wineTest1X)\n",
        "print(accuracy_score(wineTest1Y, RFCPred))"
      ],
      "metadata": {
        "colab": {
          "base_uri": "https://localhost:8080/"
        },
        "id": "ua6wRTquZH3V",
        "outputId": "8856832c-ef62-4b71-b45c-98011294138c"
      },
      "execution_count": 17,
      "outputs": [
        {
          "output_type": "stream",
          "name": "stdout",
          "text": [
            "0.9814814814814815\n"
          ]
        }
      ]
    },
    {
      "cell_type": "code",
      "source": [
        "from sklearn.tree import DecisionTreeClassifier\n",
        "from sklearn.ensemble import BaggingClassifier\n",
        "\n",
        "DTree = DecisionTreeClassifier(random_state=0)\n",
        "DTreeWithBag = BaggingClassifier(DTree, random_state=0)\n",
        "DTreeWithBag.fit(wineTrain1X, wineTrain1Y)\n",
        "DTreeWithBagPred = DTreeWithBag.predict(wineTest1X)\n",
        "print(accuracy_score(wineTest1Y, DTreeWithBagPred))"
      ],
      "metadata": {
        "colab": {
          "base_uri": "https://localhost:8080/"
        },
        "id": "bokJUUHkZJ59",
        "outputId": "e1e805c1-e5d5-43fe-a74b-678a5fe03bcb"
      },
      "execution_count": 19,
      "outputs": [
        {
          "output_type": "stream",
          "name": "stdout",
          "text": [
            "0.9814814814814815\n"
          ]
        }
      ]
    },
    {
      "cell_type": "code",
      "source": [
        "from sklearn.ensemble import AdaBoostClassifier\n",
        "\n",
        "ADABoost = AdaBoostClassifier(estimator=DTree, random_state=0)\n",
        "ADABoost.fit(wineTrain1X, wineTrain1Y)\n",
        "ADABoostPred = ADABoost.predict(wineTest1X)\n",
        "print(accuracy_score(wineTest1Y, ADABoostPred))"
      ],
      "metadata": {
        "colab": {
          "base_uri": "https://localhost:8080/"
        },
        "id": "F-MhA46RZZWW",
        "outputId": "4462886a-4ad7-441c-afc6-c18a88c760d0"
      },
      "execution_count": 20,
      "outputs": [
        {
          "output_type": "stream",
          "name": "stdout",
          "text": [
            "0.9259259259259259\n"
          ]
        }
      ]
    },
    {
      "cell_type": "code",
      "source": [
        "import pandas as pd\n",
        "from sklearn.preprocessing import LabelEncoder\n",
        "\n",
        "LEncoder = LabelEncoder()\n",
        "bankData = pd.read_csv('/content/drive/MyDrive/bank.csv', sep=';')\n",
        "xData = bankData.iloc[:, : bankData.shape[1]-1]\n",
        "yData = bankData.iloc[:, bankData.shape[1]-1]\n",
        "colNameList = []\n",
        "for i in range(xData.shape[1]):\n",
        "  colNameList.append(xData.columns[i])\n",
        "\n",
        "newXData = pd.DataFrame(columns=colNameList)\n",
        "newYData = pd.DataFrame(columns = ['y'])\n",
        "\n",
        "for i in range(xData.shape[1]):\n",
        "  if(i==0 or i==5 or i==9 or i==11 or i==12 or i==13 or i==14):\n",
        "    newXData[colNameList[i]] = xData.iloc[:,i]\n",
        "  else:\n",
        "    newXData[colNameList[i]] = LEncoder.fit_transform(xData.iloc[:, i])\n",
        "\n",
        "newYData['y'] = LEncoder.fit_transform(yData[:])"
      ],
      "metadata": {
        "id": "F8aNeQTDZft0"
      },
      "execution_count": 22,
      "outputs": []
    },
    {
      "cell_type": "code",
      "source": [
        "from sklearn.model_selection import train_test_split\n",
        "bankTrainX, bankTestX, bankTrainY, bankTestY = train_test_split(newXData, newYData, test_size=0.30, random_state=0)"
      ],
      "metadata": {
        "id": "GWW8hPuxZrt7"
      },
      "execution_count": 23,
      "outputs": []
    },
    {
      "cell_type": "code",
      "source": [
        "bankTrainData = bankTrainX[:]\n",
        "bankTrainData['Decision'] = bankTrainY[:]\n",
        "print(bankTrainData)"
      ],
      "metadata": {
        "colab": {
          "base_uri": "https://localhost:8080/"
        },
        "id": "3zMC28tBZugl",
        "outputId": "f5ce7558-c531-4f27-ee8b-f8e1e1db24a8"
      },
      "execution_count": 24,
      "outputs": [
        {
          "output_type": "stream",
          "name": "stdout",
          "text": [
            "      age  job  marital  education  default  balance  housing  loan  contact  \\\n",
            "565    40    9        1          1        0       56        1     1        0   \n",
            "3480   47    7        1          1        0      440        1     0        2   \n",
            "2125   52    9        1          1        0     3554        0     1        0   \n",
            "3452   31    0        1          1        0        0        1     0        0   \n",
            "1667   33    1        1          1        0     -346        1     1        2   \n",
            "...   ...  ...      ...        ...      ...      ...      ...   ...      ...   \n",
            "1033   29    9        2          1        0      534        1     0        0   \n",
            "3264   36    4        2          2        0      613        0     0        0   \n",
            "1653   53    1        1          0        0      306        0     0        0   \n",
            "2607   32    1        1          0        0      642        0     1        0   \n",
            "2732   45    9        1          0        0     -322        0     0        2   \n",
            "\n",
            "      day  month  duration  campaign  pdays  previous  poutcome  Decision  \n",
            "565    29      4       194         1    247         1         0         0  \n",
            "3480   12      6        91         1     -1         0         3         0  \n",
            "2125    8      5        89         1     -1         0         3         0  \n",
            "3452   29      5        82         5     -1         0         3         0  \n",
            "1667   23      8        29         3     -1         0         3         0  \n",
            "...   ...    ...       ...       ...    ...       ...       ...       ...  \n",
            "1033   18      8       382         1     -1         0         3         0  \n",
            "3264    7      1        86         2     -1         0         3         0  \n",
            "1653   28      5       388         3    181         1         2         1  \n",
            "2607    8      5       524         1     -1         0         3         0  \n",
            "2732    9      6       225         2     -1         0         3         0  \n",
            "\n",
            "[3164 rows x 17 columns]\n"
          ]
        },
        {
          "output_type": "stream",
          "name": "stderr",
          "text": [
            "<ipython-input-24-0c2bc63b1582>:2: SettingWithCopyWarning: \n",
            "A value is trying to be set on a copy of a slice from a DataFrame.\n",
            "Try using .loc[row_indexer,col_indexer] = value instead\n",
            "\n",
            "See the caveats in the documentation: https://pandas.pydata.org/pandas-docs/stable/user_guide/indexing.html#returning-a-view-versus-a-copy\n",
            "  bankTrainData['Decision'] = bankTrainY[:]\n"
          ]
        }
      ]
    },
    {
      "cell_type": "code",
      "source": [
        "from sklearn.tree import DecisionTreeClassifier\n",
        "from sklearn.metrics import accuracy_score\n",
        "\n",
        "def gridSearchAccuracy(AlgoNum):\n",
        "  cparameterList = [2, 5, 8, 11, 14, 17, 20, 23, 26, 29]\n",
        "  DTreeAccuracyList = []\n",
        "  DTreeTrainAccuracyList = []\n",
        "  DTreeAccuracy = []\n",
        "  if(AlgoNum==1):\n",
        "    for i in range(len(cparameterList)):\n",
        "      DTreeClassifier = DecisionTreeClassifier(random_state=0, criterion='entropy',max_depth=cparameterList[i])\n",
        "      DTreeClassifier.fit(bankTrainX, bankTrainY)\n",
        "      outTrainY = DTreeClassifier.predict(bankTrainX)\n",
        "      outY = DTreeClassifier.predict(bankTestX)\n",
        "      DTreeTrainAccuracyList.append(accuracy_score(outTrainY, bankTrainY))\n",
        "      DTreeAccuracyList.append(accuracy_score(outY, bankTestY))\n",
        "  elif(AlgoNum==2):\n",
        "    for i in range(len(cparameterList)):\n",
        "      DTreeClassifier = DecisionTreeClassifier(random_state=0, criterion='entropy',max_depth=cparameterList[i], splitter = 'random')\n",
        "      DTreeClassifier.fit(bankTrainX, bankTrainY)\n",
        "      outTrainY = DTreeClassifier.predict(bankTrainX)\n",
        "      outY = DTreeClassifier.predict(bankTestX)\n",
        "      DTreeTrainAccuracyList.append(accuracy_score(outTrainY, bankTrainY))\n",
        "      DTreeAccuracyList.append(accuracy_score(outY, bankTestY))\n",
        "  elif(AlgoNum==3):\n",
        "    for i in range(len(cparameterList)):\n",
        "      DTreeClassifier = DecisionTreeClassifier(random_state=0, criterion='entropy',max_depth=cparameterList[i], splitter = 'best')\n",
        "      DTreeClassifier.fit(bankTrainX, bankTrainY)\n",
        "      outTrainY = DTreeClassifier.predict(bankTrainX)\n",
        "      outY = DTreeClassifier.predict(bankTestX)\n",
        "      DTreeTrainAccuracyList.append(accuracy_score(outTrainY, bankTrainY))\n",
        "      DTreeAccuracyList.append(accuracy_score(outY, bankTestY))\n",
        "  else:\n",
        "    for i in range(len(cparameterList)):\n",
        "      DTreeClassifier = DecisionTreeClassifier(random_state=0, criterion='gini',max_depth=cparameterList[i], splitter = 'best')\n",
        "      DTreeClassifier.fit(bankTrainX, bankTrainY)\n",
        "      outTrainY = DTreeClassifier.predict(bankTrainX)\n",
        "      outY = DTreeClassifier.predict(bankTestX)\n",
        "      DTreeTrainAccuracyList.append(accuracy_score(outTrainY, bankTrainY))\n",
        "      DTreeAccuracyList.append(accuracy_score(outY, bankTestY))\n",
        "  DTreeAccuracy.append(DTreeTrainAccuracyList)\n",
        "  DTreeAccuracy.append(DTreeAccuracyList)\n",
        "  return DTreeAccuracy"
      ],
      "metadata": {
        "id": "yGZDmdCmZzNF"
      },
      "execution_count": 40,
      "outputs": []
    },
    {
      "cell_type": "code",
      "source": [
        "ID3AccuracyList = gridSearchAccuracy(1)\n",
        "C45AccuracyList = gridSearchAccuracy(2)\n",
        "C50AccuracyList = gridSearchAccuracy(3)\n",
        "CARTAccuracyList = gridSearchAccuracy(4)"
      ],
      "metadata": {
        "id": "k6vw4PnpZ1tY"
      },
      "execution_count": 41,
      "outputs": []
    },
    {
      "cell_type": "code",
      "source": [
        "ID3DF = pd.DataFrame(columns=['max depth', 'train accuracy', 'test accuracy'])\n",
        "ID3DF['max depth'] = [2, 5, 8, 11, 14, 17, 20, 23, 26, 29]\n",
        "ID3DF['train accuracy'] = ID3AccuracyList[0]\n",
        "ID3DF['test accuracy'] = ID3AccuracyList[1]\n",
        "print(ID3DF)"
      ],
      "metadata": {
        "colab": {
          "base_uri": "https://localhost:8080/"
        },
        "id": "qtqXY5ZtmGNA",
        "outputId": "b8e60997-77b9-43c7-f543-ead2f7798322"
      },
      "execution_count": 43,
      "outputs": [
        {
          "output_type": "stream",
          "name": "stdout",
          "text": [
            "   max depth  train accuracy  test accuracy\n",
            "0          2        0.888116       0.876934\n",
            "1          5        0.906764       0.879145\n",
            "2          8        0.935841       0.879145\n",
            "3         11        0.961441       0.865144\n",
            "4         14        0.977244       0.863670\n",
            "5         17        0.991783       0.854827\n",
            "6         20        0.995891       0.859985\n",
            "7         23        0.998736       0.858511\n",
            "8         26        1.000000       0.861459\n",
            "9         29        1.000000       0.861459\n"
          ]
        }
      ]
    },
    {
      "cell_type": "code",
      "source": [
        "C45DF = pd.DataFrame(columns=['max depth', 'train accuracy', 'test accuracy'])\n",
        "C45DF['max depth'] = [2, 5, 8, 11, 14, 17, 20, 23, 26, 29]\n",
        "C45DF['train accuracy'] = C45AccuracyList[0]\n",
        "C45DF['test accuracy'] = C45AccuracyList[1]\n",
        "print(C45DF)"
      ],
      "metadata": {
        "colab": {
          "base_uri": "https://localhost:8080/"
        },
        "id": "2ppoL4WvnBKp",
        "outputId": "8df2d53a-34d2-48c9-b48f-3ef4bc176652"
      },
      "execution_count": 44,
      "outputs": [
        {
          "output_type": "stream",
          "name": "stdout",
          "text": [
            "   max depth  train accuracy  test accuracy\n",
            "0          2        0.889064       0.876934\n",
            "1          5        0.899178       0.890936\n",
            "2          8        0.919406       0.888725\n",
            "3         11        0.942794       0.885777\n",
            "4         14        0.966814       0.873250\n",
            "5         17        0.987042       0.862933\n",
            "6         20        0.994943       0.862196\n",
            "7         23        0.998104       0.861459\n",
            "8         26        1.000000       0.858511\n",
            "9         29        1.000000       0.858511\n"
          ]
        }
      ]
    },
    {
      "cell_type": "code",
      "source": [
        "C50DF = pd.DataFrame(columns=['max depth', 'train accuracy', 'test accuracy'])\n",
        "C50DF['max depth'] = [2, 5, 8, 11, 14, 17, 20, 23, 26, 29]\n",
        "C50DF['train accuracy'] = C50AccuracyList[0]\n",
        "C50DF['test accuracy'] = C50AccuracyList[1]\n",
        "print(C50DF)"
      ],
      "metadata": {
        "colab": {
          "base_uri": "https://localhost:8080/"
        },
        "id": "WJVcVxeenJZu",
        "outputId": "0a1892ac-dbd2-47b8-c97d-f848136a4767"
      },
      "execution_count": 45,
      "outputs": [
        {
          "output_type": "stream",
          "name": "stdout",
          "text": [
            "   max depth  train accuracy  test accuracy\n",
            "0          2        0.888116       0.876934\n",
            "1          5        0.906764       0.879145\n",
            "2          8        0.935841       0.879145\n",
            "3         11        0.961441       0.865144\n",
            "4         14        0.977244       0.863670\n",
            "5         17        0.991783       0.854827\n",
            "6         20        0.995891       0.859985\n",
            "7         23        0.998736       0.858511\n",
            "8         26        1.000000       0.861459\n",
            "9         29        1.000000       0.861459\n"
          ]
        }
      ]
    },
    {
      "cell_type": "code",
      "source": [
        "CARTDF = pd.DataFrame(columns=['max depth', 'train accuracy', 'test accuracy'])\n",
        "CARTDF['max depth'] = [2, 5, 8, 11, 14, 17, 20, 23, 26, 29]\n",
        "CARTDF['train accuracy'] = CARTAccuracyList[0]\n",
        "CARTDF['test accuracy'] = CARTAccuracyList[1]\n",
        "print(CARTDF)"
      ],
      "metadata": {
        "colab": {
          "base_uri": "https://localhost:8080/"
        },
        "id": "2ZeG5pZ6nSrC",
        "outputId": "97ee9388-c54d-450f-d5b3-18696fa1da84"
      },
      "execution_count": 46,
      "outputs": [
        {
          "output_type": "stream",
          "name": "stdout",
          "text": [
            "   max depth  train accuracy  test accuracy\n",
            "0          2        0.895070       0.878408\n",
            "1          5        0.920986       0.885041\n",
            "2          8        0.954172       0.880619\n",
            "3         11        0.973767       0.867354\n",
            "4         14        0.989886       0.860722\n",
            "5         17        0.997788       0.862196\n",
            "6         20        1.000000       0.862933\n",
            "7         23        1.000000       0.862933\n",
            "8         26        1.000000       0.862933\n",
            "9         29        1.000000       0.862933\n"
          ]
        }
      ]
    },
    {
      "cell_type": "code",
      "source": [
        "def ccpp(ccppalphas, algoNum):\n",
        "  trainTestAccuracyList = []\n",
        "  trainAccuracyList = []\n",
        "  testAccuracyList = []\n",
        "  if(algoNum==1):\n",
        "    for i in range(len(ccppalphas)):\n",
        "      ccppTree = DecisionTreeClassifier(random_state=0, criterion='entropy', ccp_alpha = ccppalphas[i])\n",
        "      ccppTree.fit(bankTrainX, bankTrainY)\n",
        "      trainPred = ccppTree.predict(bankTrainX)\n",
        "      testPred = ccppTree.predict(bankTestX)\n",
        "      trainAccuracyList.append(accuracy_score(trainPred, bankTrainY))\n",
        "      testAccuracyList.append(accuracy_score(testPred, bankTestY))\n",
        "  elif(algoNum==2):\n",
        "    for i in range(len(ccppalphas)):\n",
        "      ccppTree = DecisionTreeClassifier(random_state=0, criterion='entropy', splitter = 'random', ccp_alpha = ccppalphas[i])\n",
        "      ccppTree.fit(bankTrainX, bankTrainY)\n",
        "      trainPred = ccppTree.predict(bankTrainX)\n",
        "      testPred = ccppTree.predict(bankTestX)\n",
        "      trainAccuracyList.append(accuracy_score(trainPred, bankTrainY))\n",
        "      testAccuracyList.append(accuracy_score(testPred, bankTestY))\n",
        "  elif(algoNum==3):\n",
        "    for i in range(len(ccppalphas)):\n",
        "      ccppTree = DecisionTreeClassifier(random_state=0, criterion='entropy', splitter = 'best', ccp_alpha = ccppalphas[i])\n",
        "      ccppTree.fit(bankTrainX, bankTrainY)\n",
        "      trainPred = ccppTree.predict(bankTrainX)\n",
        "      testPred = ccppTree.predict(bankTestX)\n",
        "      trainAccuracyList.append(accuracy_score(trainPred, bankTrainY))\n",
        "      testAccuracyList.append(accuracy_score(testPred, bankTestY))\n",
        "  else:\n",
        "    for i in range(len(ccppalphas)):\n",
        "      ccppTree = DecisionTreeClassifier(random_state=0, criterion='gini', splitter = 'best', ccp_alpha = ccppalphas[i])\n",
        "      ccppTree.fit(bankTrainX, bankTrainY)\n",
        "      trainPred = ccppTree.predict(bankTrainX)\n",
        "      testPred = ccppTree.predict(bankTestX)\n",
        "      trainAccuracyList.append(accuracy_score(trainPred, bankTrainY))\n",
        "      testAccuracyList.append(accuracy_score(testPred, bankTestY))\n",
        "  trainTestAccuracyList.append(trainAccuracyList)\n",
        "  trainTestAccuracyList.append(testAccuracyList)\n",
        "  return trainTestAccuracyList"
      ],
      "metadata": {
        "id": "6xzcLBtrg6Ro"
      },
      "execution_count": 36,
      "outputs": []
    },
    {
      "cell_type": "code",
      "source": [
        "from sklearn.tree import DecisionTreeClassifier\n",
        "from sklearn.metrics import accuracy_score\n",
        "\n",
        "ID3CCPPTree = DecisionTreeClassifier(random_state=0, criterion='entropy')\n",
        "ID3CCPPTree.fit(bankTrainX, bankTrainY)\n",
        "ID3Path = ID3CCPPTree.cost_complexity_pruning_path(bankTrainX, bankTrainY)\n",
        "ID3Alphas = ID3Path['ccp_alphas']\n",
        "print(len(ID3Alphas))\n",
        "\n",
        "C45CCPPTree = DecisionTreeClassifier(random_state=0, criterion='entropy', splitter = 'random')\n",
        "C45CCPPTree.fit(bankTrainX, bankTrainY)\n",
        "C45Path = C45CCPPTree.cost_complexity_pruning_path(bankTrainX, bankTrainY)\n",
        "C45Alphas = C45Path['ccp_alphas']\n",
        "print(len(C45Alphas))\n",
        "\n",
        "C50CCPPTree = DecisionTreeClassifier(random_state=0, criterion='entropy', splitter = 'best')\n",
        "C50CCPPTree.fit(bankTrainX, bankTrainY)\n",
        "C50Path = C50CCPPTree.cost_complexity_pruning_path(bankTrainX, bankTrainY)\n",
        "C50Alphas = C50Path['ccp_alphas']\n",
        "print(len(C50Alphas))\n",
        "\n",
        "CARTCCPPTree = DecisionTreeClassifier(random_state=0, criterion='gini', splitter = 'best')\n",
        "CARTCCPPTree.fit(bankTrainX, bankTrainY)\n",
        "CARTPath = CARTCCPPTree.cost_complexity_pruning_path(bankTrainX, bankTrainY)\n",
        "CARTAlphas = CARTPath['ccp_alphas']\n",
        "print(len(CARTAlphas))"
      ],
      "metadata": {
        "colab": {
          "base_uri": "https://localhost:8080/"
        },
        "id": "kMBYKnIZchuj",
        "outputId": "1e0f3ea2-2099-4954-ec13-4e028dacb04e"
      },
      "execution_count": 37,
      "outputs": [
        {
          "output_type": "stream",
          "name": "stdout",
          "text": [
            "151\n",
            "146\n",
            "151\n",
            "126\n"
          ]
        }
      ]
    },
    {
      "cell_type": "code",
      "source": [
        "ID3CCPPAccuracyList = ccpp(ID3Alphas, 1)\n",
        "C45CCPPAccuracyList = ccpp(C45Alphas, 2)\n",
        "C50CCPPAccuracyList = ccpp(C50Alphas, 3)\n",
        "CARTCCPPAccuracyList = ccpp(CARTAlphas, 4)"
      ],
      "metadata": {
        "id": "mtvcTSWWaLu3"
      },
      "execution_count": 39,
      "outputs": []
    },
    {
      "cell_type": "code",
      "source": [
        "ID3CCPPDF = pd.DataFrame(columns=['alphas', 'train accuracy', 'test accuracy'])\n",
        "ID3CCPPDF['alphas'] = ID3Alphas\n",
        "ID3CCPPDF['train accuracy'] = ID3CCPPAccuracyList[0]\n",
        "ID3CCPPDF['test accuracy'] = ID3CCPPAccuracyList[1]\n",
        "print(ID3CCPPDF.max()[2])\n",
        "print(ID3CCPPDF)"
      ],
      "metadata": {
        "colab": {
          "base_uri": "https://localhost:8080/"
        },
        "id": "yClSCTUolanO",
        "outputId": "1d5f1a01-0165-4f46-9940-cf8154997810"
      },
      "execution_count": 73,
      "outputs": [
        {
          "output_type": "stream",
          "name": "stdout",
          "text": [
            "0.8887251289609432\n",
            "       alphas  train accuracy  test accuracy\n",
            "0    0.000000        1.000000       0.861459\n",
            "1    0.000632        0.996523       0.862933\n",
            "2    0.000632        0.996523       0.862933\n",
            "3    0.000632        0.996523       0.862933\n",
            "4    0.000632        0.996523       0.862933\n",
            "..        ...             ...            ...\n",
            "146  0.008194        0.888116       0.876934\n",
            "147  0.008634        0.888116       0.876934\n",
            "148  0.014864        0.888116       0.876934\n",
            "149  0.025612        0.888116       0.876934\n",
            "150  0.069559        0.888116       0.876934\n",
            "\n",
            "[151 rows x 3 columns]\n"
          ]
        }
      ]
    },
    {
      "cell_type": "code",
      "source": [
        "C45CCPPDF = pd.DataFrame(columns=['alphas', 'train accuracy', 'test accuracy'])\n",
        "C45CCPPDF['alphas'] = list(C45Alphas)\n",
        "C45CCPPDF['train accuracy'] = C45CCPPAccuracyList[0]\n",
        "C45CCPPDF['test accuracy'] = C45CCPPAccuracyList[1]\n",
        "print(C45CCPPDF.max()[2])\n",
        "print(C45CCPPDF)"
      ],
      "metadata": {
        "colab": {
          "base_uri": "https://localhost:8080/"
        },
        "id": "LobhdBJ8n0hu",
        "outputId": "56bdc3b4-9b9f-454a-c22b-063d200bfe08"
      },
      "execution_count": 77,
      "outputs": [
        {
          "output_type": "stream",
          "name": "stdout",
          "text": [
            "0.8960943257184967\n",
            "       alphas  train accuracy  test accuracy\n",
            "0    0.000000        1.000000       0.858511\n",
            "1    0.000380        0.999684       0.858511\n",
            "2    0.000421        0.999052       0.858511\n",
            "3    0.000435        0.998420       0.857775\n",
            "4    0.000435        0.998420       0.857775\n",
            "..        ...             ...            ...\n",
            "141  0.006217        0.894753       0.885777\n",
            "142  0.007612        0.894753       0.885777\n",
            "143  0.007756        0.894437       0.885041\n",
            "144  0.017391        0.888116       0.876934\n",
            "145  0.018166        0.888116       0.876934\n",
            "\n",
            "[146 rows x 3 columns]\n"
          ]
        }
      ]
    },
    {
      "cell_type": "code",
      "source": [
        "C50CCPPDF = pd.DataFrame(columns=['alphas', 'train accuracy', 'test accuracy'])\n",
        "C50CCPPDF['alphas'] = list(C50Alphas)\n",
        "C50CCPPDF['train accuracy'] = C50CCPPAccuracyList[0]\n",
        "C50CCPPDF['test accuracy'] = C50CCPPAccuracyList[1]\n",
        "print(C50CCPPDF.max()[2])\n",
        "print(C50CCPPDF)"
      ],
      "metadata": {
        "colab": {
          "base_uri": "https://localhost:8080/"
        },
        "id": "HJaysxo2oOho",
        "outputId": "84a06817-8f26-4934-eb4e-cd8b135c5c0f"
      },
      "execution_count": 78,
      "outputs": [
        {
          "output_type": "stream",
          "name": "stdout",
          "text": [
            "0.8887251289609432\n",
            "       alphas  train accuracy  test accuracy\n",
            "0    0.000000        1.000000       0.861459\n",
            "1    0.000632        0.996523       0.862933\n",
            "2    0.000632        0.996523       0.862933\n",
            "3    0.000632        0.996523       0.862933\n",
            "4    0.000632        0.996523       0.862933\n",
            "..        ...             ...            ...\n",
            "146  0.008194        0.888116       0.876934\n",
            "147  0.008634        0.888116       0.876934\n",
            "148  0.014864        0.888116       0.876934\n",
            "149  0.025612        0.888116       0.876934\n",
            "150  0.069559        0.888116       0.876934\n",
            "\n",
            "[151 rows x 3 columns]\n"
          ]
        }
      ]
    },
    {
      "cell_type": "code",
      "source": [
        "CARTCCPPDF = pd.DataFrame(columns=['alphas', 'train accuracy', 'test accuracy'])\n",
        "CARTCCPPDF['alphas'] = list(CARTAlphas)\n",
        "CARTCCPPDF['train accuracy'] = CARTCCPPAccuracyList[0]\n",
        "CARTCCPPDF['test accuracy'] = CARTCCPPAccuracyList[1]\n",
        "print(CARTCCPPDF.max()[2])\n",
        "print(CARTCCPPDF)"
      ],
      "metadata": {
        "colab": {
          "base_uri": "https://localhost:8080/"
        },
        "id": "UAk4poVdo9y8",
        "outputId": "1fe42655-5454-4add-ce08-3b95d3617030"
      },
      "execution_count": 79,
      "outputs": [
        {
          "output_type": "stream",
          "name": "stdout",
          "text": [
            "0.8894620486366986\n",
            "       alphas  train accuracy  test accuracy\n",
            "0    0.000000        1.000000       0.862933\n",
            "1    0.000158        0.999684       0.862933\n",
            "2    0.000204        0.999368       0.862196\n",
            "3    0.000205        0.999052       0.862933\n",
            "4    0.000209        0.998736       0.862933\n",
            "..        ...             ...            ...\n",
            "121  0.003055        0.897914       0.888725\n",
            "122  0.003439        0.896966       0.889462\n",
            "123  0.006888        0.888116       0.876934\n",
            "124  0.007599        0.888116       0.876934\n",
            "125  0.024644        0.888116       0.876934\n",
            "\n",
            "[126 rows x 3 columns]\n"
          ]
        }
      ]
    },
    {
      "cell_type": "code",
      "source": [
        "import pandas as pd\n",
        "\n",
        "carDekhoDataX = pd.read_csv('/content/drive/MyDrive/car data.csv')\n",
        "carDekhoDataY = carDekhoDataX['Selling_Price']\n",
        "del carDekhoDataX['Selling_Price']\n",
        "carDekhoDataX[\"Fuel_Type\"].replace({'Petrol':2, 'Diesel':3, 'CNG':4},inplace = True)\n",
        "carDekhoDataX[\"Seller_Type\"].replace({'Dealer':2, 'Individual':3}, inplace = True)\n",
        "carDekhoDataX[\"Transmission\"].replace({'Manual':2, 'Automatic':3}, inplace = True)\n",
        "carDekhoDataX.drop(\"Car_Name\", axis=1, inplace = True)\n",
        "maxValues = carDekhoDataX.max()\n",
        "carDekhoDataX['Year'] = carDekhoDataX['Year'].div(maxValues[0])\n",
        "carDekhoDataX['Present_Price'] = carDekhoDataX['Present_Price'].div(maxValues[1])\n",
        "carDekhoDataX['Kms_Driven'] = carDekhoDataX['Kms_Driven'].div(maxValues[2])\n",
        "carDekhoDataX['Fuel_Type'] = carDekhoDataX['Fuel_Type'].div(maxValues[3])\n",
        "carDekhoDataX['Seller_Type'] = carDekhoDataX['Seller_Type'].div(maxValues[4])\n",
        "carDekhoDataX['Transmission'] = carDekhoDataX['Transmission'].div(maxValues[5])\n",
        "carDekhoDataX['Owner'] = carDekhoDataX['Owner'].div(maxValues[6])\n",
        "maxVal = carDekhoDataY.max()\n",
        "for i in range(carDekhoDataY.shape[0]):\n",
        "  carDekhoDataY.iloc[i] = carDekhoDataY.iloc[i]/maxVal\n",
        "print(carDekhoDataY)"
      ],
      "metadata": {
        "colab": {
          "base_uri": "https://localhost:8080/"
        },
        "id": "t51k-EOzpMsJ",
        "outputId": "094ab977-e930-4a07-e3b8-622836916e1d"
      },
      "execution_count": 61,
      "outputs": [
        {
          "output_type": "stream",
          "name": "stdout",
          "text": [
            "0      0.095714\n",
            "1      0.135714\n",
            "2      0.207143\n",
            "3      0.081429\n",
            "4      0.131429\n",
            "         ...   \n",
            "296    0.271429\n",
            "297    0.114286\n",
            "298    0.095714\n",
            "299    0.328571\n",
            "300    0.151429\n",
            "Name: Selling_Price, Length: 301, dtype: float64\n"
          ]
        }
      ]
    },
    {
      "cell_type": "code",
      "source": [
        "from sklearn.model_selection import train_test_split\n",
        "\n",
        "trainX, testX, trainY, testY = train_test_split(carDekhoDataX, carDekhoDataY, test_size=0.2, random_state=0)"
      ],
      "metadata": {
        "id": "XI6xsbLCpQx8"
      },
      "execution_count": 62,
      "outputs": []
    },
    {
      "cell_type": "code",
      "source": [
        "def LassogradientDescent(theta, trainX, trainY, learningRate, pmLambda):    \n",
        "  m = trainX.shape[0]\n",
        "  n = trainX.shape[1]\n",
        "  grad = 0\n",
        "  for i in range(m):\n",
        "    tempSum2 = theta[0]\n",
        "    for j in range(n):\n",
        "      tempSum2 = tempSum2 + trainX.iloc[i, j]*theta[j+1]\n",
        "    grad = grad + (tempSum2-trainY.iloc[i])\n",
        "  grad = grad/m\n",
        "  theta[0] = theta[0] - learningRate*grad\n",
        "  \n",
        "  for i in range(1, n):\n",
        "    grad = 0\n",
        "    for j in range(m):\n",
        "      tempSum2 = theta[0]\n",
        "      for k in range(n):\n",
        "        tempSum2 = tempSum2 + trainX.iloc[j, k]*theta[k+1]\n",
        "      grad = grad + trainX.iloc[j,i]*(tempSum2-trainY.iloc[j])\n",
        "    grad = grad/m\n",
        "\n",
        "    if(theta[i]<0):\n",
        "      grad = grad - (pmLambda/2*m)\n",
        "    else:\n",
        "      grad = grad + (pmLambda/2*m)\n",
        "\n",
        "    theta[i] = theta[i] - learningRate*grad\n",
        "  return theta"
      ],
      "metadata": {
        "id": "iuDWwsYDpUPm"
      },
      "execution_count": 63,
      "outputs": []
    },
    {
      "cell_type": "code",
      "source": [
        "learningRate = 0.05\n",
        "epochs = 100\n",
        "bestMSE = 1000000000\n",
        "bestLambda = -1\n",
        "\n",
        "for k in range(0, 10):\n",
        "  theta = []\n",
        "  for i in range(trainX.shape[1]+1):\n",
        "    theta.append(0)\n",
        "  for i in range(epochs):\n",
        "    updatedTheta = LassogradientDescent(theta, trainX, trainY, learningRate, 0.05*k)\n",
        "    for j in range(len(updatedTheta)):\n",
        "      theta[j] = updatedTheta[j]\n",
        "\n",
        "  predicted = []\n",
        "  for i in range(testX.shape[0]):\n",
        "    yPred = theta[0]\n",
        "    for j in range(testX.shape[1]):\n",
        "      yPred = yPred + theta[j+1]*testX.iloc[i,j]\n",
        "    predicted.append(yPred)\n",
        "  MSETemp = 0\n",
        "  for i in range(len(predicted)):\n",
        "    MSETemp = MSETemp + (predicted[i]-testY.iloc[i])**2\n",
        "  MSETemp = MSETemp/len(predicted)\n",
        "  if(MSETemp<bestMSE):\n",
        "    bestMSE = MSETemp\n",
        "    bestLambda = k\n",
        "\n",
        "for i in range(epochs):\n",
        "  updatedTheta = LassogradientDescent(theta, trainX, trainY, learningRate, bestLambda*0.05)\n",
        "  for j in range(len(updatedTheta)):\n",
        "    theta[j] = updatedTheta[j]\n",
        "predicted = []\n",
        "for i in range(testX.shape[0]):\n",
        "  yPred = theta[0]\n",
        "  for j in range(testX.shape[1]):\n",
        "    yPred = yPred + theta[j+1]*testX.iloc[i,j]\n",
        "  predicted.append(yPred)\n",
        "\n",
        "print(\"best MSE\", bestMSE)\n",
        "print(predicted)\n",
        "print(testY)"
      ],
      "metadata": {
        "colab": {
          "base_uri": "https://localhost:8080/"
        },
        "id": "X57xdGFapU6C",
        "outputId": "333b7eeb-9ad4-4fef-b8e2-fb22ef8c9999"
      },
      "execution_count": 65,
      "outputs": [
        {
          "output_type": "stream",
          "name": "stdout",
          "text": [
            "best MSE 0.023077623856955203\n",
            "[0.07651606368091982, 0.1622637356140981, 0.12831489159145712, 0.07234850640895255, 0.07008189105329078, 0.12507468262099183, 0.13017963080049785, 0.1617934240777498, 0.12839447428588585, 0.13113873074762597, 0.12720102229965088, 0.16182054718879205, 0.12769931264220782, 0.1264688541175989, 0.07372775566090747, 0.12981054033799394, 0.12616041349166668, 0.13126995615675033, 0.16663191334784125, 0.16233719881863992, 0.13177503017811887, 0.12461811747404625, 0.12990899265460587, 0.13036250498637206, 0.17161882459835667, 0.16269654408208697, 0.1746228711113488, 0.16581436351730897, 0.163667923479314, 0.13721015711169288, 0.074641348934541, 0.07416170080680726, 0.16602198647171998, 0.06909856154878927, 0.13700903965642477, 0.16345121823274303, 0.127444590062722, 0.07223035334161212, 0.1655232060269801, 0.07804778104054783, 0.06631231913828142, 0.07916528971878763, 0.12469588698905101, 0.13073814197145958, 0.07308673513047476, 0.07328121373382085, 0.1666973831916196, 0.16287082364250352, 0.13463857090618372, 0.07127413807642455, 0.12698053395960662, 0.1258621910667909, 0.13556813331745668, 0.08034232121499067, 0.16511854919491373, 0.16644272094487797, 0.1642478482635273, 0.13333360957305682, 0.13362280543556956, 0.16521618387669698, 0.13865871584277714]\n",
            "223    0.235714\n",
            "150    0.014286\n",
            "226    0.150000\n",
            "296    0.271429\n",
            "52     0.514286\n",
            "         ...   \n",
            "137    0.018571\n",
            "227    0.072857\n",
            "26     0.118571\n",
            "106    0.038571\n",
            "92     0.100286\n",
            "Name: Selling_Price, Length: 61, dtype: float64\n"
          ]
        }
      ]
    },
    {
      "cell_type": "code",
      "source": [
        "def RidgegradientDescent(theta, trainX, trainY, learningRate, pmLambda):    \n",
        "  m = trainX.shape[0]\n",
        "  n = trainX.shape[1]\n",
        "  grad = 0\n",
        "  for i in range(m):\n",
        "    tempSum2 = theta[0]\n",
        "    for j in range(n):\n",
        "      tempSum2 = tempSum2 + trainX.iloc[i, j]*theta[j+1]\n",
        "    grad = grad + (tempSum2-trainY.iloc[i])\n",
        "  grad = grad/m\n",
        "  theta[0] = theta[0] - learningRate*grad\n",
        "  \n",
        "  for i in range(1, n):\n",
        "    grad = 0\n",
        "    for j in range(m):\n",
        "      tempSum2 = theta[0]\n",
        "      for k in range(n):\n",
        "        tempSum2 = tempSum2 + trainX.iloc[j, k]*theta[k+1]\n",
        "      grad = grad + trainX.iloc[j,i]*(tempSum2-trainY.iloc[j])\n",
        "    grad = grad/m\n",
        "\n",
        "    grad = grad + pmLambda*theta[i]/m\n",
        "\n",
        "    theta[i] = theta[i] - learningRate*grad\n",
        "  return theta"
      ],
      "metadata": {
        "id": "dXNkUlbKpYAX"
      },
      "execution_count": 64,
      "outputs": []
    },
    {
      "cell_type": "code",
      "source": [
        "learningRate = 0.05\n",
        "epochs = 100\n",
        "bestMSE = 1000000000\n",
        "bestLambda = -1\n",
        "\n",
        "for k in range(0, 10):\n",
        "  theta = []\n",
        "  for i in range(trainX.shape[1]+1):\n",
        "    theta.append(0)\n",
        "  for i in range(epochs):\n",
        "    updatedTheta = RidgegradientDescent(theta, trainX, trainY, learningRate, 0.05*k)\n",
        "    for j in range(len(updatedTheta)):\n",
        "      theta[j] = updatedTheta[j]\n",
        "\n",
        "  predicted = []\n",
        "  for i in range(testX.shape[0]):\n",
        "    yPred = theta[0]\n",
        "    for j in range(testX.shape[1]):\n",
        "      yPred = yPred + theta[j+1]*testX.iloc[i,j]\n",
        "    predicted.append(yPred)\n",
        "  MSETemp = 0\n",
        "  for i in range(len(predicted)):\n",
        "    MSETemp = MSETemp + (predicted[i]-testY.iloc[i])**2\n",
        "  MSETemp = MSETemp/len(predicted)\n",
        "  if(MSETemp<bestMSE):\n",
        "    bestMSE = MSETemp\n",
        "    bestLambda = k\n",
        "\n",
        "for i in range(epochs):\n",
        "  updatedTheta = RidgegradientDescent(theta, trainX, trainY, learningRate, bestLambda*0.05)\n",
        "  for j in range(len(updatedTheta)):\n",
        "    theta[j] = updatedTheta[j]\n",
        "predicted2 = []\n",
        "for i in range(testX.shape[0]):\n",
        "  yPred = theta[0]\n",
        "  for j in range(testX.shape[1]):\n",
        "    yPred = yPred + theta[j+1]*testX.iloc[i,j]\n",
        "  predicted2.append(yPred)\n",
        "\n",
        "print(\"best MSE\", bestMSE)\n",
        "print(predicted2)\n",
        "print(testY)"
      ],
      "metadata": {
        "colab": {
          "base_uri": "https://localhost:8080/"
        },
        "id": "sujEkRR2pacp",
        "outputId": "5faeae32-025a-4630-9ca2-ab19f58cf184"
      },
      "execution_count": 66,
      "outputs": [
        {
          "output_type": "stream",
          "name": "stdout",
          "text": [
            "best MSE 0.02306972385605069\n",
            "[0.1053933311541067, 0.14704993109698603, 0.1298709482533586, 0.10054406268826199, 0.09376962561039452, 0.12648314857649384, 0.13157714617118052, 0.146454210885911, 0.1275077351780074, 0.1318380034913187, 0.1291998286796666, 0.14637302025735574, 0.1291705818495527, 0.12462778936099587, 0.10215824197666928, 0.12434091684845498, 0.12466793912877118, 0.13260937914415566, 0.15140478605114568, 0.14662001900030594, 0.13067188750597664, 0.12609492974620998, 0.12833005035010825, 0.12975675859372557, 0.1566445205617308, 0.14724936289578974, 0.15955404496091505, 0.1504204774239062, 0.1483858111387861, 0.1343354106907216, 0.10440213759970618, 0.10291665383732163, 0.1506873775496704, 0.09799460275605515, 0.13772637192398524, 0.14787208574455077, 0.1284090930979811, 0.10148187804795972, 0.15048262031423823, 0.10573175114406494, 0.09484473946971786, 0.09867299904294906, 0.1262125918299502, 0.13193227224631288, 0.10232959921950793, 0.10094386861902535, 0.15152048911630858, 0.147374982291923, 0.1352010919540002, 0.10030890875690598, 0.12461388446253917, 0.12769736348852803, 0.13627652294351858, 0.09982378224839124, 0.14955754669460022, 0.15094330961587668, 0.14898811379615304, 0.1354452582977348, 0.13526851371684198, 0.14920486962985993, 0.13854554367426672]\n",
            "223    0.235714\n",
            "150    0.014286\n",
            "226    0.150000\n",
            "296    0.271429\n",
            "52     0.514286\n",
            "         ...   \n",
            "137    0.018571\n",
            "227    0.072857\n",
            "26     0.118571\n",
            "106    0.038571\n",
            "92     0.100286\n",
            "Name: Selling_Price, Length: 61, dtype: float64\n"
          ]
        }
      ]
    },
    {
      "cell_type": "code",
      "source": [
        "import pandas as pd\n",
        "import matplotlib.pyplot as plt\n",
        "\n",
        "def euclideanDist(trainX, testX):\n",
        "  euclideanList = []\n",
        "  for i in range(testX.shape[0]):\n",
        "    tempDist = []\n",
        "    for j in range(trainX.shape[0]):\n",
        "      dist = 0\n",
        "      for k in range(trainX.shape[1]):\n",
        "        dist = dist + (trainX.iloc[j,k]-testX.iloc[i,k])**2\n",
        "      dist = dist**0.5\n",
        "      tempDist.append([j,dist])\n",
        "    euclideanList.append(tempDist)\n",
        "  return euclideanList\n",
        "\n",
        "def knearestMean(euclideanList, k, trainY):\n",
        "\tsortedEuclideanList = sorted(euclideanList, key=lambda x: (x[1]))\n",
        "\tsumm = 0\n",
        "\tfor i in range(k):\n",
        "\t\tsumm = summ + trainY.iloc[sortedEuclideanList[i][0]]\n",
        "\treturn summ/k\n",
        "\n",
        "ListOfEuclideans = euclideanDist(trainX, testX)\n",
        "\n",
        "predictionForEachK = []\n",
        "for k in range(1, 25):\n",
        "  predictions = []\n",
        "  for i in range(testX.shape[0]):\n",
        "    predictions.append(knearestMean(ListOfEuclideans[i], k, trainY))\n",
        "  predictionForEachK.append(predictions)\n",
        "\n",
        "\n",
        "MSEScoresForEachK = []\n",
        "for i in range(1, 25):\n",
        "  summ = 0\n",
        "  for j in range(testX.shape[0]):\n",
        "    summ = summ + (predictionForEachK[i-1][j]-testY.iloc[j])**2\n",
        "  summ = summ/testX.shape[0]\n",
        "  MSEScoresForEachK.append(summ)\n",
        "\n",
        "minMSE = 1000\n",
        "minMSEIdx = -1\n",
        "for i in range(len(MSEScoresForEachK)):\n",
        "  if(MSEScoresForEachK[i]<minMSE):\n",
        "    minMSE = MSEScoresForEachK[i]\n",
        "    minMSEIdx = i+1\n",
        "\n",
        "predicted3 = predictionForEachK[minMSEIdx-1]\n",
        "print(predicted3)\n",
        "xAxis = [i for i in range(1, 25)]\n",
        "plt.plot(xAxis, MSEScoresForEachK)\n",
        "plt.xlabel('K')\n",
        "plt.ylabel('MSE')\n",
        "plt.show()"
      ],
      "metadata": {
        "colab": {
          "base_uri": "https://localhost:8080/",
          "height": 541
        },
        "id": "1kHnlNnfpdOz",
        "outputId": "c0625fc4-7755-40fc-b71e-767b3ff83d6b"
      },
      "execution_count": 67,
      "outputs": [
        {
          "output_type": "stream",
          "name": "stdout",
          "text": [
            "[0.14500000000000002, 0.015, 0.11071428571428571, 0.2142857142857143, 0.625, 0.1457142857142857, 0.10857142857142857, 0.024285714285714285, 0.15071428571428575, 0.1492857142857143, 0.07142857142857142, 0.024285714285714285, 0.13285714285714284, 0.19428571428571428, 0.2142857142857143, 0.3192857142857143, 0.1607142857142857, 0.12142857142857141, 0.017142857142857144, 0.045714285714285714, 0.19285714285714284, 0.12857142857142856, 0.19285714285714284, 0.2621428571428571, 0.012142857142857143, 0.015, 0.012142857142857143, 0.013714285714285714, 0.012428571428571428, 0.2307142857142857, 0.10285714285714286, 0.1707142857142857, 0.015857142857142858, 0.19571428571428573, 0.13, 0.03214285714285715, 0.17142857142857143, 0.13642857142857143, 0.005714285714285714, 0.28285714285714286, 0.2835714285714286, 0.6571428571428571, 0.1457142857142857, 0.11428571428571428, 0.185, 0.3464285714285714, 0.015714285714285715, 0.020714285714285716, 0.1635714285714286, 0.14714285714285713, 0.3192857142857143, 0.08928571428571429, 0.10357142857142856, 0.6571428571428571, 0.032285714285714286, 0.013714285714285714, 0.01642857142857143, 0.08357142857142857, 0.1, 0.005714285714285714, 0.1407142857142857]\n"
          ]
        },
        {
          "output_type": "display_data",
          "data": {
            "text/plain": [
              "<Figure size 800x550 with 1 Axes>"
            ],
            "image/png": "[encoded data removed]"
          },
          "metadata": {}
        }
      ]
    },
    {
      "cell_type": "code",
      "source": [
        "from sklearn.tree import DecisionTreeRegressor\n",
        "from sklearn.metrics import mean_squared_error\n",
        "\n",
        "K = 101\n",
        "mserrorList = []\n",
        "for i in range(5, K, 5):\n",
        "  DTreeRegressor = DecisionTreeRegressor(random_state=0, max_depth = K)\n",
        "  DTreeRegressor.fit(trainX, trainY)\n",
        "  pred = DTreeRegressor.predict(testX)\n",
        "  mserror = mean_squared_error(pred, testY)\n",
        "  mserrorList.append(mserror)\n",
        "\n",
        "minMSE = 10000\n",
        "minMSEIdx = -1\n",
        "for i in range(len(mserrorList)):\n",
        "  if(mserrorList[i]<minMSE):\n",
        "    minMSE = mserrorList[i]\n",
        "    minMSEIdx = i\n",
        "\n",
        "DTreeRegressor = DecisionTreeRegressor(random_state=0, max_depth = minMSEIdx+2)\n",
        "DTreeRegressor.fit(trainX, trainY)\n",
        "predicted4 = DTreeRegressor.predict(testX)\n",
        "print(predicted4)"
      ],
      "metadata": {
        "colab": {
          "base_uri": "https://localhost:8080/"
        },
        "id": "W9Y2MwIqphTf",
        "outputId": "6757aa2e-167b-4019-f498-998e89755258"
      },
      "execution_count": 68,
      "outputs": [
        {
          "output_type": "stream",
          "name": "stdout",
          "text": [
            "[0.17325668 0.03126569 0.17325668 0.17325668 0.17325668 0.17325668\n",
            " 0.17325668 0.03126569 0.17325668 0.17325668 0.03126569 0.03126569\n",
            " 0.17325668 0.17325668 0.17325668 0.17325668 0.17325668 0.17325668\n",
            " 0.03126569 0.03126569 0.17325668 0.17325668 0.17325668 0.17325668\n",
            " 0.03126569 0.03126569 0.03126569 0.03126569 0.03126569 0.17325668\n",
            " 0.17325668 0.17325668 0.03126569 0.17325668 0.17325668 0.03126569\n",
            " 0.17325668 0.17325668 0.03126569 0.17325668 0.17325668 0.54964286\n",
            " 0.17325668 0.17325668 0.17325668 0.17325668 0.03126569 0.03126569\n",
            " 0.17325668 0.17325668 0.17325668 0.03126569 0.17325668 0.54964286\n",
            " 0.03126569 0.03126569 0.03126569 0.03126569 0.17325668 0.03126569\n",
            " 0.17325668]\n"
          ]
        }
      ]
    },
    {
      "cell_type": "code",
      "source": [
        "ensemblePred = []\n",
        "for i in range(testX.shape[0]):\n",
        "  avg = (predicted[i] + predicted2[i] + predicted3[i] + predicted4[i])/4\n",
        "  ensemblePred.append(avg)\n",
        "\n",
        "print(ensemblePred)\n",
        "mserror = mean_squared_error(ensemblePred, testY)\n",
        "print(\"MSE of ensembled output :\", mserror)"
      ],
      "metadata": {
        "colab": {
          "base_uri": "https://localhost:8080/"
        },
        "id": "t-P_eiOGplyX",
        "outputId": "d248b5c7-38c6-4e8e-a251-552efdc9e9fa"
      },
      "execution_count": 71,
      "outputs": [
        {
          "output_type": "stream",
          "name": "stdout",
          "text": [
            "[0.13653882806211926, 0.08383391454639692, 0.135241783193126, 0.15185650721935667, 0.25195559482071755, 0.1425837423986308, 0.13542829484130353, 0.08589450953553672, 0.1444600045333965, 0.14573061817956687, 0.0896467343026737, 0.08586314212410019, 0.14048186886905395, 0.15417041787555366, 0.15252225658680205, 0.18537445919303872, 0.14578339748254493, 0.13906649276564495, 0.0861799464648525, 0.09132566946027863, 0.15632199326945406, 0.13813517059956945, 0.15535269901220408, 0.17309573289581945, 0.08711179778756065, 0.08390274650253439, 0.08831357859303471, 0.08490776166106064, 0.08374459702568682, 0.16735425520291766, 0.12558772699090498, 0.14194389125633983, 0.0855531071691894, 0.14613862822801613, 0.14336578967020855, 0.08845337975506218, 0.14982254931011713, 0.13276202134080745, 0.08294501592601271, 0.1711731700149372, 0.16679531365352498, 0.35622723075401885, 0.14247211045951066, 0.1369993428960287, 0.1452606073696897, 0.18507009488946438, 0.08586339654462648, 0.0853877951182012, 0.1506996655760338, 0.13495782613342122, 0.1854293755109495, 0.09347415181425713, 0.13614344837002568, 0.35670291439719876, 0.08918923059198139, 0.08512418823236113, 0.08499124594162416, 0.09527578292943865, 0.134811048487613, 0.08241607031493765, 0.14641585983518593]\n",
            "MSE of ensembled output : 0.009527520046900204\n"
          ]
        }
      ]
    }
  ]
}